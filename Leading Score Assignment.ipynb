{
 "cells": [
  {
   "cell_type": "code",
   "execution_count": 1,
   "metadata": {},
   "outputs": [],
   "source": [
    "import pandas as pd\n",
    "import numpy as np\n",
    "import matplotlib.pyplot as plt \n",
    "import seaborn as sns\n",
    "from scipy.stats import norm \n",
    "import statistics \n",
    "from sklearn.model_selection import train_test_split\n",
    "#from sklearn.preprocessing import StandardScaler\n",
    "from sklearn.preprocessing import MinMaxScaler\n",
    "\n",
    "import statsmodels.api as sm\n",
    "from sklearn.linear_model import LogisticRegression\n",
    "from sklearn.feature_selection import RFE\n",
    "\n",
    "from sklearn import metrics\n",
    "from sklearn.metrics import confusion_matrix\n",
    "from sklearn.metrics import precision_recall_curve\n",
    "\n",
    "# Check for the VIF values of the feature variables. \n",
    "from statsmodels.stats.outliers_influence import variance_inflation_factor\n",
    "\n",
    "# Suppressing Warnings\n",
    "import warnings\n",
    "warnings.filterwarnings('ignore')"
   ]
  },
  {
   "cell_type": "markdown",
   "metadata": {},
   "source": [
    "# Importing and reading data in data frame"
   ]
  },
  {
   "cell_type": "code",
   "execution_count": 2,
   "metadata": {},
   "outputs": [],
   "source": [
    "#read the data in pandas data frame \n",
    "df = pd.read_csv(\"Leads.csv\")"
   ]
  },
  {
   "cell_type": "code",
   "execution_count": 3,
   "metadata": {},
   "outputs": [
    {
     "data": {
      "text/html": [
       "<div>\n",
       "<style scoped>\n",
       "    .dataframe tbody tr th:only-of-type {\n",
       "        vertical-align: middle;\n",
       "    }\n",
       "\n",
       "    .dataframe tbody tr th {\n",
       "        vertical-align: top;\n",
       "    }\n",
       "\n",
       "    .dataframe thead th {\n",
       "        text-align: right;\n",
       "    }\n",
       "</style>\n",
       "<table border=\"1\" class=\"dataframe\">\n",
       "  <thead>\n",
       "    <tr style=\"text-align: right;\">\n",
       "      <th></th>\n",
       "      <th>Prospect ID</th>\n",
       "      <th>Lead Number</th>\n",
       "      <th>Lead Origin</th>\n",
       "      <th>Lead Source</th>\n",
       "      <th>Do Not Email</th>\n",
       "      <th>Do Not Call</th>\n",
       "      <th>Converted</th>\n",
       "      <th>TotalVisits</th>\n",
       "      <th>Total Time Spent on Website</th>\n",
       "      <th>Page Views Per Visit</th>\n",
       "      <th>...</th>\n",
       "      <th>Get updates on DM Content</th>\n",
       "      <th>Lead Profile</th>\n",
       "      <th>City</th>\n",
       "      <th>Asymmetrique Activity Index</th>\n",
       "      <th>Asymmetrique Profile Index</th>\n",
       "      <th>Asymmetrique Activity Score</th>\n",
       "      <th>Asymmetrique Profile Score</th>\n",
       "      <th>I agree to pay the amount through cheque</th>\n",
       "      <th>A free copy of Mastering The Interview</th>\n",
       "      <th>Last Notable Activity</th>\n",
       "    </tr>\n",
       "  </thead>\n",
       "  <tbody>\n",
       "    <tr>\n",
       "      <th>0</th>\n",
       "      <td>7927b2df-8bba-4d29-b9a2-b6e0beafe620</td>\n",
       "      <td>660737</td>\n",
       "      <td>API</td>\n",
       "      <td>Olark Chat</td>\n",
       "      <td>No</td>\n",
       "      <td>No</td>\n",
       "      <td>0</td>\n",
       "      <td>0.0</td>\n",
       "      <td>0</td>\n",
       "      <td>0.0</td>\n",
       "      <td>...</td>\n",
       "      <td>No</td>\n",
       "      <td>Select</td>\n",
       "      <td>Select</td>\n",
       "      <td>02.Medium</td>\n",
       "      <td>02.Medium</td>\n",
       "      <td>15.0</td>\n",
       "      <td>15.0</td>\n",
       "      <td>No</td>\n",
       "      <td>No</td>\n",
       "      <td>Modified</td>\n",
       "    </tr>\n",
       "    <tr>\n",
       "      <th>1</th>\n",
       "      <td>2a272436-5132-4136-86fa-dcc88c88f482</td>\n",
       "      <td>660728</td>\n",
       "      <td>API</td>\n",
       "      <td>Organic Search</td>\n",
       "      <td>No</td>\n",
       "      <td>No</td>\n",
       "      <td>0</td>\n",
       "      <td>5.0</td>\n",
       "      <td>674</td>\n",
       "      <td>2.5</td>\n",
       "      <td>...</td>\n",
       "      <td>No</td>\n",
       "      <td>Select</td>\n",
       "      <td>Select</td>\n",
       "      <td>02.Medium</td>\n",
       "      <td>02.Medium</td>\n",
       "      <td>15.0</td>\n",
       "      <td>15.0</td>\n",
       "      <td>No</td>\n",
       "      <td>No</td>\n",
       "      <td>Email Opened</td>\n",
       "    </tr>\n",
       "    <tr>\n",
       "      <th>2</th>\n",
       "      <td>8cc8c611-a219-4f35-ad23-fdfd2656bd8a</td>\n",
       "      <td>660727</td>\n",
       "      <td>Landing Page Submission</td>\n",
       "      <td>Direct Traffic</td>\n",
       "      <td>No</td>\n",
       "      <td>No</td>\n",
       "      <td>1</td>\n",
       "      <td>2.0</td>\n",
       "      <td>1532</td>\n",
       "      <td>2.0</td>\n",
       "      <td>...</td>\n",
       "      <td>No</td>\n",
       "      <td>Potential Lead</td>\n",
       "      <td>Mumbai</td>\n",
       "      <td>02.Medium</td>\n",
       "      <td>01.High</td>\n",
       "      <td>14.0</td>\n",
       "      <td>20.0</td>\n",
       "      <td>No</td>\n",
       "      <td>Yes</td>\n",
       "      <td>Email Opened</td>\n",
       "    </tr>\n",
       "    <tr>\n",
       "      <th>3</th>\n",
       "      <td>0cc2df48-7cf4-4e39-9de9-19797f9b38cc</td>\n",
       "      <td>660719</td>\n",
       "      <td>Landing Page Submission</td>\n",
       "      <td>Direct Traffic</td>\n",
       "      <td>No</td>\n",
       "      <td>No</td>\n",
       "      <td>0</td>\n",
       "      <td>1.0</td>\n",
       "      <td>305</td>\n",
       "      <td>1.0</td>\n",
       "      <td>...</td>\n",
       "      <td>No</td>\n",
       "      <td>Select</td>\n",
       "      <td>Mumbai</td>\n",
       "      <td>02.Medium</td>\n",
       "      <td>01.High</td>\n",
       "      <td>13.0</td>\n",
       "      <td>17.0</td>\n",
       "      <td>No</td>\n",
       "      <td>No</td>\n",
       "      <td>Modified</td>\n",
       "    </tr>\n",
       "    <tr>\n",
       "      <th>4</th>\n",
       "      <td>3256f628-e534-4826-9d63-4a8b88782852</td>\n",
       "      <td>660681</td>\n",
       "      <td>Landing Page Submission</td>\n",
       "      <td>Google</td>\n",
       "      <td>No</td>\n",
       "      <td>No</td>\n",
       "      <td>1</td>\n",
       "      <td>2.0</td>\n",
       "      <td>1428</td>\n",
       "      <td>1.0</td>\n",
       "      <td>...</td>\n",
       "      <td>No</td>\n",
       "      <td>Select</td>\n",
       "      <td>Mumbai</td>\n",
       "      <td>02.Medium</td>\n",
       "      <td>01.High</td>\n",
       "      <td>15.0</td>\n",
       "      <td>18.0</td>\n",
       "      <td>No</td>\n",
       "      <td>No</td>\n",
       "      <td>Modified</td>\n",
       "    </tr>\n",
       "  </tbody>\n",
       "</table>\n",
       "<p>5 rows × 37 columns</p>\n",
       "</div>"
      ],
      "text/plain": [
       "                            Prospect ID  Lead Number              Lead Origin  \\\n",
       "0  7927b2df-8bba-4d29-b9a2-b6e0beafe620       660737                      API   \n",
       "1  2a272436-5132-4136-86fa-dcc88c88f482       660728                      API   \n",
       "2  8cc8c611-a219-4f35-ad23-fdfd2656bd8a       660727  Landing Page Submission   \n",
       "3  0cc2df48-7cf4-4e39-9de9-19797f9b38cc       660719  Landing Page Submission   \n",
       "4  3256f628-e534-4826-9d63-4a8b88782852       660681  Landing Page Submission   \n",
       "\n",
       "      Lead Source Do Not Email Do Not Call  Converted  TotalVisits  \\\n",
       "0      Olark Chat           No          No          0          0.0   \n",
       "1  Organic Search           No          No          0          5.0   \n",
       "2  Direct Traffic           No          No          1          2.0   \n",
       "3  Direct Traffic           No          No          0          1.0   \n",
       "4          Google           No          No          1          2.0   \n",
       "\n",
       "   Total Time Spent on Website  Page Views Per Visit  ...  \\\n",
       "0                            0                   0.0  ...   \n",
       "1                          674                   2.5  ...   \n",
       "2                         1532                   2.0  ...   \n",
       "3                          305                   1.0  ...   \n",
       "4                         1428                   1.0  ...   \n",
       "\n",
       "  Get updates on DM Content    Lead Profile    City  \\\n",
       "0                        No          Select  Select   \n",
       "1                        No          Select  Select   \n",
       "2                        No  Potential Lead  Mumbai   \n",
       "3                        No          Select  Mumbai   \n",
       "4                        No          Select  Mumbai   \n",
       "\n",
       "  Asymmetrique Activity Index Asymmetrique Profile Index  \\\n",
       "0                   02.Medium                  02.Medium   \n",
       "1                   02.Medium                  02.Medium   \n",
       "2                   02.Medium                    01.High   \n",
       "3                   02.Medium                    01.High   \n",
       "4                   02.Medium                    01.High   \n",
       "\n",
       "  Asymmetrique Activity Score Asymmetrique Profile Score  \\\n",
       "0                        15.0                       15.0   \n",
       "1                        15.0                       15.0   \n",
       "2                        14.0                       20.0   \n",
       "3                        13.0                       17.0   \n",
       "4                        15.0                       18.0   \n",
       "\n",
       "  I agree to pay the amount through cheque  \\\n",
       "0                                       No   \n",
       "1                                       No   \n",
       "2                                       No   \n",
       "3                                       No   \n",
       "4                                       No   \n",
       "\n",
       "  A free copy of Mastering The Interview Last Notable Activity  \n",
       "0                                     No              Modified  \n",
       "1                                     No          Email Opened  \n",
       "2                                    Yes          Email Opened  \n",
       "3                                     No              Modified  \n",
       "4                                     No              Modified  \n",
       "\n",
       "[5 rows x 37 columns]"
      ]
     },
     "execution_count": 3,
     "metadata": {},
     "output_type": "execute_result"
    }
   ],
   "source": [
    "# check data in loaded in the data frame\n",
    "df.head()"
   ]
  },
  {
   "cell_type": "markdown",
   "metadata": {},
   "source": [
    "# Inspecting data "
   ]
  },
  {
   "cell_type": "code",
   "execution_count": 4,
   "metadata": {},
   "outputs": [
    {
     "data": {
      "text/plain": [
       "(9240, 37)"
      ]
     },
     "execution_count": 4,
     "metadata": {},
     "output_type": "execute_result"
    }
   ],
   "source": [
    "# check the shape of the data frame\n",
    "df.shape"
   ]
  },
  {
   "cell_type": "code",
   "execution_count": 5,
   "metadata": {},
   "outputs": [
    {
     "data": {
      "text/html": [
       "<div>\n",
       "<style scoped>\n",
       "    .dataframe tbody tr th:only-of-type {\n",
       "        vertical-align: middle;\n",
       "    }\n",
       "\n",
       "    .dataframe tbody tr th {\n",
       "        vertical-align: top;\n",
       "    }\n",
       "\n",
       "    .dataframe thead th {\n",
       "        text-align: right;\n",
       "    }\n",
       "</style>\n",
       "<table border=\"1\" class=\"dataframe\">\n",
       "  <thead>\n",
       "    <tr style=\"text-align: right;\">\n",
       "      <th></th>\n",
       "      <th>Lead Number</th>\n",
       "      <th>Converted</th>\n",
       "      <th>TotalVisits</th>\n",
       "      <th>Total Time Spent on Website</th>\n",
       "      <th>Page Views Per Visit</th>\n",
       "      <th>Asymmetrique Activity Score</th>\n",
       "      <th>Asymmetrique Profile Score</th>\n",
       "    </tr>\n",
       "  </thead>\n",
       "  <tbody>\n",
       "    <tr>\n",
       "      <th>count</th>\n",
       "      <td>9240.000000</td>\n",
       "      <td>9240.000000</td>\n",
       "      <td>9103.000000</td>\n",
       "      <td>9240.000000</td>\n",
       "      <td>9103.000000</td>\n",
       "      <td>5022.000000</td>\n",
       "      <td>5022.000000</td>\n",
       "    </tr>\n",
       "    <tr>\n",
       "      <th>mean</th>\n",
       "      <td>617188.435606</td>\n",
       "      <td>0.385390</td>\n",
       "      <td>3.445238</td>\n",
       "      <td>487.698268</td>\n",
       "      <td>2.362820</td>\n",
       "      <td>14.306252</td>\n",
       "      <td>16.344883</td>\n",
       "    </tr>\n",
       "    <tr>\n",
       "      <th>std</th>\n",
       "      <td>23405.995698</td>\n",
       "      <td>0.486714</td>\n",
       "      <td>4.854853</td>\n",
       "      <td>548.021466</td>\n",
       "      <td>2.161418</td>\n",
       "      <td>1.386694</td>\n",
       "      <td>1.811395</td>\n",
       "    </tr>\n",
       "    <tr>\n",
       "      <th>min</th>\n",
       "      <td>579533.000000</td>\n",
       "      <td>0.000000</td>\n",
       "      <td>0.000000</td>\n",
       "      <td>0.000000</td>\n",
       "      <td>0.000000</td>\n",
       "      <td>7.000000</td>\n",
       "      <td>11.000000</td>\n",
       "    </tr>\n",
       "    <tr>\n",
       "      <th>25%</th>\n",
       "      <td>596484.500000</td>\n",
       "      <td>0.000000</td>\n",
       "      <td>1.000000</td>\n",
       "      <td>12.000000</td>\n",
       "      <td>1.000000</td>\n",
       "      <td>14.000000</td>\n",
       "      <td>15.000000</td>\n",
       "    </tr>\n",
       "    <tr>\n",
       "      <th>50%</th>\n",
       "      <td>615479.000000</td>\n",
       "      <td>0.000000</td>\n",
       "      <td>3.000000</td>\n",
       "      <td>248.000000</td>\n",
       "      <td>2.000000</td>\n",
       "      <td>14.000000</td>\n",
       "      <td>16.000000</td>\n",
       "    </tr>\n",
       "    <tr>\n",
       "      <th>75%</th>\n",
       "      <td>637387.250000</td>\n",
       "      <td>1.000000</td>\n",
       "      <td>5.000000</td>\n",
       "      <td>936.000000</td>\n",
       "      <td>3.000000</td>\n",
       "      <td>15.000000</td>\n",
       "      <td>18.000000</td>\n",
       "    </tr>\n",
       "    <tr>\n",
       "      <th>max</th>\n",
       "      <td>660737.000000</td>\n",
       "      <td>1.000000</td>\n",
       "      <td>251.000000</td>\n",
       "      <td>2272.000000</td>\n",
       "      <td>55.000000</td>\n",
       "      <td>18.000000</td>\n",
       "      <td>20.000000</td>\n",
       "    </tr>\n",
       "  </tbody>\n",
       "</table>\n",
       "</div>"
      ],
      "text/plain": [
       "         Lead Number    Converted  TotalVisits  Total Time Spent on Website  \\\n",
       "count    9240.000000  9240.000000  9103.000000                  9240.000000   \n",
       "mean   617188.435606     0.385390     3.445238                   487.698268   \n",
       "std     23405.995698     0.486714     4.854853                   548.021466   \n",
       "min    579533.000000     0.000000     0.000000                     0.000000   \n",
       "25%    596484.500000     0.000000     1.000000                    12.000000   \n",
       "50%    615479.000000     0.000000     3.000000                   248.000000   \n",
       "75%    637387.250000     1.000000     5.000000                   936.000000   \n",
       "max    660737.000000     1.000000   251.000000                  2272.000000   \n",
       "\n",
       "       Page Views Per Visit  Asymmetrique Activity Score  \\\n",
       "count           9103.000000                  5022.000000   \n",
       "mean               2.362820                    14.306252   \n",
       "std                2.161418                     1.386694   \n",
       "min                0.000000                     7.000000   \n",
       "25%                1.000000                    14.000000   \n",
       "50%                2.000000                    14.000000   \n",
       "75%                3.000000                    15.000000   \n",
       "max               55.000000                    18.000000   \n",
       "\n",
       "       Asymmetrique Profile Score  \n",
       "count                 5022.000000  \n",
       "mean                    16.344883  \n",
       "std                      1.811395  \n",
       "min                     11.000000  \n",
       "25%                     15.000000  \n",
       "50%                     16.000000  \n",
       "75%                     18.000000  \n",
       "max                     20.000000  "
      ]
     },
     "execution_count": 5,
     "metadata": {},
     "output_type": "execute_result"
    }
   ],
   "source": [
    "# let's look at the statistical aspects of the dataframe\n",
    "df.describe()"
   ]
  },
  {
   "cell_type": "code",
   "execution_count": 6,
   "metadata": {},
   "outputs": [
    {
     "name": "stdout",
     "output_type": "stream",
     "text": [
      "<class 'pandas.core.frame.DataFrame'>\n",
      "RangeIndex: 9240 entries, 0 to 9239\n",
      "Data columns (total 37 columns):\n",
      " #   Column                                         Non-Null Count  Dtype  \n",
      "---  ------                                         --------------  -----  \n",
      " 0   Prospect ID                                    9240 non-null   object \n",
      " 1   Lead Number                                    9240 non-null   int64  \n",
      " 2   Lead Origin                                    9240 non-null   object \n",
      " 3   Lead Source                                    9204 non-null   object \n",
      " 4   Do Not Email                                   9240 non-null   object \n",
      " 5   Do Not Call                                    9240 non-null   object \n",
      " 6   Converted                                      9240 non-null   int64  \n",
      " 7   TotalVisits                                    9103 non-null   float64\n",
      " 8   Total Time Spent on Website                    9240 non-null   int64  \n",
      " 9   Page Views Per Visit                           9103 non-null   float64\n",
      " 10  Last Activity                                  9137 non-null   object \n",
      " 11  Country                                        6779 non-null   object \n",
      " 12  Specialization                                 7802 non-null   object \n",
      " 13  How did you hear about X Education             7033 non-null   object \n",
      " 14  What is your current occupation                6550 non-null   object \n",
      " 15  What matters most to you in choosing a course  6531 non-null   object \n",
      " 16  Search                                         9240 non-null   object \n",
      " 17  Magazine                                       9240 non-null   object \n",
      " 18  Newspaper Article                              9240 non-null   object \n",
      " 19  X Education Forums                             9240 non-null   object \n",
      " 20  Newspaper                                      9240 non-null   object \n",
      " 21  Digital Advertisement                          9240 non-null   object \n",
      " 22  Through Recommendations                        9240 non-null   object \n",
      " 23  Receive More Updates About Our Courses         9240 non-null   object \n",
      " 24  Tags                                           5887 non-null   object \n",
      " 25  Lead Quality                                   4473 non-null   object \n",
      " 26  Update me on Supply Chain Content              9240 non-null   object \n",
      " 27  Get updates on DM Content                      9240 non-null   object \n",
      " 28  Lead Profile                                   6531 non-null   object \n",
      " 29  City                                           7820 non-null   object \n",
      " 30  Asymmetrique Activity Index                    5022 non-null   object \n",
      " 31  Asymmetrique Profile Index                     5022 non-null   object \n",
      " 32  Asymmetrique Activity Score                    5022 non-null   float64\n",
      " 33  Asymmetrique Profile Score                     5022 non-null   float64\n",
      " 34  I agree to pay the amount through cheque       9240 non-null   object \n",
      " 35  A free copy of Mastering The Interview         9240 non-null   object \n",
      " 36  Last Notable Activity                          9240 non-null   object \n",
      "dtypes: float64(4), int64(3), object(30)\n",
      "memory usage: 2.6+ MB\n"
     ]
    }
   ],
   "source": [
    "# Let's see the type of each column\n",
    "df.info()"
   ]
  },
  {
   "cell_type": "markdown",
   "metadata": {},
   "source": [
    "- int , float and object are the data types of the available data\n",
    "- there are some columns with null values \n",
    "- there are some identifier columns like \"Prospect ID\" , \"Lead Number\" \n",
    "- there are some categorical columns like \"Lead Origin\" ,  \"Lead Source\" , Converted etc for which the data type is not categorical but object\n",
    "- numerical columns are TotalVisits , Total Time Spent , Page Views Per Visit  on Website\n"
   ]
  },
  {
   "cell_type": "code",
   "execution_count": 7,
   "metadata": {},
   "outputs": [
    {
     "data": {
      "text/plain": [
       "9240"
      ]
     },
     "execution_count": 7,
     "metadata": {},
     "output_type": "execute_result"
    }
   ],
   "source": [
    "# analysing if column Lead Number has unique values \n",
    "len(df.groupby([\"Lead Number\"])[\"Lead Number\"].count())\n",
    "# looks like all Lead number are unique values just like any other identifier"
   ]
  },
  {
   "cell_type": "code",
   "execution_count": 8,
   "metadata": {},
   "outputs": [
    {
     "data": {
      "text/plain": [
       "Prospect ID                                      False\n",
       "Lead Number                                      False\n",
       "Lead Origin                                      False\n",
       "Lead Source                                       True\n",
       "Do Not Email                                     False\n",
       "Do Not Call                                      False\n",
       "Converted                                        False\n",
       "TotalVisits                                       True\n",
       "Total Time Spent on Website                      False\n",
       "Page Views Per Visit                              True\n",
       "Last Activity                                     True\n",
       "Country                                           True\n",
       "Specialization                                    True\n",
       "How did you hear about X Education                True\n",
       "What is your current occupation                   True\n",
       "What matters most to you in choosing a course     True\n",
       "Search                                           False\n",
       "Magazine                                         False\n",
       "Newspaper Article                                False\n",
       "X Education Forums                               False\n",
       "Newspaper                                        False\n",
       "Digital Advertisement                            False\n",
       "Through Recommendations                          False\n",
       "Receive More Updates About Our Courses           False\n",
       "Tags                                              True\n",
       "Lead Quality                                      True\n",
       "Update me on Supply Chain Content                False\n",
       "Get updates on DM Content                        False\n",
       "Lead Profile                                      True\n",
       "City                                              True\n",
       "Asymmetrique Activity Index                       True\n",
       "Asymmetrique Profile Index                        True\n",
       "Asymmetrique Activity Score                       True\n",
       "Asymmetrique Profile Score                        True\n",
       "I agree to pay the amount through cheque         False\n",
       "A free copy of Mastering The Interview           False\n",
       "Last Notable Activity                            False\n",
       "dtype: bool"
      ]
     },
     "execution_count": 8,
     "metadata": {},
     "output_type": "execute_result"
    }
   ],
   "source": [
    "# Lets calculate the columns which has missing value\n",
    "df.isnull().any()"
   ]
  },
  {
   "cell_type": "code",
   "execution_count": 9,
   "metadata": {},
   "outputs": [
    {
     "data": {
      "text/plain": [
       "Lead Source                                       0.389610\n",
       "TotalVisits                                       1.482684\n",
       "Page Views Per Visit                              1.482684\n",
       "Last Activity                                     1.114719\n",
       "Country                                          26.634199\n",
       "Specialization                                   15.562771\n",
       "How did you hear about X Education               23.885281\n",
       "What is your current occupation                  29.112554\n",
       "What matters most to you in choosing a course    29.318182\n",
       "Tags                                             36.287879\n",
       "Lead Quality                                     51.590909\n",
       "Lead Profile                                     29.318182\n",
       "City                                             15.367965\n",
       "Asymmetrique Activity Index                      45.649351\n",
       "Asymmetrique Profile Index                       45.649351\n",
       "Asymmetrique Activity Score                      45.649351\n",
       "Asymmetrique Profile Score                       45.649351\n",
       "dtype: float64"
      ]
     },
     "execution_count": 9,
     "metadata": {},
     "output_type": "execute_result"
    }
   ],
   "source": [
    "# Looks like there are null values for some columns \n",
    "# lets calculate percentage null count columnwise\n",
    "\n",
    "percent_missing = df.isnull().sum() * 100 / len(df)\n",
    "percent_missing[percent_missing >0]\n"
   ]
  },
  {
   "cell_type": "markdown",
   "metadata": {},
   "source": [
    "- Asymmetrique Profile Score, Asymmetrique Activity Score,Asymmetrique Profile Index, Asymmetrique Activity Index, Lead Quality, Tags has more than 30% of null value\n",
    "- Country and City gives the similar information of location of lead.  "
   ]
  },
  {
   "cell_type": "code",
   "execution_count": 10,
   "metadata": {},
   "outputs": [],
   "source": [
    "#Lets inspect the categorical columns one by one and see if it needs any data cleaning \n",
    "list_of_cat_columns = [\"Lead Origin\", \"Lead Source\" , \"Do Not Email\" , \"Do Not Call\" , \"Converted\" , \"Last Activity\" , \"Country\" , \"Specialization\" , \"How did you hear about X Education\" , \n",
    "                       \"What is your current occupation\" , \"What matters most to you in choosing a course\",\"Search\" , \"Magazine\" , \"Newspaper Article\" , \"X Education Forums\" , \"Newspaper\"\n",
    "                       ,\"Digital Advertisement\" , \"Through Recommendations\" , \"Receive More Updates About Our Courses\", \"Tags\" , \"Lead Quality\",\n",
    "                      \"Update me on Supply Chain Content\" , \"Get updates on DM Content\" , \"Lead Profile\" , \"City\" , \"Asymmetrique Activity Index\" ,\n",
    "                      \"Asymmetrique Profile Index\" , \"I agree to pay the amount through cheque\" , \"A free copy of Mastering The Interview\",\"Last Notable Activity\"]"
   ]
  },
  {
   "cell_type": "code",
   "execution_count": 11,
   "metadata": {},
   "outputs": [
    {
     "data": {
      "text/plain": [
       "30"
      ]
     },
     "execution_count": 11,
     "metadata": {},
     "output_type": "execute_result"
    }
   ],
   "source": [
    "len(list_of_cat_columns)"
   ]
  },
  {
   "cell_type": "code",
   "execution_count": 12,
   "metadata": {},
   "outputs": [
    {
     "name": "stdout",
     "output_type": "stream",
     "text": [
      "***********************\n",
      "Lead Origin\n",
      "***********************\n",
      "Landing Page Submission    4886\n",
      "API                        3580\n",
      "Lead Add Form               718\n",
      "Lead Import                  55\n",
      "Quick Add Form                1\n",
      "Name: Lead Origin, dtype: int64\n",
      "***********************\n",
      "Lead Source\n",
      "***********************\n",
      "Google               2868\n",
      "Direct Traffic       2543\n",
      "Olark Chat           1755\n",
      "Organic Search       1154\n",
      "Reference             534\n",
      "Welingak Website      142\n",
      "Referral Sites        125\n",
      "Facebook               55\n",
      "bing                    6\n",
      "google                  5\n",
      "Click2call              4\n",
      "Live Chat               2\n",
      "Press_Release           2\n",
      "Social Media            2\n",
      "youtubechannel          1\n",
      "WeLearn                 1\n",
      "Pay per Click Ads       1\n",
      "testone                 1\n",
      "blog                    1\n",
      "welearnblog_Home        1\n",
      "NC_EDM                  1\n",
      "Name: Lead Source, dtype: int64\n",
      "***********************\n",
      "Do Not Email\n",
      "***********************\n",
      "No     8506\n",
      "Yes     734\n",
      "Name: Do Not Email, dtype: int64\n",
      "***********************\n",
      "Do Not Call\n",
      "***********************\n",
      "No     9238\n",
      "Yes       2\n",
      "Name: Do Not Call, dtype: int64\n",
      "***********************\n",
      "Converted\n",
      "***********************\n",
      "0    5679\n",
      "1    3561\n",
      "Name: Converted, dtype: int64\n",
      "***********************\n",
      "Last Activity\n",
      "***********************\n",
      "Email Opened                    3437\n",
      "SMS Sent                        2745\n",
      "Olark Chat Conversation          973\n",
      "Page Visited on Website          640\n",
      "Converted to Lead                428\n",
      "Email Bounced                    326\n",
      "Email Link Clicked               267\n",
      "Form Submitted on Website        116\n",
      "Unreachable                       93\n",
      "Unsubscribed                      61\n",
      "Had a Phone Conversation          30\n",
      "Approached upfront                 9\n",
      "View in browser link Clicked       6\n",
      "Email Marked Spam                  2\n",
      "Email Received                     2\n",
      "Resubscribed to emails             1\n",
      "Visited Booth in Tradeshow         1\n",
      "Name: Last Activity, dtype: int64\n",
      "***********************\n",
      "Country\n",
      "***********************\n",
      "India                   6492\n",
      "United States             69\n",
      "United Arab Emirates      53\n",
      "Singapore                 24\n",
      "Saudi Arabia              21\n",
      "United Kingdom            15\n",
      "Australia                 13\n",
      "Qatar                     10\n",
      "Hong Kong                  7\n",
      "Bahrain                    7\n",
      "France                     6\n",
      "Oman                       6\n",
      "unknown                    5\n",
      "Germany                    4\n",
      "South Africa               4\n",
      "Nigeria                    4\n",
      "Canada                     4\n",
      "Kuwait                     4\n",
      "Sweden                     3\n",
      "China                      2\n",
      "Philippines                2\n",
      "Belgium                    2\n",
      "Bangladesh                 2\n",
      "Netherlands                2\n",
      "Uganda                     2\n",
      "Asia/Pacific Region        2\n",
      "Italy                      2\n",
      "Ghana                      2\n",
      "Malaysia                   1\n",
      "Sri Lanka                  1\n",
      "Vietnam                    1\n",
      "Russia                     1\n",
      "Denmark                    1\n",
      "Switzerland                1\n",
      "Liberia                    1\n",
      "Indonesia                  1\n",
      "Kenya                      1\n",
      "Tanzania                   1\n",
      "Name: Country, dtype: int64\n",
      "***********************\n",
      "Specialization\n",
      "***********************\n",
      "Select                               1942\n",
      "Finance Management                    976\n",
      "Human Resource Management             848\n",
      "Marketing Management                  838\n",
      "Operations Management                 503\n",
      "Business Administration               403\n",
      "IT Projects Management                366\n",
      "Supply Chain Management               349\n",
      "Banking, Investment And Insurance     338\n",
      "Media and Advertising                 203\n",
      "Travel and Tourism                    203\n",
      "International Business                178\n",
      "Healthcare Management                 159\n",
      "Hospitality Management                114\n",
      "E-COMMERCE                            112\n",
      "Retail Management                     100\n",
      "Rural and Agribusiness                 73\n",
      "E-Business                             57\n",
      "Services Excellence                    40\n",
      "Name: Specialization, dtype: int64\n",
      "***********************\n",
      "How did you hear about X Education\n",
      "***********************\n",
      "Select                   5043\n",
      "Online Search             808\n",
      "Word Of Mouth             348\n",
      "Student of SomeSchool     310\n",
      "Other                     186\n",
      "Multiple Sources          152\n",
      "Advertisements             70\n",
      "Social Media               67\n",
      "Email                      26\n",
      "SMS                        23\n",
      "Name: How did you hear about X Education, dtype: int64\n",
      "***********************\n",
      "What is your current occupation\n",
      "***********************\n",
      "Unemployed              5600\n",
      "Working Professional     706\n",
      "Student                  210\n",
      "Other                     16\n",
      "Housewife                 10\n",
      "Businessman                8\n",
      "Name: What is your current occupation, dtype: int64\n",
      "***********************\n",
      "What matters most to you in choosing a course\n",
      "***********************\n",
      "Better Career Prospects      6528\n",
      "Flexibility & Convenience       2\n",
      "Other                           1\n",
      "Name: What matters most to you in choosing a course, dtype: int64\n",
      "***********************\n",
      "Search\n",
      "***********************\n",
      "No     9226\n",
      "Yes      14\n",
      "Name: Search, dtype: int64\n",
      "***********************\n",
      "Magazine\n",
      "***********************\n",
      "No    9240\n",
      "Name: Magazine, dtype: int64\n",
      "***********************\n",
      "Newspaper Article\n",
      "***********************\n",
      "No     9238\n",
      "Yes       2\n",
      "Name: Newspaper Article, dtype: int64\n",
      "***********************\n",
      "X Education Forums\n",
      "***********************\n",
      "No     9239\n",
      "Yes       1\n",
      "Name: X Education Forums, dtype: int64\n",
      "***********************\n",
      "Newspaper\n",
      "***********************\n",
      "No     9239\n",
      "Yes       1\n",
      "Name: Newspaper, dtype: int64\n",
      "***********************\n",
      "Digital Advertisement\n",
      "***********************\n",
      "No     9236\n",
      "Yes       4\n",
      "Name: Digital Advertisement, dtype: int64\n",
      "***********************\n",
      "Through Recommendations\n",
      "***********************\n",
      "No     9233\n",
      "Yes       7\n",
      "Name: Through Recommendations, dtype: int64\n",
      "***********************\n",
      "Receive More Updates About Our Courses\n",
      "***********************\n",
      "No    9240\n",
      "Name: Receive More Updates About Our Courses, dtype: int64\n",
      "***********************\n",
      "Tags\n",
      "***********************\n",
      "Will revert after reading the email                  2072\n",
      "Ringing                                              1203\n",
      "Interested in other courses                           513\n",
      "Already a student                                     465\n",
      "Closed by Horizzon                                    358\n",
      "switched off                                          240\n",
      "Busy                                                  186\n",
      "Lost to EINS                                          175\n",
      "Not doing further education                           145\n",
      "Interested  in full time MBA                          117\n",
      "Graduation in progress                                111\n",
      "invalid number                                         83\n",
      "Diploma holder (Not Eligible)                          63\n",
      "wrong number given                                     47\n",
      "opp hangup                                             33\n",
      "number not provided                                    27\n",
      "in touch with EINS                                     12\n",
      "Lost to Others                                          7\n",
      "Want to take admission but has financial problems       6\n",
      "Still Thinking                                          6\n",
      "In confusion whether part time or DLP                   5\n",
      "Interested in Next batch                                5\n",
      "Lateral student                                         3\n",
      "University not recognized                               2\n",
      "Shall take in the next coming month                     2\n",
      "Recognition issue (DEC approval)                        1\n",
      "Name: Tags, dtype: int64\n",
      "***********************\n",
      "Lead Quality\n",
      "***********************\n",
      "Might be             1560\n",
      "Not Sure             1092\n",
      "High in Relevance     637\n",
      "Worst                 601\n",
      "Low in Relevance      583\n",
      "Name: Lead Quality, dtype: int64\n",
      "***********************\n",
      "Update me on Supply Chain Content\n",
      "***********************\n",
      "No    9240\n",
      "Name: Update me on Supply Chain Content, dtype: int64\n",
      "***********************\n",
      "Get updates on DM Content\n",
      "***********************\n",
      "No    9240\n",
      "Name: Get updates on DM Content, dtype: int64\n",
      "***********************\n",
      "Lead Profile\n",
      "***********************\n",
      "Select                         4146\n",
      "Potential Lead                 1613\n",
      "Other Leads                     487\n",
      "Student of SomeSchool           241\n",
      "Lateral Student                  24\n",
      "Dual Specialization Student      20\n",
      "Name: Lead Profile, dtype: int64\n",
      "***********************\n",
      "City\n",
      "***********************\n",
      "Mumbai                         3222\n",
      "Select                         2249\n",
      "Thane & Outskirts               752\n",
      "Other Cities                    686\n",
      "Other Cities of Maharashtra     457\n",
      "Other Metro Cities              380\n",
      "Tier II Cities                   74\n",
      "Name: City, dtype: int64\n",
      "***********************\n",
      "Asymmetrique Activity Index\n",
      "***********************\n",
      "02.Medium    3839\n",
      "01.High       821\n",
      "03.Low        362\n",
      "Name: Asymmetrique Activity Index, dtype: int64\n",
      "***********************\n",
      "Asymmetrique Profile Index\n",
      "***********************\n",
      "02.Medium    2788\n",
      "01.High      2203\n",
      "03.Low         31\n",
      "Name: Asymmetrique Profile Index, dtype: int64\n",
      "***********************\n",
      "I agree to pay the amount through cheque\n",
      "***********************\n",
      "No    9240\n",
      "Name: I agree to pay the amount through cheque, dtype: int64\n",
      "***********************\n",
      "A free copy of Mastering The Interview\n",
      "***********************\n",
      "No     6352\n",
      "Yes    2888\n",
      "Name: A free copy of Mastering The Interview, dtype: int64\n",
      "***********************\n",
      "Last Notable Activity\n",
      "***********************\n",
      "Modified                        3407\n",
      "Email Opened                    2827\n",
      "SMS Sent                        2172\n",
      "Page Visited on Website          318\n",
      "Olark Chat Conversation          183\n",
      "Email Link Clicked               173\n",
      "Email Bounced                     60\n",
      "Unsubscribed                      47\n",
      "Unreachable                       32\n",
      "Had a Phone Conversation          14\n",
      "Email Marked Spam                  2\n",
      "Form Submitted on Website          1\n",
      "Approached upfront                 1\n",
      "Email Received                     1\n",
      "Resubscribed to emails             1\n",
      "View in browser link Clicked       1\n",
      "Name: Last Notable Activity, dtype: int64\n"
     ]
    }
   ],
   "source": [
    "for col in list_of_cat_columns:\n",
    "    print(\"***********************\")\n",
    "    print(col)\n",
    "    print(\"***********************\")\n",
    "    print(df[col].value_counts())\n",
    "    "
   ]
  },
  {
   "cell_type": "markdown",
   "metadata": {},
   "source": [
    "- Prospect Id and Lead Number are unique identifier \n",
    "- Column country has 5 records with \"unknown\" value \n",
    "- Column Specialization , has 1942 records where customers have not selected any value and has the value \n",
    "  as Select. Its different from having null value, but functionally it can be same.\n",
    "- \"How did you hear about X Education\" has 5043 records with *select*   val\n",
    "- \"Update me on Suppy Chain\" has all records with value No \n",
    "- \"Get updates on DM content\" has all records with value No\n",
    "- \"Lead Profile\" has value as Select for 4146 records\n",
    "- City has value as Select for 2249 records.\n",
    "- Lead Source has value like \"Google\" and \"google\". We would need to convert google to Google\n"
   ]
  },
  {
   "cell_type": "markdown",
   "metadata": {},
   "source": [
    "### Actions \n",
    "- drop unique identifier columns i.e.Prospect Id  \n",
    "- drop columns which has more than 30% missing values i.e drop Asymmetrique Profile Score, Asymmetrique Activity Score,Asymmetrique Profile Index, Asymmetrique Activity Index, Lead Quality, Tags\n",
    "- drop Country columns "
   ]
  },
  {
   "cell_type": "code",
   "execution_count": 13,
   "metadata": {},
   "outputs": [],
   "source": [
    "drop_columns = [\"Prospect ID\"  ,\"Lead Quality\", \"Asymmetrique Profile Score\",\"Asymmetrique Activity Score\",\n",
    "               \"Asymmetrique Profile Index\" , \"Asymmetrique Activity Index\"  , \"Country\" , \"Get updates on DM Content\" , \"Update me on Suppy Chain\"]\n",
    "for col in drop_columns:\n",
    "    if col in df.columns:\n",
    "        df.drop(col , axis =1 , inplace=True)"
   ]
  },
  {
   "cell_type": "code",
   "execution_count": 14,
   "metadata": {},
   "outputs": [
    {
     "data": {
      "text/plain": [
       "Lead Source                                       0.389610\n",
       "TotalVisits                                       1.482684\n",
       "Page Views Per Visit                              1.482684\n",
       "Last Activity                                     1.114719\n",
       "Specialization                                   15.562771\n",
       "How did you hear about X Education               23.885281\n",
       "What is your current occupation                  29.112554\n",
       "What matters most to you in choosing a course    29.318182\n",
       "Tags                                             36.287879\n",
       "Lead Profile                                     29.318182\n",
       "City                                             15.367965\n",
       "dtype: float64"
      ]
     },
     "execution_count": 14,
     "metadata": {},
     "output_type": "execute_result"
    }
   ],
   "source": [
    "# recalculating percentage of null values after dropping columns mentioned in list drop_columns\n",
    "percent_missing = df.isnull().sum() * 100 / len(df)\n",
    "percent_missing[percent_missing >0]"
   ]
  },
  {
   "cell_type": "markdown",
   "metadata": {},
   "source": [
    "# Imputing missing values"
   ]
  },
  {
   "cell_type": "code",
   "execution_count": 15,
   "metadata": {},
   "outputs": [
    {
     "data": {
      "text/plain": [
       "[<matplotlib.lines.Line2D at 0x7f9cb3442490>]"
      ]
     },
     "execution_count": 15,
     "metadata": {},
     "output_type": "execute_result"
    },
    {
     "data": {
      "image/png": "[encoded data removed]",
      "text/plain": [
       "<Figure size 1008x360 with 2 Axes>"
      ]
     },
     "metadata": {
      "needs_background": "light"
     },
     "output_type": "display_data"
    }
   ],
   "source": [
    "#lets plot the numerical columns with null value \n",
    "plt.figure(figsize=(14,5))\n",
    "plt.subplot(121)\n",
    "plt.plot(df[\"TotalVisits\"])\n",
    "plt.subplot(122)\n",
    "plt.plot(df[\"Page Views Per Visit\"])\n"
   ]
  },
  {
   "cell_type": "code",
   "execution_count": 16,
   "metadata": {},
   "outputs": [],
   "source": [
    "#impute the numerical columns with median\n",
    "num_cols = [\"TotalVisits\" , \"Page Views Per Visit\"]\n",
    "for col in num_cols:\n",
    "    m = df[col].median()\n",
    "    df[col]=df[col].fillna(m)"
   ]
  },
  {
   "cell_type": "code",
   "execution_count": 17,
   "metadata": {},
   "outputs": [
    {
     "name": "stdout",
     "output_type": "stream",
     "text": [
      "26\n"
     ]
    }
   ],
   "source": [
    "# updating the list of categorical columns \n",
    "for col in list_of_cat_columns:\n",
    "    if col not in df.columns:\n",
    "        list_of_cat_columns.remove(col)\n",
    "print(len(list_of_cat_columns))"
   ]
  },
  {
   "cell_type": "code",
   "execution_count": 18,
   "metadata": {},
   "outputs": [
    {
     "data": {
      "text/plain": [
       "<AxesSubplot:title={'center':'After Imputing with Most Frequent Value'}, xlabel='Tags', ylabel='count'>"
      ]
     },
     "execution_count": 18,
     "metadata": {},
     "output_type": "execute_result"
    },
    {
     "data": {
      "image/png": "[encoded data removed]",
      "text/plain": [
       "<Figure size 1152x360 with 2 Axes>"
      ]
     },
     "metadata": {
      "needs_background": "light"
     },
     "output_type": "display_data"
    }
   ],
   "source": [
    "plt.figure(figsize=(16,5))\n",
    "plt.subplot(121)\n",
    "plt.title(\"Before Imputing with Most Frequent Value\")\n",
    "sns.countplot(data = df, x = 'Tags')\n",
    "plt.subplot(122)\n",
    "plt.title(\"After Imputing with Most Frequent Value\")\n",
    "sns.countplot(data = df.fillna(value = df['Tags'].mode()[0]), x = 'Tags')"
   ]
  },
  {
   "cell_type": "markdown",
   "metadata": {},
   "source": [
    "- After imputing Tags with most common value, skewness will increase a lot. So we will not impute for now. "
   ]
  },
  {
   "cell_type": "code",
   "execution_count": 19,
   "metadata": {},
   "outputs": [],
   "source": [
    "list_of_lastactivity = df[df['Last Activity'].isnull()]['Tags'].value_counts()"
   ]
  },
  {
   "cell_type": "markdown",
   "metadata": {},
   "source": [
    "- Imputing Last Activity.So based on tags we will going to impute the 'Last Activity' by using the most frequent item.We will calculate the value counts of tags,where Last Activity is null. Then will calculate the most common value of Last Activity where Tags in Known and will use this calculated value to impute Last Activity.\n"
   ]
  },
  {
   "cell_type": "code",
   "execution_count": 20,
   "metadata": {},
   "outputs": [
    {
     "data": {
      "text/plain": [
       "Closed by Horizzon                     47\n",
       "Will revert after reading the email    26\n",
       "Ringing                                12\n",
       "Interested in other courses             4\n",
       "Lost to EINS                            2\n",
       "Interested  in full time MBA            1\n",
       "number not provided                     1\n",
       "Busy                                    1\n",
       "Name: Tags, dtype: int64"
      ]
     },
     "execution_count": 20,
     "metadata": {},
     "output_type": "execute_result"
    }
   ],
   "source": [
    "list_of_lastactivity"
   ]
  },
  {
   "cell_type": "code",
   "execution_count": 21,
   "metadata": {},
   "outputs": [],
   "source": [
    "for lastActivity in range(len(list_of_lastactivity)):\n",
    "    #print(list_of_lastactivity.index[lastActivity] , list_of_lastactivity.values[lastActivity])\n",
    "    lAc = list_of_lastactivity.index[lastActivity]\n",
    "    m = df[df[\"Tags\"] == lAc][\"Last Activity\"].mode()[0]\n",
    "    df.loc[(df['Last Activity'].isnull()) & (df['Tags'] == lAc), 'Last Activity'] = m\n",
    "\n",
    "    "
   ]
  },
  {
   "cell_type": "code",
   "execution_count": 22,
   "metadata": {},
   "outputs": [],
   "source": [
    "# still there are some Null values in Last Activity, these values are one for which both Tags and last Activity \n",
    "# are null . I will imput ot with the mode of Last Activity now.\n",
    "df['Last Activity'].fillna(df['Last Activity'].mode()[0] , inplace=True)"
   ]
  },
  {
   "cell_type": "code",
   "execution_count": 23,
   "metadata": {
    "scrolled": true
   },
   "outputs": [
    {
     "data": {
      "text/plain": [
       "<AxesSubplot:title={'center':'After Imputing with Most Frequent Value'}, xlabel='Lead Source', ylabel='count'>"
      ]
     },
     "execution_count": 23,
     "metadata": {},
     "output_type": "execute_result"
    },
    {
     "data": {
      "image/png": "[encoded data removed]",
      "text/plain": [
       "<Figure size 1152x360 with 2 Axes>"
      ]
     },
     "metadata": {
      "needs_background": "light"
     },
     "output_type": "display_data"
    }
   ],
   "source": [
    "# Comparing Before and after imputing with mode of Lead Source Column\n",
    "\n",
    "plt.figure(figsize=(16,5))\n",
    "plt.subplot(121)\n",
    "plt.title(\"Before Imputing with Most Frequent Value\")\n",
    "sns.countplot(data = df, x = 'Lead Source')\n",
    "plt.subplot(122)\n",
    "plt.title(\"After Imputing with Most Frequent Value\")\n",
    "sns.countplot(data = df.fillna(value = df['Lead Source'].mode()[0]), x = 'Lead Source')"
   ]
  },
  {
   "cell_type": "code",
   "execution_count": 24,
   "metadata": {},
   "outputs": [],
   "source": [
    "#Imputing Lead Score with mode \n",
    "df['Lead Source'].fillna(value = df['Lead Source'].mode()[0] , inplace = True)"
   ]
  },
  {
   "cell_type": "code",
   "execution_count": 25,
   "metadata": {},
   "outputs": [],
   "source": [
    "## impute null and \"Select\" with unknown value for Specializatin\n",
    "df['Specialization'][df['Specialization'].isnull() | (df['Specialization'] ==\"Select\")  ] = \"Unknown\""
   ]
  },
  {
   "cell_type": "code",
   "execution_count": 26,
   "metadata": {},
   "outputs": [],
   "source": [
    "#Impute City with most comon values #\n",
    "df['City'][df['City'].isnull() | (df['City'] ==\"Select\")  ] = df['City'].mode()[0]"
   ]
  },
  {
   "cell_type": "code",
   "execution_count": 27,
   "metadata": {},
   "outputs": [
    {
     "data": {
      "text/plain": [
       "7250"
      ]
     },
     "execution_count": 27,
     "metadata": {},
     "output_type": "execute_result"
    }
   ],
   "source": [
    "\n",
    "len(df['How did you hear about X Education'][df['How did you hear about X Education'].isnull() | (df['How did you hear about X Education'] ==\"Select\")  ])"
   ]
  },
  {
   "cell_type": "code",
   "execution_count": 28,
   "metadata": {},
   "outputs": [],
   "source": [
    "#7250 values are either null or user didnot provide any value  for column \"How did you hear about X Education'][df['How did you hear about X Education\"\n",
    "#Dropping the column\n",
    "df = df.drop('How did you hear about X Education' , axis =1 )"
   ]
  },
  {
   "cell_type": "code",
   "execution_count": 29,
   "metadata": {},
   "outputs": [
    {
     "data": {
      "text/plain": [
       "2690"
      ]
     },
     "execution_count": 29,
     "metadata": {},
     "output_type": "execute_result"
    }
   ],
   "source": [
    "#What is your current occupation\n",
    "\n",
    "len(df['What is your current occupation'][df['What is your current occupation'].isnull() | (df['What is your current occupation'] ==\"Select\")  ])"
   ]
  },
  {
   "cell_type": "code",
   "execution_count": 30,
   "metadata": {},
   "outputs": [
    {
     "data": {
      "text/plain": [
       "<AxesSubplot:title={'center':'After Imputing with Most Frequent Value'}, xlabel='What is your current occupation', ylabel='count'>"
      ]
     },
     "execution_count": 30,
     "metadata": {},
     "output_type": "execute_result"
    },
    {
     "data": {
      "image/png": "[encoded data removed]",
      "text/plain": [
       "<Figure size 1152x360 with 2 Axes>"
      ]
     },
     "metadata": {
      "needs_background": "light"
     },
     "output_type": "display_data"
    }
   ],
   "source": [
    "plt.figure(figsize=(16,5))\n",
    "plt.subplot(121)\n",
    "plt.title(\"Before Imputing with Most Frequent Value\")\n",
    "sns.countplot(data = df, x = 'What is your current occupation')\n",
    "plt.subplot(122)\n",
    "plt.title(\"After Imputing with Most Frequent Value\")\n",
    "sns.countplot(data = df.fillna(value = df['What is your current occupation'].mode()[0]), x = 'What is your current occupation')"
   ]
  },
  {
   "cell_type": "code",
   "execution_count": 31,
   "metadata": {},
   "outputs": [],
   "source": [
    "# in this case missing data is more than 3% so imputing with mode might introduce lot of skewness. \n",
    "# I am imputing missing data i.e. data is either null or data = \"Select\" with \"Unknown\"\n",
    "df['What is your current occupation'][df['What is your current occupation'].isnull() | (df['What is your current occupation'] ==\"Select\")  ] = \"Unknown\""
   ]
  },
  {
   "cell_type": "code",
   "execution_count": 32,
   "metadata": {},
   "outputs": [
    {
     "data": {
      "text/plain": [
       "2709"
      ]
     },
     "execution_count": 32,
     "metadata": {},
     "output_type": "execute_result"
    }
   ],
   "source": [
    "#What matters most to you in choosing a course\n",
    "\n",
    "\n",
    "len(df['What matters most to you in choosing a course'][df['What matters most to you in choosing a course'].isnull() | (df['What matters most to you in choosing a course'] ==\"Select\")  ])"
   ]
  },
  {
   "cell_type": "code",
   "execution_count": 33,
   "metadata": {},
   "outputs": [],
   "source": [
    "df['What matters most to you in choosing a course'][df['What matters most to you in choosing a course'].isnull() | (df['What matters most to you in choosing a course'] ==\"Select\")  ] = \"Unknown\""
   ]
  },
  {
   "cell_type": "code",
   "execution_count": 34,
   "metadata": {},
   "outputs": [],
   "source": [
    "#Lead Profile\n",
    "\n",
    "\n",
    "len(df['Lead Profile'][df['Lead Profile'].isnull() | (df['Lead Profile'] ==\"Select\")  ])\n",
    "#74% of data is missng or users have not selected any value . Dropping this column \n",
    "df = df.drop('Lead Profile' , axis =1 )"
   ]
  },
  {
   "cell_type": "code",
   "execution_count": 35,
   "metadata": {},
   "outputs": [],
   "source": [
    "# Tags \n",
    "len(df['Tags'][df['Tags'].isnull() | (df['Tags'] ==\"Select\")  ])\n",
    "\n",
    "# Dropping colum\n",
    "df = df.drop('Tags' , axis =1 )"
   ]
  },
  {
   "cell_type": "markdown",
   "metadata": {},
   "source": [
    "# Treating Outliers "
   ]
  },
  {
   "cell_type": "code",
   "execution_count": 36,
   "metadata": {},
   "outputs": [
    {
     "data": {
      "text/plain": [
       "<seaborn.axisgrid.PairGrid at 0x7f9cb3a74b20>"
      ]
     },
     "execution_count": 36,
     "metadata": {},
     "output_type": "execute_result"
    },
    {
     "data": {
      "image/png": "[encoded data removed]",
      "text/plain": [
       "<Figure size 1226.15x972 with 12 Axes>"
      ]
     },
     "metadata": {
      "needs_background": "light"
     },
     "output_type": "display_data"
    }
   ],
   "source": [
    "sns.pairplot(df[[\"TotalVisits\" , \"Page Views Per Visit\" , \"Total Time Spent on Website\" , \"Converted\"]], hue = 'Converted', palette = 'gist_heat', height = 4.5, aspect = 1.2)\n"
   ]
  },
  {
   "cell_type": "code",
   "execution_count": 37,
   "metadata": {},
   "outputs": [],
   "source": [
    "num_cols.append(\"Total Time Spent on Website\")"
   ]
  },
  {
   "cell_type": "code",
   "execution_count": 38,
   "metadata": {},
   "outputs": [
    {
     "data": {
      "image/png": "[encoded data removed]",
      "text/plain": [
       "<Figure size 432x288 with 1 Axes>"
      ]
     },
     "metadata": {
      "needs_background": "light"
     },
     "output_type": "display_data"
    },
    {
     "data": {
      "image/png": "[encoded data removed]",
      "text/plain": [
       "<Figure size 432x288 with 1 Axes>"
      ]
     },
     "metadata": {
      "needs_background": "light"
     },
     "output_type": "display_data"
    },
    {
     "data": {
      "image/png": "[encoded data removed]",
      "text/plain": [
       "<Figure size 432x288 with 1 Axes>"
      ]
     },
     "metadata": {
      "needs_background": "light"
     },
     "output_type": "display_data"
    }
   ],
   "source": [
    "#calculating the outliers\n",
    "\n",
    "for i in enumerate(num_cols):\n",
    "    \n",
    "    plt.subplot(4,2,i[0]+1)\n",
    "    sns.boxplot(x = i[1] , data = df)\n",
    "    plt.show()"
   ]
  },
  {
   "cell_type": "code",
   "execution_count": 39,
   "metadata": {},
   "outputs": [],
   "source": [
    "##  removing outliers\n",
    "\n",
    "for i , feature in enumerate(num_cols):\n",
    "    desc = df[feature].describe()\n",
    "    q1 = desc[\"25%\"]\n",
    "    q2 = desc[\"50%\"]\n",
    "    q3 = desc[\"75%\"]\n",
    "    iqr = q3 -q1 \n",
    "    upper_boud = q3 + 1.5 * iqr\n",
    "    lower_bound = q1 - 1.5 * iqr \n",
    "    df[feature] = np.where(df[feature] > upper_boud , upper_boud , df[feature])\n",
    "    df[feature] = np.where( df[feature]  < lower_bound , lower_bound ,df[feature] )"
   ]
  },
  {
   "cell_type": "code",
   "execution_count": 40,
   "metadata": {},
   "outputs": [
    {
     "data": {
      "image/png": "[encoded data removed]",
      "text/plain": [
       "<Figure size 432x288 with 1 Axes>"
      ]
     },
     "metadata": {
      "needs_background": "light"
     },
     "output_type": "display_data"
    },
    {
     "data": {
      "image/png": "[encoded data removed]",
      "text/plain": [
       "<Figure size 432x288 with 1 Axes>"
      ]
     },
     "metadata": {
      "needs_background": "light"
     },
     "output_type": "display_data"
    },
    {
     "data": {
      "image/png": "[encoded data removed]",
      "text/plain": [
       "<Figure size 432x288 with 1 Axes>"
      ]
     },
     "metadata": {
      "needs_background": "light"
     },
     "output_type": "display_data"
    }
   ],
   "source": [
    "# recalculating outliers\n",
    "for i in enumerate(num_cols):\n",
    "    \n",
    "    plt.subplot(4,2,i[0]+1)\n",
    "    sns.boxplot(x = i[1] , data = df)\n",
    "    plt.show()"
   ]
  },
  {
   "cell_type": "code",
   "execution_count": 41,
   "metadata": {},
   "outputs": [
    {
     "name": "stdout",
     "output_type": "stream",
     "text": [
      "<class 'pandas.core.frame.DataFrame'>\n",
      "RangeIndex: 9240 entries, 0 to 9239\n",
      "Data columns (total 26 columns):\n",
      " #   Column                                         Non-Null Count  Dtype  \n",
      "---  ------                                         --------------  -----  \n",
      " 0   Lead Number                                    9240 non-null   int64  \n",
      " 1   Lead Origin                                    9240 non-null   object \n",
      " 2   Lead Source                                    9240 non-null   object \n",
      " 3   Do Not Email                                   9240 non-null   object \n",
      " 4   Do Not Call                                    9240 non-null   object \n",
      " 5   Converted                                      9240 non-null   int64  \n",
      " 6   TotalVisits                                    9240 non-null   float64\n",
      " 7   Total Time Spent on Website                    9240 non-null   float64\n",
      " 8   Page Views Per Visit                           9240 non-null   float64\n",
      " 9   Last Activity                                  9240 non-null   object \n",
      " 10  Specialization                                 9240 non-null   object \n",
      " 11  What is your current occupation                9240 non-null   object \n",
      " 12  What matters most to you in choosing a course  9240 non-null   object \n",
      " 13  Search                                         9240 non-null   object \n",
      " 14  Magazine                                       9240 non-null   object \n",
      " 15  Newspaper Article                              9240 non-null   object \n",
      " 16  X Education Forums                             9240 non-null   object \n",
      " 17  Newspaper                                      9240 non-null   object \n",
      " 18  Digital Advertisement                          9240 non-null   object \n",
      " 19  Through Recommendations                        9240 non-null   object \n",
      " 20  Receive More Updates About Our Courses         9240 non-null   object \n",
      " 21  Update me on Supply Chain Content              9240 non-null   object \n",
      " 22  City                                           9240 non-null   object \n",
      " 23  I agree to pay the amount through cheque       9240 non-null   object \n",
      " 24  A free copy of Mastering The Interview         9240 non-null   object \n",
      " 25  Last Notable Activity                          9240 non-null   object \n",
      "dtypes: float64(3), int64(2), object(21)\n",
      "memory usage: 1.8+ MB\n"
     ]
    }
   ],
   "source": [
    "df.info()"
   ]
  },
  {
   "cell_type": "markdown",
   "metadata": {},
   "source": [
    "# Data Preparation"
   ]
  },
  {
   "cell_type": "code",
   "execution_count": 42,
   "metadata": {},
   "outputs": [],
   "source": [
    "# List of variables to map\n",
    "\n",
    "varlist =  ['Do Not Email', 'Do Not Call', 'Search', 'Magazine', 'Newspaper Article' , \n",
    "           'X Education Forums' , 'Newspaper','Digital Advertisement','Through Recommendations'\n",
    "           ,'Receive More Updates About Our Courses','I agree to pay the amount through cheque',\n",
    "           'A free copy of Mastering The Interview' , 'Update me on Supply Chain Content' ]\n",
    "\n",
    "# Defining the map function\n",
    "def binary_map(x):\n",
    "    return x.map({'Yes': 1, \"No\": 0})\n",
    "\n",
    "# Applying the function to the housing list\n",
    "df[varlist] = df[varlist].apply(binary_map)"
   ]
  },
  {
   "cell_type": "code",
   "execution_count": 43,
   "metadata": {},
   "outputs": [
    {
     "data": {
      "text/html": [
       "<div>\n",
       "<style scoped>\n",
       "    .dataframe tbody tr th:only-of-type {\n",
       "        vertical-align: middle;\n",
       "    }\n",
       "\n",
       "    .dataframe tbody tr th {\n",
       "        vertical-align: top;\n",
       "    }\n",
       "\n",
       "    .dataframe thead th {\n",
       "        text-align: right;\n",
       "    }\n",
       "</style>\n",
       "<table border=\"1\" class=\"dataframe\">\n",
       "  <thead>\n",
       "    <tr style=\"text-align: right;\">\n",
       "      <th></th>\n",
       "      <th>Lead Number</th>\n",
       "      <th>Lead Origin</th>\n",
       "      <th>Lead Source</th>\n",
       "      <th>Do Not Email</th>\n",
       "      <th>Do Not Call</th>\n",
       "      <th>Converted</th>\n",
       "      <th>TotalVisits</th>\n",
       "      <th>Total Time Spent on Website</th>\n",
       "      <th>Page Views Per Visit</th>\n",
       "      <th>Last Activity</th>\n",
       "      <th>...</th>\n",
       "      <th>X Education Forums</th>\n",
       "      <th>Newspaper</th>\n",
       "      <th>Digital Advertisement</th>\n",
       "      <th>Through Recommendations</th>\n",
       "      <th>Receive More Updates About Our Courses</th>\n",
       "      <th>Update me on Supply Chain Content</th>\n",
       "      <th>City</th>\n",
       "      <th>I agree to pay the amount through cheque</th>\n",
       "      <th>A free copy of Mastering The Interview</th>\n",
       "      <th>Last Notable Activity</th>\n",
       "    </tr>\n",
       "  </thead>\n",
       "  <tbody>\n",
       "    <tr>\n",
       "      <th>0</th>\n",
       "      <td>660737</td>\n",
       "      <td>API</td>\n",
       "      <td>Olark Chat</td>\n",
       "      <td>0</td>\n",
       "      <td>0</td>\n",
       "      <td>0</td>\n",
       "      <td>0.0</td>\n",
       "      <td>0.0</td>\n",
       "      <td>0.0</td>\n",
       "      <td>Page Visited on Website</td>\n",
       "      <td>...</td>\n",
       "      <td>0</td>\n",
       "      <td>0</td>\n",
       "      <td>0</td>\n",
       "      <td>0</td>\n",
       "      <td>0</td>\n",
       "      <td>0</td>\n",
       "      <td>Mumbai</td>\n",
       "      <td>0</td>\n",
       "      <td>0</td>\n",
       "      <td>Modified</td>\n",
       "    </tr>\n",
       "    <tr>\n",
       "      <th>1</th>\n",
       "      <td>660728</td>\n",
       "      <td>API</td>\n",
       "      <td>Organic Search</td>\n",
       "      <td>0</td>\n",
       "      <td>0</td>\n",
       "      <td>0</td>\n",
       "      <td>5.0</td>\n",
       "      <td>674.0</td>\n",
       "      <td>2.5</td>\n",
       "      <td>Email Opened</td>\n",
       "      <td>...</td>\n",
       "      <td>0</td>\n",
       "      <td>0</td>\n",
       "      <td>0</td>\n",
       "      <td>0</td>\n",
       "      <td>0</td>\n",
       "      <td>0</td>\n",
       "      <td>Mumbai</td>\n",
       "      <td>0</td>\n",
       "      <td>0</td>\n",
       "      <td>Email Opened</td>\n",
       "    </tr>\n",
       "    <tr>\n",
       "      <th>2</th>\n",
       "      <td>660727</td>\n",
       "      <td>Landing Page Submission</td>\n",
       "      <td>Direct Traffic</td>\n",
       "      <td>0</td>\n",
       "      <td>0</td>\n",
       "      <td>1</td>\n",
       "      <td>2.0</td>\n",
       "      <td>1532.0</td>\n",
       "      <td>2.0</td>\n",
       "      <td>Email Opened</td>\n",
       "      <td>...</td>\n",
       "      <td>0</td>\n",
       "      <td>0</td>\n",
       "      <td>0</td>\n",
       "      <td>0</td>\n",
       "      <td>0</td>\n",
       "      <td>0</td>\n",
       "      <td>Mumbai</td>\n",
       "      <td>0</td>\n",
       "      <td>1</td>\n",
       "      <td>Email Opened</td>\n",
       "    </tr>\n",
       "    <tr>\n",
       "      <th>3</th>\n",
       "      <td>660719</td>\n",
       "      <td>Landing Page Submission</td>\n",
       "      <td>Direct Traffic</td>\n",
       "      <td>0</td>\n",
       "      <td>0</td>\n",
       "      <td>0</td>\n",
       "      <td>1.0</td>\n",
       "      <td>305.0</td>\n",
       "      <td>1.0</td>\n",
       "      <td>Unreachable</td>\n",
       "      <td>...</td>\n",
       "      <td>0</td>\n",
       "      <td>0</td>\n",
       "      <td>0</td>\n",
       "      <td>0</td>\n",
       "      <td>0</td>\n",
       "      <td>0</td>\n",
       "      <td>Mumbai</td>\n",
       "      <td>0</td>\n",
       "      <td>0</td>\n",
       "      <td>Modified</td>\n",
       "    </tr>\n",
       "    <tr>\n",
       "      <th>4</th>\n",
       "      <td>660681</td>\n",
       "      <td>Landing Page Submission</td>\n",
       "      <td>Google</td>\n",
       "      <td>0</td>\n",
       "      <td>0</td>\n",
       "      <td>1</td>\n",
       "      <td>2.0</td>\n",
       "      <td>1428.0</td>\n",
       "      <td>1.0</td>\n",
       "      <td>Converted to Lead</td>\n",
       "      <td>...</td>\n",
       "      <td>0</td>\n",
       "      <td>0</td>\n",
       "      <td>0</td>\n",
       "      <td>0</td>\n",
       "      <td>0</td>\n",
       "      <td>0</td>\n",
       "      <td>Mumbai</td>\n",
       "      <td>0</td>\n",
       "      <td>0</td>\n",
       "      <td>Modified</td>\n",
       "    </tr>\n",
       "  </tbody>\n",
       "</table>\n",
       "<p>5 rows × 26 columns</p>\n",
       "</div>"
      ],
      "text/plain": [
       "   Lead Number              Lead Origin     Lead Source  Do Not Email  \\\n",
       "0       660737                      API      Olark Chat             0   \n",
       "1       660728                      API  Organic Search             0   \n",
       "2       660727  Landing Page Submission  Direct Traffic             0   \n",
       "3       660719  Landing Page Submission  Direct Traffic             0   \n",
       "4       660681  Landing Page Submission          Google             0   \n",
       "\n",
       "   Do Not Call  Converted  TotalVisits  Total Time Spent on Website  \\\n",
       "0            0          0          0.0                          0.0   \n",
       "1            0          0          5.0                        674.0   \n",
       "2            0          1          2.0                       1532.0   \n",
       "3            0          0          1.0                        305.0   \n",
       "4            0          1          2.0                       1428.0   \n",
       "\n",
       "   Page Views Per Visit            Last Activity  ... X Education Forums  \\\n",
       "0                   0.0  Page Visited on Website  ...                  0   \n",
       "1                   2.5             Email Opened  ...                  0   \n",
       "2                   2.0             Email Opened  ...                  0   \n",
       "3                   1.0              Unreachable  ...                  0   \n",
       "4                   1.0        Converted to Lead  ...                  0   \n",
       "\n",
       "  Newspaper Digital Advertisement  Through Recommendations  \\\n",
       "0         0                     0                        0   \n",
       "1         0                     0                        0   \n",
       "2         0                     0                        0   \n",
       "3         0                     0                        0   \n",
       "4         0                     0                        0   \n",
       "\n",
       "   Receive More Updates About Our Courses  Update me on Supply Chain Content  \\\n",
       "0                                       0                                  0   \n",
       "1                                       0                                  0   \n",
       "2                                       0                                  0   \n",
       "3                                       0                                  0   \n",
       "4                                       0                                  0   \n",
       "\n",
       "     City  I agree to pay the amount through cheque  \\\n",
       "0  Mumbai                                         0   \n",
       "1  Mumbai                                         0   \n",
       "2  Mumbai                                         0   \n",
       "3  Mumbai                                         0   \n",
       "4  Mumbai                                         0   \n",
       "\n",
       "   A free copy of Mastering The Interview  Last Notable Activity  \n",
       "0                                       0               Modified  \n",
       "1                                       0           Email Opened  \n",
       "2                                       1           Email Opened  \n",
       "3                                       0               Modified  \n",
       "4                                       0               Modified  \n",
       "\n",
       "[5 rows x 26 columns]"
      ]
     },
     "execution_count": 43,
     "metadata": {},
     "output_type": "execute_result"
    }
   ],
   "source": [
    "df.head()"
   ]
  },
  {
   "cell_type": "code",
   "execution_count": 44,
   "metadata": {},
   "outputs": [],
   "source": [
    "#Google and google are same in df[\"Lead Source\"].Converting google to Google\n",
    "df[\"Lead Source\"][df[\"Lead Source\"] == \"google\"] = \"Google\""
   ]
  },
  {
   "cell_type": "code",
   "execution_count": 45,
   "metadata": {},
   "outputs": [],
   "source": [
    "# Creating a dummy variable for some of the categorical variables and dropping the first one.\n",
    "cat_cols = ['Lead Origin' , 'Lead Source' , 'Specialization' , \"Last Activity\",\n",
    "    'What matters most to you in choosing a course','Last Notable Activity' ,'City',\n",
    "            'What is your current occupation' ]\n",
    "for col in cat_cols:\n",
    "    dummy1 = pd.get_dummies(df[col], drop_first=True ,  prefix=col)\n",
    "    df = pd.concat([df, dummy1], axis=1)\n",
    "    df = df.drop(col , axis =1)\n",
    "  \n",
    " \n"
   ]
  },
  {
   "cell_type": "code",
   "execution_count": 46,
   "metadata": {},
   "outputs": [
    {
     "data": {
      "text/html": [
       "<div>\n",
       "<style scoped>\n",
       "    .dataframe tbody tr th:only-of-type {\n",
       "        vertical-align: middle;\n",
       "    }\n",
       "\n",
       "    .dataframe tbody tr th {\n",
       "        vertical-align: top;\n",
       "    }\n",
       "\n",
       "    .dataframe thead th {\n",
       "        text-align: right;\n",
       "    }\n",
       "</style>\n",
       "<table border=\"1\" class=\"dataframe\">\n",
       "  <thead>\n",
       "    <tr style=\"text-align: right;\">\n",
       "      <th></th>\n",
       "      <th>Lead Number</th>\n",
       "      <th>Do Not Email</th>\n",
       "      <th>Do Not Call</th>\n",
       "      <th>Converted</th>\n",
       "      <th>TotalVisits</th>\n",
       "      <th>Total Time Spent on Website</th>\n",
       "      <th>Page Views Per Visit</th>\n",
       "      <th>Search</th>\n",
       "      <th>Magazine</th>\n",
       "      <th>Newspaper Article</th>\n",
       "      <th>...</th>\n",
       "      <th>City_Other Cities of Maharashtra</th>\n",
       "      <th>City_Other Metro Cities</th>\n",
       "      <th>City_Thane &amp; Outskirts</th>\n",
       "      <th>City_Tier II Cities</th>\n",
       "      <th>What is your current occupation_Housewife</th>\n",
       "      <th>What is your current occupation_Other</th>\n",
       "      <th>What is your current occupation_Student</th>\n",
       "      <th>What is your current occupation_Unemployed</th>\n",
       "      <th>What is your current occupation_Unknown</th>\n",
       "      <th>What is your current occupation_Working Professional</th>\n",
       "    </tr>\n",
       "  </thead>\n",
       "  <tbody>\n",
       "    <tr>\n",
       "      <th>0</th>\n",
       "      <td>660737</td>\n",
       "      <td>0</td>\n",
       "      <td>0</td>\n",
       "      <td>0</td>\n",
       "      <td>0.0</td>\n",
       "      <td>0.0</td>\n",
       "      <td>0.00</td>\n",
       "      <td>0</td>\n",
       "      <td>0</td>\n",
       "      <td>0</td>\n",
       "      <td>...</td>\n",
       "      <td>0</td>\n",
       "      <td>0</td>\n",
       "      <td>0</td>\n",
       "      <td>0</td>\n",
       "      <td>0</td>\n",
       "      <td>0</td>\n",
       "      <td>0</td>\n",
       "      <td>1</td>\n",
       "      <td>0</td>\n",
       "      <td>0</td>\n",
       "    </tr>\n",
       "    <tr>\n",
       "      <th>1</th>\n",
       "      <td>660728</td>\n",
       "      <td>0</td>\n",
       "      <td>0</td>\n",
       "      <td>0</td>\n",
       "      <td>5.0</td>\n",
       "      <td>674.0</td>\n",
       "      <td>2.50</td>\n",
       "      <td>0</td>\n",
       "      <td>0</td>\n",
       "      <td>0</td>\n",
       "      <td>...</td>\n",
       "      <td>0</td>\n",
       "      <td>0</td>\n",
       "      <td>0</td>\n",
       "      <td>0</td>\n",
       "      <td>0</td>\n",
       "      <td>0</td>\n",
       "      <td>0</td>\n",
       "      <td>1</td>\n",
       "      <td>0</td>\n",
       "      <td>0</td>\n",
       "    </tr>\n",
       "    <tr>\n",
       "      <th>2</th>\n",
       "      <td>660727</td>\n",
       "      <td>0</td>\n",
       "      <td>0</td>\n",
       "      <td>1</td>\n",
       "      <td>2.0</td>\n",
       "      <td>1532.0</td>\n",
       "      <td>2.00</td>\n",
       "      <td>0</td>\n",
       "      <td>0</td>\n",
       "      <td>0</td>\n",
       "      <td>...</td>\n",
       "      <td>0</td>\n",
       "      <td>0</td>\n",
       "      <td>0</td>\n",
       "      <td>0</td>\n",
       "      <td>0</td>\n",
       "      <td>0</td>\n",
       "      <td>1</td>\n",
       "      <td>0</td>\n",
       "      <td>0</td>\n",
       "      <td>0</td>\n",
       "    </tr>\n",
       "    <tr>\n",
       "      <th>3</th>\n",
       "      <td>660719</td>\n",
       "      <td>0</td>\n",
       "      <td>0</td>\n",
       "      <td>0</td>\n",
       "      <td>1.0</td>\n",
       "      <td>305.0</td>\n",
       "      <td>1.00</td>\n",
       "      <td>0</td>\n",
       "      <td>0</td>\n",
       "      <td>0</td>\n",
       "      <td>...</td>\n",
       "      <td>0</td>\n",
       "      <td>0</td>\n",
       "      <td>0</td>\n",
       "      <td>0</td>\n",
       "      <td>0</td>\n",
       "      <td>0</td>\n",
       "      <td>0</td>\n",
       "      <td>1</td>\n",
       "      <td>0</td>\n",
       "      <td>0</td>\n",
       "    </tr>\n",
       "    <tr>\n",
       "      <th>4</th>\n",
       "      <td>660681</td>\n",
       "      <td>0</td>\n",
       "      <td>0</td>\n",
       "      <td>1</td>\n",
       "      <td>2.0</td>\n",
       "      <td>1428.0</td>\n",
       "      <td>1.00</td>\n",
       "      <td>0</td>\n",
       "      <td>0</td>\n",
       "      <td>0</td>\n",
       "      <td>...</td>\n",
       "      <td>0</td>\n",
       "      <td>0</td>\n",
       "      <td>0</td>\n",
       "      <td>0</td>\n",
       "      <td>0</td>\n",
       "      <td>0</td>\n",
       "      <td>0</td>\n",
       "      <td>1</td>\n",
       "      <td>0</td>\n",
       "      <td>0</td>\n",
       "    </tr>\n",
       "    <tr>\n",
       "      <th>...</th>\n",
       "      <td>...</td>\n",
       "      <td>...</td>\n",
       "      <td>...</td>\n",
       "      <td>...</td>\n",
       "      <td>...</td>\n",
       "      <td>...</td>\n",
       "      <td>...</td>\n",
       "      <td>...</td>\n",
       "      <td>...</td>\n",
       "      <td>...</td>\n",
       "      <td>...</td>\n",
       "      <td>...</td>\n",
       "      <td>...</td>\n",
       "      <td>...</td>\n",
       "      <td>...</td>\n",
       "      <td>...</td>\n",
       "      <td>...</td>\n",
       "      <td>...</td>\n",
       "      <td>...</td>\n",
       "      <td>...</td>\n",
       "      <td>...</td>\n",
       "    </tr>\n",
       "    <tr>\n",
       "      <th>9235</th>\n",
       "      <td>579564</td>\n",
       "      <td>1</td>\n",
       "      <td>0</td>\n",
       "      <td>1</td>\n",
       "      <td>8.0</td>\n",
       "      <td>1845.0</td>\n",
       "      <td>2.67</td>\n",
       "      <td>0</td>\n",
       "      <td>0</td>\n",
       "      <td>0</td>\n",
       "      <td>...</td>\n",
       "      <td>0</td>\n",
       "      <td>0</td>\n",
       "      <td>0</td>\n",
       "      <td>0</td>\n",
       "      <td>0</td>\n",
       "      <td>0</td>\n",
       "      <td>0</td>\n",
       "      <td>1</td>\n",
       "      <td>0</td>\n",
       "      <td>0</td>\n",
       "    </tr>\n",
       "    <tr>\n",
       "      <th>9236</th>\n",
       "      <td>579546</td>\n",
       "      <td>0</td>\n",
       "      <td>0</td>\n",
       "      <td>0</td>\n",
       "      <td>2.0</td>\n",
       "      <td>238.0</td>\n",
       "      <td>2.00</td>\n",
       "      <td>0</td>\n",
       "      <td>0</td>\n",
       "      <td>0</td>\n",
       "      <td>...</td>\n",
       "      <td>0</td>\n",
       "      <td>0</td>\n",
       "      <td>0</td>\n",
       "      <td>0</td>\n",
       "      <td>0</td>\n",
       "      <td>0</td>\n",
       "      <td>0</td>\n",
       "      <td>1</td>\n",
       "      <td>0</td>\n",
       "      <td>0</td>\n",
       "    </tr>\n",
       "    <tr>\n",
       "      <th>9237</th>\n",
       "      <td>579545</td>\n",
       "      <td>1</td>\n",
       "      <td>0</td>\n",
       "      <td>0</td>\n",
       "      <td>2.0</td>\n",
       "      <td>199.0</td>\n",
       "      <td>2.00</td>\n",
       "      <td>0</td>\n",
       "      <td>0</td>\n",
       "      <td>0</td>\n",
       "      <td>...</td>\n",
       "      <td>0</td>\n",
       "      <td>0</td>\n",
       "      <td>0</td>\n",
       "      <td>0</td>\n",
       "      <td>0</td>\n",
       "      <td>0</td>\n",
       "      <td>0</td>\n",
       "      <td>1</td>\n",
       "      <td>0</td>\n",
       "      <td>0</td>\n",
       "    </tr>\n",
       "    <tr>\n",
       "      <th>9238</th>\n",
       "      <td>579538</td>\n",
       "      <td>0</td>\n",
       "      <td>0</td>\n",
       "      <td>1</td>\n",
       "      <td>3.0</td>\n",
       "      <td>499.0</td>\n",
       "      <td>3.00</td>\n",
       "      <td>0</td>\n",
       "      <td>0</td>\n",
       "      <td>0</td>\n",
       "      <td>...</td>\n",
       "      <td>0</td>\n",
       "      <td>1</td>\n",
       "      <td>0</td>\n",
       "      <td>0</td>\n",
       "      <td>0</td>\n",
       "      <td>0</td>\n",
       "      <td>0</td>\n",
       "      <td>0</td>\n",
       "      <td>1</td>\n",
       "      <td>0</td>\n",
       "    </tr>\n",
       "    <tr>\n",
       "      <th>9239</th>\n",
       "      <td>579533</td>\n",
       "      <td>0</td>\n",
       "      <td>0</td>\n",
       "      <td>1</td>\n",
       "      <td>6.0</td>\n",
       "      <td>1279.0</td>\n",
       "      <td>3.00</td>\n",
       "      <td>0</td>\n",
       "      <td>0</td>\n",
       "      <td>0</td>\n",
       "      <td>...</td>\n",
       "      <td>0</td>\n",
       "      <td>0</td>\n",
       "      <td>0</td>\n",
       "      <td>0</td>\n",
       "      <td>0</td>\n",
       "      <td>0</td>\n",
       "      <td>0</td>\n",
       "      <td>1</td>\n",
       "      <td>0</td>\n",
       "      <td>0</td>\n",
       "    </tr>\n",
       "  </tbody>\n",
       "</table>\n",
       "<p>9240 rows × 104 columns</p>\n",
       "</div>"
      ],
      "text/plain": [
       "      Lead Number  Do Not Email  Do Not Call  Converted  TotalVisits  \\\n",
       "0          660737             0            0          0          0.0   \n",
       "1          660728             0            0          0          5.0   \n",
       "2          660727             0            0          1          2.0   \n",
       "3          660719             0            0          0          1.0   \n",
       "4          660681             0            0          1          2.0   \n",
       "...           ...           ...          ...        ...          ...   \n",
       "9235       579564             1            0          1          8.0   \n",
       "9236       579546             0            0          0          2.0   \n",
       "9237       579545             1            0          0          2.0   \n",
       "9238       579538             0            0          1          3.0   \n",
       "9239       579533             0            0          1          6.0   \n",
       "\n",
       "      Total Time Spent on Website  Page Views Per Visit  Search  Magazine  \\\n",
       "0                             0.0                  0.00       0         0   \n",
       "1                           674.0                  2.50       0         0   \n",
       "2                          1532.0                  2.00       0         0   \n",
       "3                           305.0                  1.00       0         0   \n",
       "4                          1428.0                  1.00       0         0   \n",
       "...                           ...                   ...     ...       ...   \n",
       "9235                       1845.0                  2.67       0         0   \n",
       "9236                        238.0                  2.00       0         0   \n",
       "9237                        199.0                  2.00       0         0   \n",
       "9238                        499.0                  3.00       0         0   \n",
       "9239                       1279.0                  3.00       0         0   \n",
       "\n",
       "      Newspaper Article  ...  City_Other Cities of Maharashtra  \\\n",
       "0                     0  ...                                 0   \n",
       "1                     0  ...                                 0   \n",
       "2                     0  ...                                 0   \n",
       "3                     0  ...                                 0   \n",
       "4                     0  ...                                 0   \n",
       "...                 ...  ...                               ...   \n",
       "9235                  0  ...                                 0   \n",
       "9236                  0  ...                                 0   \n",
       "9237                  0  ...                                 0   \n",
       "9238                  0  ...                                 0   \n",
       "9239                  0  ...                                 0   \n",
       "\n",
       "      City_Other Metro Cities  City_Thane & Outskirts  City_Tier II Cities  \\\n",
       "0                           0                       0                    0   \n",
       "1                           0                       0                    0   \n",
       "2                           0                       0                    0   \n",
       "3                           0                       0                    0   \n",
       "4                           0                       0                    0   \n",
       "...                       ...                     ...                  ...   \n",
       "9235                        0                       0                    0   \n",
       "9236                        0                       0                    0   \n",
       "9237                        0                       0                    0   \n",
       "9238                        1                       0                    0   \n",
       "9239                        0                       0                    0   \n",
       "\n",
       "      What is your current occupation_Housewife  \\\n",
       "0                                             0   \n",
       "1                                             0   \n",
       "2                                             0   \n",
       "3                                             0   \n",
       "4                                             0   \n",
       "...                                         ...   \n",
       "9235                                          0   \n",
       "9236                                          0   \n",
       "9237                                          0   \n",
       "9238                                          0   \n",
       "9239                                          0   \n",
       "\n",
       "      What is your current occupation_Other  \\\n",
       "0                                         0   \n",
       "1                                         0   \n",
       "2                                         0   \n",
       "3                                         0   \n",
       "4                                         0   \n",
       "...                                     ...   \n",
       "9235                                      0   \n",
       "9236                                      0   \n",
       "9237                                      0   \n",
       "9238                                      0   \n",
       "9239                                      0   \n",
       "\n",
       "      What is your current occupation_Student  \\\n",
       "0                                           0   \n",
       "1                                           0   \n",
       "2                                           1   \n",
       "3                                           0   \n",
       "4                                           0   \n",
       "...                                       ...   \n",
       "9235                                        0   \n",
       "9236                                        0   \n",
       "9237                                        0   \n",
       "9238                                        0   \n",
       "9239                                        0   \n",
       "\n",
       "      What is your current occupation_Unemployed  \\\n",
       "0                                              1   \n",
       "1                                              1   \n",
       "2                                              0   \n",
       "3                                              1   \n",
       "4                                              1   \n",
       "...                                          ...   \n",
       "9235                                           1   \n",
       "9236                                           1   \n",
       "9237                                           1   \n",
       "9238                                           0   \n",
       "9239                                           1   \n",
       "\n",
       "      What is your current occupation_Unknown  \\\n",
       "0                                           0   \n",
       "1                                           0   \n",
       "2                                           0   \n",
       "3                                           0   \n",
       "4                                           0   \n",
       "...                                       ...   \n",
       "9235                                        0   \n",
       "9236                                        0   \n",
       "9237                                        0   \n",
       "9238                                        1   \n",
       "9239                                        0   \n",
       "\n",
       "      What is your current occupation_Working Professional  \n",
       "0                                                     0     \n",
       "1                                                     0     \n",
       "2                                                     0     \n",
       "3                                                     0     \n",
       "4                                                     0     \n",
       "...                                                 ...     \n",
       "9235                                                  0     \n",
       "9236                                                  0     \n",
       "9237                                                  0     \n",
       "9238                                                  0     \n",
       "9239                                                  0     \n",
       "\n",
       "[9240 rows x 104 columns]"
      ]
     },
     "execution_count": 46,
     "metadata": {},
     "output_type": "execute_result"
    }
   ],
   "source": [
    "df"
   ]
  },
  {
   "cell_type": "code",
   "execution_count": 47,
   "metadata": {},
   "outputs": [],
   "source": [
    "df.to_csv(\"prepared_dataset.csv\")"
   ]
  },
  {
   "cell_type": "markdown",
   "metadata": {},
   "source": [
    "# Test-Train Split"
   ]
  },
  {
   "cell_type": "code",
   "execution_count": 48,
   "metadata": {},
   "outputs": [
    {
     "data": {
      "text/html": [
       "<div>\n",
       "<style scoped>\n",
       "    .dataframe tbody tr th:only-of-type {\n",
       "        vertical-align: middle;\n",
       "    }\n",
       "\n",
       "    .dataframe tbody tr th {\n",
       "        vertical-align: top;\n",
       "    }\n",
       "\n",
       "    .dataframe thead th {\n",
       "        text-align: right;\n",
       "    }\n",
       "</style>\n",
       "<table border=\"1\" class=\"dataframe\">\n",
       "  <thead>\n",
       "    <tr style=\"text-align: right;\">\n",
       "      <th></th>\n",
       "      <th>Do Not Email</th>\n",
       "      <th>Do Not Call</th>\n",
       "      <th>TotalVisits</th>\n",
       "      <th>Total Time Spent on Website</th>\n",
       "      <th>Page Views Per Visit</th>\n",
       "      <th>Search</th>\n",
       "      <th>Magazine</th>\n",
       "      <th>Newspaper Article</th>\n",
       "      <th>X Education Forums</th>\n",
       "      <th>Newspaper</th>\n",
       "      <th>...</th>\n",
       "      <th>City_Other Cities of Maharashtra</th>\n",
       "      <th>City_Other Metro Cities</th>\n",
       "      <th>City_Thane &amp; Outskirts</th>\n",
       "      <th>City_Tier II Cities</th>\n",
       "      <th>What is your current occupation_Housewife</th>\n",
       "      <th>What is your current occupation_Other</th>\n",
       "      <th>What is your current occupation_Student</th>\n",
       "      <th>What is your current occupation_Unemployed</th>\n",
       "      <th>What is your current occupation_Unknown</th>\n",
       "      <th>What is your current occupation_Working Professional</th>\n",
       "    </tr>\n",
       "  </thead>\n",
       "  <tbody>\n",
       "    <tr>\n",
       "      <th>0</th>\n",
       "      <td>0</td>\n",
       "      <td>0</td>\n",
       "      <td>0.0</td>\n",
       "      <td>0.0</td>\n",
       "      <td>0.0</td>\n",
       "      <td>0</td>\n",
       "      <td>0</td>\n",
       "      <td>0</td>\n",
       "      <td>0</td>\n",
       "      <td>0</td>\n",
       "      <td>...</td>\n",
       "      <td>0</td>\n",
       "      <td>0</td>\n",
       "      <td>0</td>\n",
       "      <td>0</td>\n",
       "      <td>0</td>\n",
       "      <td>0</td>\n",
       "      <td>0</td>\n",
       "      <td>1</td>\n",
       "      <td>0</td>\n",
       "      <td>0</td>\n",
       "    </tr>\n",
       "    <tr>\n",
       "      <th>1</th>\n",
       "      <td>0</td>\n",
       "      <td>0</td>\n",
       "      <td>5.0</td>\n",
       "      <td>674.0</td>\n",
       "      <td>2.5</td>\n",
       "      <td>0</td>\n",
       "      <td>0</td>\n",
       "      <td>0</td>\n",
       "      <td>0</td>\n",
       "      <td>0</td>\n",
       "      <td>...</td>\n",
       "      <td>0</td>\n",
       "      <td>0</td>\n",
       "      <td>0</td>\n",
       "      <td>0</td>\n",
       "      <td>0</td>\n",
       "      <td>0</td>\n",
       "      <td>0</td>\n",
       "      <td>1</td>\n",
       "      <td>0</td>\n",
       "      <td>0</td>\n",
       "    </tr>\n",
       "    <tr>\n",
       "      <th>2</th>\n",
       "      <td>0</td>\n",
       "      <td>0</td>\n",
       "      <td>2.0</td>\n",
       "      <td>1532.0</td>\n",
       "      <td>2.0</td>\n",
       "      <td>0</td>\n",
       "      <td>0</td>\n",
       "      <td>0</td>\n",
       "      <td>0</td>\n",
       "      <td>0</td>\n",
       "      <td>...</td>\n",
       "      <td>0</td>\n",
       "      <td>0</td>\n",
       "      <td>0</td>\n",
       "      <td>0</td>\n",
       "      <td>0</td>\n",
       "      <td>0</td>\n",
       "      <td>1</td>\n",
       "      <td>0</td>\n",
       "      <td>0</td>\n",
       "      <td>0</td>\n",
       "    </tr>\n",
       "    <tr>\n",
       "      <th>3</th>\n",
       "      <td>0</td>\n",
       "      <td>0</td>\n",
       "      <td>1.0</td>\n",
       "      <td>305.0</td>\n",
       "      <td>1.0</td>\n",
       "      <td>0</td>\n",
       "      <td>0</td>\n",
       "      <td>0</td>\n",
       "      <td>0</td>\n",
       "      <td>0</td>\n",
       "      <td>...</td>\n",
       "      <td>0</td>\n",
       "      <td>0</td>\n",
       "      <td>0</td>\n",
       "      <td>0</td>\n",
       "      <td>0</td>\n",
       "      <td>0</td>\n",
       "      <td>0</td>\n",
       "      <td>1</td>\n",
       "      <td>0</td>\n",
       "      <td>0</td>\n",
       "    </tr>\n",
       "    <tr>\n",
       "      <th>4</th>\n",
       "      <td>0</td>\n",
       "      <td>0</td>\n",
       "      <td>2.0</td>\n",
       "      <td>1428.0</td>\n",
       "      <td>1.0</td>\n",
       "      <td>0</td>\n",
       "      <td>0</td>\n",
       "      <td>0</td>\n",
       "      <td>0</td>\n",
       "      <td>0</td>\n",
       "      <td>...</td>\n",
       "      <td>0</td>\n",
       "      <td>0</td>\n",
       "      <td>0</td>\n",
       "      <td>0</td>\n",
       "      <td>0</td>\n",
       "      <td>0</td>\n",
       "      <td>0</td>\n",
       "      <td>1</td>\n",
       "      <td>0</td>\n",
       "      <td>0</td>\n",
       "    </tr>\n",
       "  </tbody>\n",
       "</table>\n",
       "<p>5 rows × 102 columns</p>\n",
       "</div>"
      ],
      "text/plain": [
       "   Do Not Email  Do Not Call  TotalVisits  Total Time Spent on Website  \\\n",
       "0             0            0          0.0                          0.0   \n",
       "1             0            0          5.0                        674.0   \n",
       "2             0            0          2.0                       1532.0   \n",
       "3             0            0          1.0                        305.0   \n",
       "4             0            0          2.0                       1428.0   \n",
       "\n",
       "   Page Views Per Visit  Search  Magazine  Newspaper Article  \\\n",
       "0                   0.0       0         0                  0   \n",
       "1                   2.5       0         0                  0   \n",
       "2                   2.0       0         0                  0   \n",
       "3                   1.0       0         0                  0   \n",
       "4                   1.0       0         0                  0   \n",
       "\n",
       "   X Education Forums  Newspaper  ...  City_Other Cities of Maharashtra  \\\n",
       "0                   0          0  ...                                 0   \n",
       "1                   0          0  ...                                 0   \n",
       "2                   0          0  ...                                 0   \n",
       "3                   0          0  ...                                 0   \n",
       "4                   0          0  ...                                 0   \n",
       "\n",
       "   City_Other Metro Cities  City_Thane & Outskirts  City_Tier II Cities  \\\n",
       "0                        0                       0                    0   \n",
       "1                        0                       0                    0   \n",
       "2                        0                       0                    0   \n",
       "3                        0                       0                    0   \n",
       "4                        0                       0                    0   \n",
       "\n",
       "   What is your current occupation_Housewife  \\\n",
       "0                                          0   \n",
       "1                                          0   \n",
       "2                                          0   \n",
       "3                                          0   \n",
       "4                                          0   \n",
       "\n",
       "   What is your current occupation_Other  \\\n",
       "0                                      0   \n",
       "1                                      0   \n",
       "2                                      0   \n",
       "3                                      0   \n",
       "4                                      0   \n",
       "\n",
       "   What is your current occupation_Student  \\\n",
       "0                                        0   \n",
       "1                                        0   \n",
       "2                                        1   \n",
       "3                                        0   \n",
       "4                                        0   \n",
       "\n",
       "   What is your current occupation_Unemployed  \\\n",
       "0                                           1   \n",
       "1                                           1   \n",
       "2                                           0   \n",
       "3                                           1   \n",
       "4                                           1   \n",
       "\n",
       "   What is your current occupation_Unknown  \\\n",
       "0                                        0   \n",
       "1                                        0   \n",
       "2                                        0   \n",
       "3                                        0   \n",
       "4                                        0   \n",
       "\n",
       "   What is your current occupation_Working Professional  \n",
       "0                                                  0     \n",
       "1                                                  0     \n",
       "2                                                  0     \n",
       "3                                                  0     \n",
       "4                                                  0     \n",
       "\n",
       "[5 rows x 102 columns]"
      ]
     },
     "execution_count": 48,
     "metadata": {},
     "output_type": "execute_result"
    }
   ],
   "source": [
    "# Putting feature variable to X\n",
    "X = df.drop(['Converted','Lead Number'], axis=1)\n",
    "\n",
    "X.head()"
   ]
  },
  {
   "cell_type": "code",
   "execution_count": 49,
   "metadata": {},
   "outputs": [
    {
     "data": {
      "text/plain": [
       "0    0\n",
       "1    0\n",
       "2    1\n",
       "3    0\n",
       "4    1\n",
       "Name: Converted, dtype: int64"
      ]
     },
     "execution_count": 49,
     "metadata": {},
     "output_type": "execute_result"
    }
   ],
   "source": [
    "# Putting response variable to y\n",
    "y = df['Converted']\n",
    "\n",
    "y.head()"
   ]
  },
  {
   "cell_type": "code",
   "execution_count": 50,
   "metadata": {},
   "outputs": [],
   "source": [
    "# Splitting the data into train and test\n",
    "X_train, X_test, y_train, y_test = train_test_split(X, y, train_size=0.7, test_size=0.3, random_state=100)"
   ]
  },
  {
   "cell_type": "markdown",
   "metadata": {},
   "source": [
    "# Feature Scaling"
   ]
  },
  {
   "cell_type": "code",
   "execution_count": 51,
   "metadata": {},
   "outputs": [
    {
     "data": {
      "text/html": [
       "<div>\n",
       "<style scoped>\n",
       "    .dataframe tbody tr th:only-of-type {\n",
       "        vertical-align: middle;\n",
       "    }\n",
       "\n",
       "    .dataframe tbody tr th {\n",
       "        vertical-align: top;\n",
       "    }\n",
       "\n",
       "    .dataframe thead th {\n",
       "        text-align: right;\n",
       "    }\n",
       "</style>\n",
       "<table border=\"1\" class=\"dataframe\">\n",
       "  <thead>\n",
       "    <tr style=\"text-align: right;\">\n",
       "      <th></th>\n",
       "      <th>Do Not Email</th>\n",
       "      <th>Do Not Call</th>\n",
       "      <th>TotalVisits</th>\n",
       "      <th>Total Time Spent on Website</th>\n",
       "      <th>Page Views Per Visit</th>\n",
       "      <th>Search</th>\n",
       "      <th>Magazine</th>\n",
       "      <th>Newspaper Article</th>\n",
       "      <th>X Education Forums</th>\n",
       "      <th>Newspaper</th>\n",
       "      <th>...</th>\n",
       "      <th>City_Other Cities of Maharashtra</th>\n",
       "      <th>City_Other Metro Cities</th>\n",
       "      <th>City_Thane &amp; Outskirts</th>\n",
       "      <th>City_Tier II Cities</th>\n",
       "      <th>What is your current occupation_Housewife</th>\n",
       "      <th>What is your current occupation_Other</th>\n",
       "      <th>What is your current occupation_Student</th>\n",
       "      <th>What is your current occupation_Unemployed</th>\n",
       "      <th>What is your current occupation_Unknown</th>\n",
       "      <th>What is your current occupation_Working Professional</th>\n",
       "    </tr>\n",
       "  </thead>\n",
       "  <tbody>\n",
       "    <tr>\n",
       "      <th>1871</th>\n",
       "      <td>0</td>\n",
       "      <td>0</td>\n",
       "      <td>0.000000</td>\n",
       "      <td>0.000000</td>\n",
       "      <td>0.000000</td>\n",
       "      <td>0</td>\n",
       "      <td>0</td>\n",
       "      <td>0</td>\n",
       "      <td>0</td>\n",
       "      <td>0</td>\n",
       "      <td>...</td>\n",
       "      <td>0</td>\n",
       "      <td>0</td>\n",
       "      <td>0</td>\n",
       "      <td>0</td>\n",
       "      <td>0</td>\n",
       "      <td>0</td>\n",
       "      <td>0</td>\n",
       "      <td>1</td>\n",
       "      <td>0</td>\n",
       "      <td>0</td>\n",
       "    </tr>\n",
       "    <tr>\n",
       "      <th>6795</th>\n",
       "      <td>0</td>\n",
       "      <td>0</td>\n",
       "      <td>0.363636</td>\n",
       "      <td>0.214349</td>\n",
       "      <td>0.221667</td>\n",
       "      <td>0</td>\n",
       "      <td>0</td>\n",
       "      <td>0</td>\n",
       "      <td>0</td>\n",
       "      <td>0</td>\n",
       "      <td>...</td>\n",
       "      <td>0</td>\n",
       "      <td>0</td>\n",
       "      <td>0</td>\n",
       "      <td>0</td>\n",
       "      <td>0</td>\n",
       "      <td>0</td>\n",
       "      <td>0</td>\n",
       "      <td>1</td>\n",
       "      <td>0</td>\n",
       "      <td>0</td>\n",
       "    </tr>\n",
       "    <tr>\n",
       "      <th>3516</th>\n",
       "      <td>0</td>\n",
       "      <td>0</td>\n",
       "      <td>0.454545</td>\n",
       "      <td>0.046655</td>\n",
       "      <td>0.416667</td>\n",
       "      <td>0</td>\n",
       "      <td>0</td>\n",
       "      <td>0</td>\n",
       "      <td>0</td>\n",
       "      <td>0</td>\n",
       "      <td>...</td>\n",
       "      <td>0</td>\n",
       "      <td>0</td>\n",
       "      <td>0</td>\n",
       "      <td>0</td>\n",
       "      <td>0</td>\n",
       "      <td>0</td>\n",
       "      <td>0</td>\n",
       "      <td>1</td>\n",
       "      <td>0</td>\n",
       "      <td>0</td>\n",
       "    </tr>\n",
       "    <tr>\n",
       "      <th>8105</th>\n",
       "      <td>0</td>\n",
       "      <td>0</td>\n",
       "      <td>0.454545</td>\n",
       "      <td>0.541373</td>\n",
       "      <td>0.833333</td>\n",
       "      <td>0</td>\n",
       "      <td>0</td>\n",
       "      <td>0</td>\n",
       "      <td>0</td>\n",
       "      <td>0</td>\n",
       "      <td>...</td>\n",
       "      <td>0</td>\n",
       "      <td>0</td>\n",
       "      <td>0</td>\n",
       "      <td>0</td>\n",
       "      <td>0</td>\n",
       "      <td>0</td>\n",
       "      <td>0</td>\n",
       "      <td>1</td>\n",
       "      <td>0</td>\n",
       "      <td>0</td>\n",
       "    </tr>\n",
       "    <tr>\n",
       "      <th>3934</th>\n",
       "      <td>0</td>\n",
       "      <td>0</td>\n",
       "      <td>0.000000</td>\n",
       "      <td>0.000000</td>\n",
       "      <td>0.000000</td>\n",
       "      <td>0</td>\n",
       "      <td>0</td>\n",
       "      <td>0</td>\n",
       "      <td>0</td>\n",
       "      <td>0</td>\n",
       "      <td>...</td>\n",
       "      <td>0</td>\n",
       "      <td>0</td>\n",
       "      <td>0</td>\n",
       "      <td>0</td>\n",
       "      <td>0</td>\n",
       "      <td>0</td>\n",
       "      <td>0</td>\n",
       "      <td>1</td>\n",
       "      <td>0</td>\n",
       "      <td>0</td>\n",
       "    </tr>\n",
       "  </tbody>\n",
       "</table>\n",
       "<p>5 rows × 102 columns</p>\n",
       "</div>"
      ],
      "text/plain": [
       "      Do Not Email  Do Not Call  TotalVisits  Total Time Spent on Website  \\\n",
       "1871             0            0     0.000000                     0.000000   \n",
       "6795             0            0     0.363636                     0.214349   \n",
       "3516             0            0     0.454545                     0.046655   \n",
       "8105             0            0     0.454545                     0.541373   \n",
       "3934             0            0     0.000000                     0.000000   \n",
       "\n",
       "      Page Views Per Visit  Search  Magazine  Newspaper Article  \\\n",
       "1871              0.000000       0         0                  0   \n",
       "6795              0.221667       0         0                  0   \n",
       "3516              0.416667       0         0                  0   \n",
       "8105              0.833333       0         0                  0   \n",
       "3934              0.000000       0         0                  0   \n",
       "\n",
       "      X Education Forums  Newspaper  ...  City_Other Cities of Maharashtra  \\\n",
       "1871                   0          0  ...                                 0   \n",
       "6795                   0          0  ...                                 0   \n",
       "3516                   0          0  ...                                 0   \n",
       "8105                   0          0  ...                                 0   \n",
       "3934                   0          0  ...                                 0   \n",
       "\n",
       "      City_Other Metro Cities  City_Thane & Outskirts  City_Tier II Cities  \\\n",
       "1871                        0                       0                    0   \n",
       "6795                        0                       0                    0   \n",
       "3516                        0                       0                    0   \n",
       "8105                        0                       0                    0   \n",
       "3934                        0                       0                    0   \n",
       "\n",
       "      What is your current occupation_Housewife  \\\n",
       "1871                                          0   \n",
       "6795                                          0   \n",
       "3516                                          0   \n",
       "8105                                          0   \n",
       "3934                                          0   \n",
       "\n",
       "      What is your current occupation_Other  \\\n",
       "1871                                      0   \n",
       "6795                                      0   \n",
       "3516                                      0   \n",
       "8105                                      0   \n",
       "3934                                      0   \n",
       "\n",
       "      What is your current occupation_Student  \\\n",
       "1871                                        0   \n",
       "6795                                        0   \n",
       "3516                                        0   \n",
       "8105                                        0   \n",
       "3934                                        0   \n",
       "\n",
       "      What is your current occupation_Unemployed  \\\n",
       "1871                                           1   \n",
       "6795                                           1   \n",
       "3516                                           1   \n",
       "8105                                           1   \n",
       "3934                                           1   \n",
       "\n",
       "      What is your current occupation_Unknown  \\\n",
       "1871                                        0   \n",
       "6795                                        0   \n",
       "3516                                        0   \n",
       "8105                                        0   \n",
       "3934                                        0   \n",
       "\n",
       "      What is your current occupation_Working Professional  \n",
       "1871                                                  0     \n",
       "6795                                                  0     \n",
       "3516                                                  0     \n",
       "8105                                                  0     \n",
       "3934                                                  0     \n",
       "\n",
       "[5 rows x 102 columns]"
      ]
     },
     "execution_count": 51,
     "metadata": {},
     "output_type": "execute_result"
    }
   ],
   "source": [
    "scaler = MinMaxScaler()\n",
    "\n",
    "X_train[['TotalVisits','Total Time Spent on Website','Page Views Per Visit']] = scaler.fit_transform(X_train[['TotalVisits','Total Time Spent on Website','Page Views Per Visit']])\n",
    "\n",
    "X_train.head()"
   ]
  },
  {
   "cell_type": "code",
   "execution_count": 52,
   "metadata": {},
   "outputs": [
    {
     "data": {
      "text/plain": [
       "38.54"
      ]
     },
     "execution_count": 52,
     "metadata": {},
     "output_type": "execute_result"
    }
   ],
   "source": [
    "### Checking the Conversion Rate\n",
    "conversion_rate = (sum(df['Converted'])/len(df['Converted'].index))*100\n",
    "round(conversion_rate,2)"
   ]
  },
  {
   "cell_type": "markdown",
   "metadata": {},
   "source": [
    "# Model Building \n"
   ]
  },
  {
   "cell_type": "code",
   "execution_count": 53,
   "metadata": {},
   "outputs": [
    {
     "data": {
      "text/html": [
       "<table class=\"simpletable\">\n",
       "<caption>Generalized Linear Model Regression Results</caption>\n",
       "<tr>\n",
       "  <th>Dep. Variable:</th>       <td>Converted</td>    <th>  No. Observations:  </th>  <td>  6468</td> \n",
       "</tr>\n",
       "<tr>\n",
       "  <th>Model:</th>                  <td>GLM</td>       <th>  Df Residuals:      </th>  <td>  6374</td> \n",
       "</tr>\n",
       "<tr>\n",
       "  <th>Model Family:</th>        <td>Binomial</td>     <th>  Df Model:          </th>  <td>    93</td> \n",
       "</tr>\n",
       "<tr>\n",
       "  <th>Link Function:</th>         <td>logit</td>      <th>  Scale:             </th> <td>  1.0000</td>\n",
       "</tr>\n",
       "<tr>\n",
       "  <th>Method:</th>                <td>IRLS</td>       <th>  Log-Likelihood:    </th> <td>     nan</td>\n",
       "</tr>\n",
       "<tr>\n",
       "  <th>Date:</th>            <td>Wed, 11 Oct 2023</td> <th>  Deviance:          </th> <td>     nan</td>\n",
       "</tr>\n",
       "<tr>\n",
       "  <th>Time:</th>                <td>09:56:23</td>     <th>  Pearson chi2:      </th> <td>7.75e+18</td>\n",
       "</tr>\n",
       "<tr>\n",
       "  <th>No. Iterations:</th>         <td>100</td>       <th>                     </th>     <td> </td>   \n",
       "</tr>\n",
       "<tr>\n",
       "  <th>Covariance Type:</th>     <td>nonrobust</td>    <th>                     </th>     <td> </td>   \n",
       "</tr>\n",
       "</table>\n",
       "<table class=\"simpletable\">\n",
       "<tr>\n",
       "                                     <td></td>                                        <th>coef</th>     <th>std err</th>      <th>z</th>      <th>P>|z|</th>  <th>[0.025</th>    <th>0.975]</th>  \n",
       "</tr>\n",
       "<tr>\n",
       "  <th>const</th>                                                                   <td> 1.726e+15</td> <td> 5.28e+07</td> <td> 3.27e+07</td> <td> 0.000</td> <td> 1.73e+15</td> <td> 1.73e+15</td>\n",
       "</tr>\n",
       "<tr>\n",
       "  <th>Do Not Email</th>                                                            <td>-7.048e+14</td> <td> 4.44e+06</td> <td>-1.59e+08</td> <td> 0.000</td> <td>-7.05e+14</td> <td>-7.05e+14</td>\n",
       "</tr>\n",
       "<tr>\n",
       "  <th>Do Not Call</th>                                                             <td> 7.326e+13</td> <td> 4.77e+07</td> <td> 1.54e+06</td> <td> 0.000</td> <td> 7.33e+13</td> <td> 7.33e+13</td>\n",
       "</tr>\n",
       "<tr>\n",
       "  <th>TotalVisits</th>                                                             <td>  8.31e+14</td> <td> 5.31e+06</td> <td> 1.56e+08</td> <td> 0.000</td> <td> 8.31e+14</td> <td> 8.31e+14</td>\n",
       "</tr>\n",
       "<tr>\n",
       "  <th>Total Time Spent on Website</th>                                             <td> 2.909e+15</td> <td> 3.99e+06</td> <td>  7.3e+08</td> <td> 0.000</td> <td> 2.91e+15</td> <td> 2.91e+15</td>\n",
       "</tr>\n",
       "<tr>\n",
       "  <th>Page Views Per Visit</th>                                                    <td>-9.338e+14</td> <td> 5.18e+06</td> <td> -1.8e+08</td> <td> 0.000</td> <td>-9.34e+14</td> <td>-9.34e+14</td>\n",
       "</tr>\n",
       "<tr>\n",
       "  <th>Search</th>                                                                  <td> 5.363e+14</td> <td> 2.21e+07</td> <td> 2.42e+07</td> <td> 0.000</td> <td> 5.36e+14</td> <td> 5.36e+14</td>\n",
       "</tr>\n",
       "<tr>\n",
       "  <th>Magazine</th>                                                                <td>   -0.9235</td> <td> 9.24e-07</td> <td>   -1e+06</td> <td> 0.000</td> <td>   -0.924</td> <td>   -0.924</td>\n",
       "</tr>\n",
       "<tr>\n",
       "  <th>Newspaper Article</th>                                                       <td> 4.206e+15</td> <td> 6.73e+07</td> <td> 6.25e+07</td> <td> 0.000</td> <td> 4.21e+15</td> <td> 4.21e+15</td>\n",
       "</tr>\n",
       "<tr>\n",
       "  <th>X Education Forums</th>                                                      <td>-4.746e+15</td> <td> 1.11e+08</td> <td>-4.26e+07</td> <td> 0.000</td> <td>-4.75e+15</td> <td>-4.75e+15</td>\n",
       "</tr>\n",
       "<tr>\n",
       "  <th>Newspaper</th>                                                               <td>-6.745e+15</td> <td> 6.73e+07</td> <td>   -1e+08</td> <td> 0.000</td> <td>-6.74e+15</td> <td>-6.74e+15</td>\n",
       "</tr>\n",
       "<tr>\n",
       "  <th>Digital Advertisement</th>                                                   <td>-2.723e+15</td> <td> 4.77e+07</td> <td>-5.71e+07</td> <td> 0.000</td> <td>-2.72e+15</td> <td>-2.72e+15</td>\n",
       "</tr>\n",
       "<tr>\n",
       "  <th>Through Recommendations</th>                                                 <td>-9.126e+14</td> <td> 2.86e+07</td> <td>-3.19e+07</td> <td> 0.000</td> <td>-9.13e+14</td> <td>-9.13e+14</td>\n",
       "</tr>\n",
       "<tr>\n",
       "  <th>Receive More Updates About Our Courses</th>                                  <td>   26.8590</td> <td> 4.65e-07</td> <td> 5.78e+07</td> <td> 0.000</td> <td>   26.859</td> <td>   26.859</td>\n",
       "</tr>\n",
       "<tr>\n",
       "  <th>Update me on Supply Chain Content</th>                                       <td>    8.5076</td> <td> 6.64e-07</td> <td> 1.28e+07</td> <td> 0.000</td> <td>    8.508</td> <td>    8.508</td>\n",
       "</tr>\n",
       "<tr>\n",
       "  <th>I agree to pay the amount through cheque</th>                                <td>    7.6185</td> <td> 7.79e-07</td> <td> 9.78e+06</td> <td> 0.000</td> <td>    7.618</td> <td>    7.618</td>\n",
       "</tr>\n",
       "<tr>\n",
       "  <th>A free copy of Mastering The Interview</th>                                  <td>-2.017e+14</td> <td>  2.7e+06</td> <td>-7.47e+07</td> <td> 0.000</td> <td>-2.02e+14</td> <td>-2.02e+14</td>\n",
       "</tr>\n",
       "<tr>\n",
       "  <th>Lead Origin_Landing Page Submission</th>                                     <td>-3.461e+14</td> <td> 3.43e+06</td> <td>-1.01e+08</td> <td> 0.000</td> <td>-3.46e+14</td> <td>-3.46e+14</td>\n",
       "</tr>\n",
       "<tr>\n",
       "  <th>Lead Origin_Lead Add Form</th>                                               <td> 1.741e+15</td> <td>  1.3e+07</td> <td> 1.34e+08</td> <td> 0.000</td> <td> 1.74e+15</td> <td> 1.74e+15</td>\n",
       "</tr>\n",
       "<tr>\n",
       "  <th>Lead Origin_Lead Import</th>                                                 <td>  1.38e+15</td> <td> 4.81e+07</td> <td> 2.87e+07</td> <td> 0.000</td> <td> 1.38e+15</td> <td> 1.38e+15</td>\n",
       "</tr>\n",
       "<tr>\n",
       "  <th>Lead Origin_Quick Add Form</th>                                              <td> 1.656e+15</td> <td>  6.8e+07</td> <td> 2.44e+07</td> <td> 0.000</td> <td> 1.66e+15</td> <td> 1.66e+15</td>\n",
       "</tr>\n",
       "<tr>\n",
       "  <th>Lead Source_Direct Traffic</th>                                              <td>-1.962e+14</td> <td> 4.11e+07</td> <td>-4.78e+06</td> <td> 0.000</td> <td>-1.96e+14</td> <td>-1.96e+14</td>\n",
       "</tr>\n",
       "<tr>\n",
       "  <th>Lead Source_Facebook</th>                                                    <td>-1.414e+15</td> <td> 6.32e+07</td> <td>-2.24e+07</td> <td> 0.000</td> <td>-1.41e+15</td> <td>-1.41e+15</td>\n",
       "</tr>\n",
       "<tr>\n",
       "  <th>Lead Source_Google</th>                                                      <td>  7.92e+13</td> <td>  4.1e+07</td> <td> 1.93e+06</td> <td> 0.000</td> <td> 7.92e+13</td> <td> 7.92e+13</td>\n",
       "</tr>\n",
       "<tr>\n",
       "  <th>Lead Source_Live Chat</th>                                                   <td> 3.912e+15</td> <td> 6.14e+07</td> <td> 6.37e+07</td> <td> 0.000</td> <td> 3.91e+15</td> <td> 3.91e+15</td>\n",
       "</tr>\n",
       "<tr>\n",
       "  <th>Lead Source_NC_EDM</th>                                                      <td> 3.777e+15</td> <td> 7.87e+07</td> <td>  4.8e+07</td> <td> 0.000</td> <td> 3.78e+15</td> <td> 3.78e+15</td>\n",
       "</tr>\n",
       "<tr>\n",
       "  <th>Lead Source_Olark Chat</th>                                                  <td>-2.445e+14</td> <td> 4.11e+07</td> <td>-5.95e+06</td> <td> 0.000</td> <td>-2.44e+14</td> <td>-2.44e+14</td>\n",
       "</tr>\n",
       "<tr>\n",
       "  <th>Lead Source_Organic Search</th>                                              <td>-6.025e+13</td> <td> 4.11e+07</td> <td>-1.47e+06</td> <td> 0.000</td> <td>-6.03e+13</td> <td>-6.03e+13</td>\n",
       "</tr>\n",
       "<tr>\n",
       "  <th>Lead Source_Pay per Click Ads</th>                                           <td> -4.69e+15</td> <td> 7.88e+07</td> <td>-5.95e+07</td> <td> 0.000</td> <td>-4.69e+15</td> <td>-4.69e+15</td>\n",
       "</tr>\n",
       "<tr>\n",
       "  <th>Lead Source_Press_Release</th>                                               <td>-4.357e+15</td> <td> 6.32e+07</td> <td> -6.9e+07</td> <td> 0.000</td> <td>-4.36e+15</td> <td>-4.36e+15</td>\n",
       "</tr>\n",
       "<tr>\n",
       "  <th>Lead Source_Reference</th>                                                   <td>-9.135e+14</td> <td>  3.9e+07</td> <td>-2.34e+07</td> <td> 0.000</td> <td>-9.13e+14</td> <td>-9.13e+14</td>\n",
       "</tr>\n",
       "<tr>\n",
       "  <th>Lead Source_Referral Sites</th>                                              <td> 5.631e+12</td> <td> 4.16e+07</td> <td> 1.35e+05</td> <td> 0.000</td> <td> 5.63e+12</td> <td> 5.63e+12</td>\n",
       "</tr>\n",
       "<tr>\n",
       "  <th>Lead Source_Social Media</th>                                                <td> -5.75e+14</td> <td> 6.29e+07</td> <td>-9.15e+06</td> <td> 0.000</td> <td>-5.75e+14</td> <td>-5.75e+14</td>\n",
       "</tr>\n",
       "<tr>\n",
       "  <th>Lead Source_WeLearn</th>                                                     <td> 3.124e+15</td> <td> 7.88e+07</td> <td> 3.97e+07</td> <td> 0.000</td> <td> 3.12e+15</td> <td> 3.12e+15</td>\n",
       "</tr>\n",
       "<tr>\n",
       "  <th>Lead Source_Welingak Website</th>                                            <td>-2.162e+14</td> <td> 3.96e+07</td> <td>-5.46e+06</td> <td> 0.000</td> <td>-2.16e+14</td> <td>-2.16e+14</td>\n",
       "</tr>\n",
       "<tr>\n",
       "  <th>Lead Source_bing</th>                                                        <td> 6.413e+14</td> <td> 5.65e+07</td> <td> 1.14e+07</td> <td> 0.000</td> <td> 6.41e+14</td> <td> 6.41e+14</td>\n",
       "</tr>\n",
       "<tr>\n",
       "  <th>Lead Source_blog</th>                                                        <td>-4.622e+15</td> <td> 7.88e+07</td> <td>-5.87e+07</td> <td> 0.000</td> <td>-4.62e+15</td> <td>-4.62e+15</td>\n",
       "</tr>\n",
       "<tr>\n",
       "  <th>Lead Source_testone</th>                                                     <td>  -19.2742</td> <td> 6.86e-07</td> <td>-2.81e+07</td> <td> 0.000</td> <td>  -19.274</td> <td>  -19.274</td>\n",
       "</tr>\n",
       "<tr>\n",
       "  <th>Lead Source_welearnblog_Home</th>                                            <td>-4.415e+15</td> <td> 7.88e+07</td> <td> -5.6e+07</td> <td> 0.000</td> <td>-4.41e+15</td> <td>-4.41e+15</td>\n",
       "</tr>\n",
       "<tr>\n",
       "  <th>Lead Source_youtubechannel</th>                                              <td>-4.719e+15</td> <td> 7.98e+07</td> <td>-5.91e+07</td> <td> 0.000</td> <td>-4.72e+15</td> <td>-4.72e+15</td>\n",
       "</tr>\n",
       "<tr>\n",
       "  <th>Specialization_Business Administration</th>                                  <td> -2.31e+14</td> <td> 6.04e+06</td> <td>-3.83e+07</td> <td> 0.000</td> <td>-2.31e+14</td> <td>-2.31e+14</td>\n",
       "</tr>\n",
       "<tr>\n",
       "  <th>Specialization_E-Business</th>                                               <td> 3.099e+14</td> <td>  1.2e+07</td> <td> 2.58e+07</td> <td> 0.000</td> <td>  3.1e+14</td> <td>  3.1e+14</td>\n",
       "</tr>\n",
       "<tr>\n",
       "  <th>Specialization_E-COMMERCE</th>                                               <td> 2.315e+14</td> <td> 8.69e+06</td> <td> 2.66e+07</td> <td> 0.000</td> <td> 2.32e+14</td> <td> 2.32e+14</td>\n",
       "</tr>\n",
       "<tr>\n",
       "  <th>Specialization_Finance Management</th>                                       <td> 3.904e+13</td> <td> 5.18e+06</td> <td> 7.54e+06</td> <td> 0.000</td> <td>  3.9e+13</td> <td>  3.9e+13</td>\n",
       "</tr>\n",
       "<tr>\n",
       "  <th>Specialization_Healthcare Management</th>                                    <td>-1.928e+12</td> <td> 8.16e+06</td> <td>-2.36e+05</td> <td> 0.000</td> <td>-1.93e+12</td> <td>-1.93e+12</td>\n",
       "</tr>\n",
       "<tr>\n",
       "  <th>Specialization_Hospitality Management</th>                                   <td>-7.088e+14</td> <td> 8.51e+06</td> <td>-8.33e+07</td> <td> 0.000</td> <td>-7.09e+14</td> <td>-7.09e+14</td>\n",
       "</tr>\n",
       "<tr>\n",
       "  <th>Specialization_Human Resource Management</th>                                <td>-1.143e+14</td> <td> 5.27e+06</td> <td>-2.17e+07</td> <td> 0.000</td> <td>-1.14e+14</td> <td>-1.14e+14</td>\n",
       "</tr>\n",
       "<tr>\n",
       "  <th>Specialization_IT Projects Management</th>                                   <td>  3.49e+13</td> <td> 6.27e+06</td> <td> 5.56e+06</td> <td> 0.000</td> <td> 3.49e+13</td> <td> 3.49e+13</td>\n",
       "</tr>\n",
       "<tr>\n",
       "  <th>Specialization_International Business</th>                                   <td>-2.735e+14</td> <td>  7.6e+06</td> <td> -3.6e+07</td> <td> 0.000</td> <td>-2.73e+14</td> <td>-2.73e+14</td>\n",
       "</tr>\n",
       "<tr>\n",
       "  <th>Specialization_Marketing Management</th>                                     <td>-1.179e+14</td> <td> 5.27e+06</td> <td>-2.24e+07</td> <td> 0.000</td> <td>-1.18e+14</td> <td>-1.18e+14</td>\n",
       "</tr>\n",
       "<tr>\n",
       "  <th>Specialization_Media and Advertising</th>                                    <td>-6.116e+13</td> <td>  7.4e+06</td> <td>-8.26e+06</td> <td> 0.000</td> <td>-6.12e+13</td> <td>-6.12e+13</td>\n",
       "</tr>\n",
       "<tr>\n",
       "  <th>Specialization_Operations Management</th>                                    <td>-6.564e+13</td> <td> 5.71e+06</td> <td>-1.15e+07</td> <td> 0.000</td> <td>-6.56e+13</td> <td>-6.56e+13</td>\n",
       "</tr>\n",
       "<tr>\n",
       "  <th>Specialization_Retail Management</th>                                        <td>-3.972e+14</td> <td> 9.22e+06</td> <td>-4.31e+07</td> <td> 0.000</td> <td>-3.97e+14</td> <td>-3.97e+14</td>\n",
       "</tr>\n",
       "<tr>\n",
       "  <th>Specialization_Rural and Agribusiness</th>                                   <td> 1.388e+14</td> <td> 1.09e+07</td> <td> 1.27e+07</td> <td> 0.000</td> <td> 1.39e+14</td> <td> 1.39e+14</td>\n",
       "</tr>\n",
       "<tr>\n",
       "  <th>Specialization_Services Excellence</th>                                      <td> 4.601e+12</td> <td> 1.29e+07</td> <td> 3.56e+05</td> <td> 0.000</td> <td>  4.6e+12</td> <td>  4.6e+12</td>\n",
       "</tr>\n",
       "<tr>\n",
       "  <th>Specialization_Supply Chain Management</th>                                  <td>  4.66e+13</td> <td> 6.25e+06</td> <td> 7.46e+06</td> <td> 0.000</td> <td> 4.66e+13</td> <td> 4.66e+13</td>\n",
       "</tr>\n",
       "<tr>\n",
       "  <th>Specialization_Travel and Tourism</th>                                       <td> 1.654e+14</td> <td> 7.39e+06</td> <td> 2.24e+07</td> <td> 0.000</td> <td> 1.65e+14</td> <td> 1.65e+14</td>\n",
       "</tr>\n",
       "<tr>\n",
       "  <th>Specialization_Unknown</th>                                                  <td>-5.673e+14</td> <td>  5.4e+06</td> <td>-1.05e+08</td> <td> 0.000</td> <td>-5.67e+14</td> <td>-5.67e+14</td>\n",
       "</tr>\n",
       "<tr>\n",
       "  <th>Last Activity_Converted to Lead</th>                                         <td> -4.05e+15</td> <td> 2.79e+07</td> <td>-1.45e+08</td> <td> 0.000</td> <td>-4.05e+15</td> <td>-4.05e+15</td>\n",
       "</tr>\n",
       "<tr>\n",
       "  <th>Last Activity_Email Bounced</th>                                             <td>-3.924e+15</td> <td> 2.83e+07</td> <td>-1.39e+08</td> <td> 0.000</td> <td>-3.92e+15</td> <td>-3.92e+15</td>\n",
       "</tr>\n",
       "<tr>\n",
       "  <th>Last Activity_Email Link Clicked</th>                                        <td>-3.796e+15</td> <td> 2.88e+07</td> <td>-1.32e+08</td> <td> 0.000</td> <td> -3.8e+15</td> <td> -3.8e+15</td>\n",
       "</tr>\n",
       "<tr>\n",
       "  <th>Last Activity_Email Marked Spam</th>                                         <td>-5.662e+14</td> <td>  3.5e+07</td> <td>-1.62e+07</td> <td> 0.000</td> <td>-5.66e+14</td> <td>-5.66e+14</td>\n",
       "</tr>\n",
       "<tr>\n",
       "  <th>Last Activity_Email Opened</th>                                              <td> -3.69e+15</td> <td> 2.77e+07</td> <td>-1.33e+08</td> <td> 0.000</td> <td>-3.69e+15</td> <td>-3.69e+15</td>\n",
       "</tr>\n",
       "<tr>\n",
       "  <th>Last Activity_Email Received</th>                                            <td>-1.075e+15</td> <td> 7.27e+07</td> <td>-1.48e+07</td> <td> 0.000</td> <td>-1.07e+15</td> <td>-1.07e+15</td>\n",
       "</tr>\n",
       "<tr>\n",
       "  <th>Last Activity_Form Submitted on Website</th>                                 <td>-3.845e+15</td> <td> 2.86e+07</td> <td>-1.34e+08</td> <td> 0.000</td> <td>-3.84e+15</td> <td>-3.84e+15</td>\n",
       "</tr>\n",
       "<tr>\n",
       "  <th>Last Activity_Had a Phone Conversation</th>                                  <td> -3.49e+15</td> <td> 3.42e+07</td> <td>-1.02e+08</td> <td> 0.000</td> <td>-3.49e+15</td> <td>-3.49e+15</td>\n",
       "</tr>\n",
       "<tr>\n",
       "  <th>Last Activity_Olark Chat Conversation</th>                                   <td>-3.363e+15</td> <td> 2.77e+07</td> <td>-1.21e+08</td> <td> 0.000</td> <td>-3.36e+15</td> <td>-3.36e+15</td>\n",
       "</tr>\n",
       "<tr>\n",
       "  <th>Last Activity_Page Visited on Website</th>                                   <td>-3.867e+15</td> <td> 2.79e+07</td> <td>-1.39e+08</td> <td> 0.000</td> <td>-3.87e+15</td> <td>-3.87e+15</td>\n",
       "</tr>\n",
       "<tr>\n",
       "  <th>Last Activity_Resubscribed to emails</th>                                    <td>  1.13e+15</td> <td> 3.48e+07</td> <td> 3.25e+07</td> <td> 0.000</td> <td> 1.13e+15</td> <td> 1.13e+15</td>\n",
       "</tr>\n",
       "<tr>\n",
       "  <th>Last Activity_SMS Sent</th>                                                  <td>-3.298e+15</td> <td> 2.77e+07</td> <td>-1.19e+08</td> <td> 0.000</td> <td> -3.3e+15</td> <td> -3.3e+15</td>\n",
       "</tr>\n",
       "<tr>\n",
       "  <th>Last Activity_Unreachable</th>                                               <td>-4.364e+15</td> <td> 2.97e+07</td> <td>-1.47e+08</td> <td> 0.000</td> <td>-4.36e+15</td> <td>-4.36e+15</td>\n",
       "</tr>\n",
       "<tr>\n",
       "  <th>Last Activity_Unsubscribed</th>                                              <td>-3.846e+15</td> <td> 3.66e+07</td> <td>-1.05e+08</td> <td> 0.000</td> <td>-3.85e+15</td> <td>-3.85e+15</td>\n",
       "</tr>\n",
       "<tr>\n",
       "  <th>Last Activity_View in browser link Clicked</th>                              <td>-3.859e+15</td> <td>  4.1e+07</td> <td>-9.42e+07</td> <td> 0.000</td> <td>-3.86e+15</td> <td>-3.86e+15</td>\n",
       "</tr>\n",
       "<tr>\n",
       "  <th>Last Activity_Visited Booth in Tradeshow</th>                                <td>-7.993e+15</td> <td> 7.26e+07</td> <td> -1.1e+08</td> <td> 0.000</td> <td>-7.99e+15</td> <td>-7.99e+15</td>\n",
       "</tr>\n",
       "<tr>\n",
       "  <th>What matters most to you in choosing a course_Flexibility & Convenience</th> <td>-6.199e+14</td> <td> 4.77e+07</td> <td> -1.3e+07</td> <td> 0.000</td> <td> -6.2e+14</td> <td> -6.2e+14</td>\n",
       "</tr>\n",
       "<tr>\n",
       "  <th>What matters most to you in choosing a course_Other</th>                     <td>-3.921e+15</td> <td> 6.73e+07</td> <td>-5.82e+07</td> <td> 0.000</td> <td>-3.92e+15</td> <td>-3.92e+15</td>\n",
       "</tr>\n",
       "<tr>\n",
       "  <th>What matters most to you in choosing a course_Unknown</th>                   <td>-2.992e+15</td> <td>    2e+07</td> <td> -1.5e+08</td> <td> 0.000</td> <td>-2.99e+15</td> <td>-2.99e+15</td>\n",
       "</tr>\n",
       "<tr>\n",
       "  <th>Last Notable Activity_Email Bounced</th>                                     <td> 9.463e+14</td> <td> 1.54e+07</td> <td> 6.13e+07</td> <td> 0.000</td> <td> 9.46e+14</td> <td> 9.46e+14</td>\n",
       "</tr>\n",
       "<tr>\n",
       "  <th>Last Notable Activity_Email Link Clicked</th>                                <td> 1.431e+14</td> <td> 1.47e+07</td> <td> 9.76e+06</td> <td> 0.000</td> <td> 1.43e+14</td> <td> 1.43e+14</td>\n",
       "</tr>\n",
       "<tr>\n",
       "  <th>Last Notable Activity_Email Marked Spam</th>                                 <td>-5.662e+14</td> <td>  3.5e+07</td> <td>-1.62e+07</td> <td> 0.000</td> <td>-5.66e+14</td> <td>-5.66e+14</td>\n",
       "</tr>\n",
       "<tr>\n",
       "  <th>Last Notable Activity_Email Opened</th>                                      <td> 5.282e+14</td> <td> 1.15e+07</td> <td>  4.6e+07</td> <td> 0.000</td> <td> 5.28e+14</td> <td> 5.28e+14</td>\n",
       "</tr>\n",
       "<tr>\n",
       "  <th>Last Notable Activity_Email Received</th>                                    <td> 6.779e+14</td> <td> 8.86e+07</td> <td> 7.65e+06</td> <td> 0.000</td> <td> 6.78e+14</td> <td> 6.78e+14</td>\n",
       "</tr>\n",
       "<tr>\n",
       "  <th>Last Notable Activity_Form Submitted on Website</th>                         <td>-3.132e+15</td> <td> 6.37e+07</td> <td>-4.92e+07</td> <td> 0.000</td> <td>-3.13e+15</td> <td>-3.13e+15</td>\n",
       "</tr>\n",
       "<tr>\n",
       "  <th>Last Notable Activity_Had a Phone Conversation</th>                          <td> 7.835e+14</td> <td> 2.88e+07</td> <td> 2.72e+07</td> <td> 0.000</td> <td> 7.83e+14</td> <td> 7.83e+14</td>\n",
       "</tr>\n",
       "<tr>\n",
       "  <th>Last Notable Activity_Modified</th>                                          <td> 1.542e+14</td> <td>  1.1e+07</td> <td>  1.4e+07</td> <td> 0.000</td> <td> 1.54e+14</td> <td> 1.54e+14</td>\n",
       "</tr>\n",
       "<tr>\n",
       "  <th>Last Notable Activity_Olark Chat Conversation</th>                           <td> 1.412e+14</td> <td> 1.27e+07</td> <td> 1.11e+07</td> <td> 0.000</td> <td> 1.41e+14</td> <td> 1.41e+14</td>\n",
       "</tr>\n",
       "<tr>\n",
       "  <th>Last Notable Activity_Page Visited on Website</th>                           <td> 4.612e+14</td> <td> 1.24e+07</td> <td> 3.71e+07</td> <td> 0.000</td> <td> 4.61e+14</td> <td> 4.61e+14</td>\n",
       "</tr>\n",
       "<tr>\n",
       "  <th>Last Notable Activity_Resubscribed to emails</th>                            <td>  1.13e+15</td> <td> 3.48e+07</td> <td> 3.25e+07</td> <td> 0.000</td> <td> 1.13e+15</td> <td> 1.13e+15</td>\n",
       "</tr>\n",
       "<tr>\n",
       "  <th>Last Notable Activity_SMS Sent</th>                                          <td> -9.16e+14</td> <td> 1.16e+07</td> <td>-7.92e+07</td> <td> 0.000</td> <td>-9.16e+14</td> <td>-9.16e+14</td>\n",
       "</tr>\n",
       "<tr>\n",
       "  <th>Last Notable Activity_Unreachable</th>                                       <td> 4.612e+14</td> <td> 2.03e+07</td> <td> 2.27e+07</td> <td> 0.000</td> <td> 4.61e+14</td> <td> 4.61e+14</td>\n",
       "</tr>\n",
       "<tr>\n",
       "  <th>Last Notable Activity_Unsubscribed</th>                                      <td> 9.139e+14</td> <td> 2.73e+07</td> <td> 3.35e+07</td> <td> 0.000</td> <td> 9.14e+14</td> <td> 9.14e+14</td>\n",
       "</tr>\n",
       "<tr>\n",
       "  <th>Last Notable Activity_View in browser link Clicked</th>                      <td>   -1.7989</td> <td> 2.29e-08</td> <td>-7.87e+07</td> <td> 0.000</td> <td>   -1.799</td> <td>   -1.799</td>\n",
       "</tr>\n",
       "<tr>\n",
       "  <th>City_Other Cities</th>                                                       <td> 5.379e+13</td> <td> 3.36e+06</td> <td>  1.6e+07</td> <td> 0.000</td> <td> 5.38e+13</td> <td> 5.38e+13</td>\n",
       "</tr>\n",
       "<tr>\n",
       "  <th>City_Other Cities of Maharashtra</th>                                        <td>-7.114e+13</td> <td> 4.05e+06</td> <td>-1.76e+07</td> <td> 0.000</td> <td>-7.11e+13</td> <td>-7.11e+13</td>\n",
       "</tr>\n",
       "<tr>\n",
       "  <th>City_Other Metro Cities</th>                                                 <td> 3.493e+13</td> <td> 4.45e+06</td> <td> 7.84e+06</td> <td> 0.000</td> <td> 3.49e+13</td> <td> 3.49e+13</td>\n",
       "</tr>\n",
       "<tr>\n",
       "  <th>City_Thane & Outskirts</th>                                                  <td>-1.343e+13</td> <td> 3.27e+06</td> <td>-4.11e+06</td> <td> 0.000</td> <td>-1.34e+13</td> <td>-1.34e+13</td>\n",
       "</tr>\n",
       "<tr>\n",
       "  <th>City_Tier II Cities</th>                                                     <td>-3.311e+14</td> <td> 9.61e+06</td> <td>-3.45e+07</td> <td> 0.000</td> <td>-3.31e+14</td> <td>-3.31e+14</td>\n",
       "</tr>\n",
       "<tr>\n",
       "  <th>What is your current occupation_Housewife</th>                               <td> 5.563e+15</td> <td> 3.57e+07</td> <td> 1.56e+08</td> <td> 0.000</td> <td> 5.56e+15</td> <td> 5.56e+15</td>\n",
       "</tr>\n",
       "<tr>\n",
       "  <th>What is your current occupation_Other</th>                                   <td> 1.535e+15</td> <td> 3.66e+07</td> <td> 4.19e+07</td> <td> 0.000</td> <td> 1.53e+15</td> <td> 1.53e+15</td>\n",
       "</tr>\n",
       "<tr>\n",
       "  <th>What is your current occupation_Student</th>                                 <td> 1.717e+15</td> <td> 2.83e+07</td> <td> 6.06e+07</td> <td> 0.000</td> <td> 1.72e+15</td> <td> 1.72e+15</td>\n",
       "</tr>\n",
       "<tr>\n",
       "  <th>What is your current occupation_Unemployed</th>                              <td> 1.868e+15</td> <td> 2.79e+07</td> <td>  6.7e+07</td> <td> 0.000</td> <td> 1.87e+15</td> <td> 1.87e+15</td>\n",
       "</tr>\n",
       "<tr>\n",
       "  <th>What is your current occupation_Unknown</th>                                 <td> 4.471e+15</td> <td> 3.22e+07</td> <td> 1.39e+08</td> <td> 0.000</td> <td> 4.47e+15</td> <td> 4.47e+15</td>\n",
       "</tr>\n",
       "<tr>\n",
       "  <th>What is your current occupation_Working Professional</th>                    <td> 2.507e+15</td> <td>  2.8e+07</td> <td> 8.96e+07</td> <td> 0.000</td> <td> 2.51e+15</td> <td> 2.51e+15</td>\n",
       "</tr>\n",
       "</table>"
      ],
      "text/plain": [
       "<class 'statsmodels.iolib.summary.Summary'>\n",
       "\"\"\"\n",
       "                 Generalized Linear Model Regression Results                  \n",
       "==============================================================================\n",
       "Dep. Variable:              Converted   No. Observations:                 6468\n",
       "Model:                            GLM   Df Residuals:                     6374\n",
       "Model Family:                Binomial   Df Model:                           93\n",
       "Link Function:                  logit   Scale:                          1.0000\n",
       "Method:                          IRLS   Log-Likelihood:                    nan\n",
       "Date:                Wed, 11 Oct 2023   Deviance:                          nan\n",
       "Time:                        09:56:23   Pearson chi2:                 7.75e+18\n",
       "No. Iterations:                   100                                         \n",
       "Covariance Type:            nonrobust                                         \n",
       "===========================================================================================================================================\n",
       "                                                                              coef    std err          z      P>|z|      [0.025      0.975]\n",
       "-------------------------------------------------------------------------------------------------------------------------------------------\n",
       "const                                                                    1.726e+15   5.28e+07   3.27e+07      0.000    1.73e+15    1.73e+15\n",
       "Do Not Email                                                            -7.048e+14   4.44e+06  -1.59e+08      0.000   -7.05e+14   -7.05e+14\n",
       "Do Not Call                                                              7.326e+13   4.77e+07   1.54e+06      0.000    7.33e+13    7.33e+13\n",
       "TotalVisits                                                               8.31e+14   5.31e+06   1.56e+08      0.000    8.31e+14    8.31e+14\n",
       "Total Time Spent on Website                                              2.909e+15   3.99e+06    7.3e+08      0.000    2.91e+15    2.91e+15\n",
       "Page Views Per Visit                                                    -9.338e+14   5.18e+06   -1.8e+08      0.000   -9.34e+14   -9.34e+14\n",
       "Search                                                                   5.363e+14   2.21e+07   2.42e+07      0.000    5.36e+14    5.36e+14\n",
       "Magazine                                                                   -0.9235   9.24e-07     -1e+06      0.000      -0.924      -0.924\n",
       "Newspaper Article                                                        4.206e+15   6.73e+07   6.25e+07      0.000    4.21e+15    4.21e+15\n",
       "X Education Forums                                                      -4.746e+15   1.11e+08  -4.26e+07      0.000   -4.75e+15   -4.75e+15\n",
       "Newspaper                                                               -6.745e+15   6.73e+07     -1e+08      0.000   -6.74e+15   -6.74e+15\n",
       "Digital Advertisement                                                   -2.723e+15   4.77e+07  -5.71e+07      0.000   -2.72e+15   -2.72e+15\n",
       "Through Recommendations                                                 -9.126e+14   2.86e+07  -3.19e+07      0.000   -9.13e+14   -9.13e+14\n",
       "Receive More Updates About Our Courses                                     26.8590   4.65e-07   5.78e+07      0.000      26.859      26.859\n",
       "Update me on Supply Chain Content                                           8.5076   6.64e-07   1.28e+07      0.000       8.508       8.508\n",
       "I agree to pay the amount through cheque                                    7.6185   7.79e-07   9.78e+06      0.000       7.618       7.618\n",
       "A free copy of Mastering The Interview                                  -2.017e+14    2.7e+06  -7.47e+07      0.000   -2.02e+14   -2.02e+14\n",
       "Lead Origin_Landing Page Submission                                     -3.461e+14   3.43e+06  -1.01e+08      0.000   -3.46e+14   -3.46e+14\n",
       "Lead Origin_Lead Add Form                                                1.741e+15    1.3e+07   1.34e+08      0.000    1.74e+15    1.74e+15\n",
       "Lead Origin_Lead Import                                                   1.38e+15   4.81e+07   2.87e+07      0.000    1.38e+15    1.38e+15\n",
       "Lead Origin_Quick Add Form                                               1.656e+15    6.8e+07   2.44e+07      0.000    1.66e+15    1.66e+15\n",
       "Lead Source_Direct Traffic                                              -1.962e+14   4.11e+07  -4.78e+06      0.000   -1.96e+14   -1.96e+14\n",
       "Lead Source_Facebook                                                    -1.414e+15   6.32e+07  -2.24e+07      0.000   -1.41e+15   -1.41e+15\n",
       "Lead Source_Google                                                        7.92e+13    4.1e+07   1.93e+06      0.000    7.92e+13    7.92e+13\n",
       "Lead Source_Live Chat                                                    3.912e+15   6.14e+07   6.37e+07      0.000    3.91e+15    3.91e+15\n",
       "Lead Source_NC_EDM                                                       3.777e+15   7.87e+07    4.8e+07      0.000    3.78e+15    3.78e+15\n",
       "Lead Source_Olark Chat                                                  -2.445e+14   4.11e+07  -5.95e+06      0.000   -2.44e+14   -2.44e+14\n",
       "Lead Source_Organic Search                                              -6.025e+13   4.11e+07  -1.47e+06      0.000   -6.03e+13   -6.03e+13\n",
       "Lead Source_Pay per Click Ads                                            -4.69e+15   7.88e+07  -5.95e+07      0.000   -4.69e+15   -4.69e+15\n",
       "Lead Source_Press_Release                                               -4.357e+15   6.32e+07   -6.9e+07      0.000   -4.36e+15   -4.36e+15\n",
       "Lead Source_Reference                                                   -9.135e+14    3.9e+07  -2.34e+07      0.000   -9.13e+14   -9.13e+14\n",
       "Lead Source_Referral Sites                                               5.631e+12   4.16e+07   1.35e+05      0.000    5.63e+12    5.63e+12\n",
       "Lead Source_Social Media                                                 -5.75e+14   6.29e+07  -9.15e+06      0.000   -5.75e+14   -5.75e+14\n",
       "Lead Source_WeLearn                                                      3.124e+15   7.88e+07   3.97e+07      0.000    3.12e+15    3.12e+15\n",
       "Lead Source_Welingak Website                                            -2.162e+14   3.96e+07  -5.46e+06      0.000   -2.16e+14   -2.16e+14\n",
       "Lead Source_bing                                                         6.413e+14   5.65e+07   1.14e+07      0.000    6.41e+14    6.41e+14\n",
       "Lead Source_blog                                                        -4.622e+15   7.88e+07  -5.87e+07      0.000   -4.62e+15   -4.62e+15\n",
       "Lead Source_testone                                                       -19.2742   6.86e-07  -2.81e+07      0.000     -19.274     -19.274\n",
       "Lead Source_welearnblog_Home                                            -4.415e+15   7.88e+07   -5.6e+07      0.000   -4.41e+15   -4.41e+15\n",
       "Lead Source_youtubechannel                                              -4.719e+15   7.98e+07  -5.91e+07      0.000   -4.72e+15   -4.72e+15\n",
       "Specialization_Business Administration                                   -2.31e+14   6.04e+06  -3.83e+07      0.000   -2.31e+14   -2.31e+14\n",
       "Specialization_E-Business                                                3.099e+14    1.2e+07   2.58e+07      0.000     3.1e+14     3.1e+14\n",
       "Specialization_E-COMMERCE                                                2.315e+14   8.69e+06   2.66e+07      0.000    2.32e+14    2.32e+14\n",
       "Specialization_Finance Management                                        3.904e+13   5.18e+06   7.54e+06      0.000     3.9e+13     3.9e+13\n",
       "Specialization_Healthcare Management                                    -1.928e+12   8.16e+06  -2.36e+05      0.000   -1.93e+12   -1.93e+12\n",
       "Specialization_Hospitality Management                                   -7.088e+14   8.51e+06  -8.33e+07      0.000   -7.09e+14   -7.09e+14\n",
       "Specialization_Human Resource Management                                -1.143e+14   5.27e+06  -2.17e+07      0.000   -1.14e+14   -1.14e+14\n",
       "Specialization_IT Projects Management                                     3.49e+13   6.27e+06   5.56e+06      0.000    3.49e+13    3.49e+13\n",
       "Specialization_International Business                                   -2.735e+14    7.6e+06   -3.6e+07      0.000   -2.73e+14   -2.73e+14\n",
       "Specialization_Marketing Management                                     -1.179e+14   5.27e+06  -2.24e+07      0.000   -1.18e+14   -1.18e+14\n",
       "Specialization_Media and Advertising                                    -6.116e+13    7.4e+06  -8.26e+06      0.000   -6.12e+13   -6.12e+13\n",
       "Specialization_Operations Management                                    -6.564e+13   5.71e+06  -1.15e+07      0.000   -6.56e+13   -6.56e+13\n",
       "Specialization_Retail Management                                        -3.972e+14   9.22e+06  -4.31e+07      0.000   -3.97e+14   -3.97e+14\n",
       "Specialization_Rural and Agribusiness                                    1.388e+14   1.09e+07   1.27e+07      0.000    1.39e+14    1.39e+14\n",
       "Specialization_Services Excellence                                       4.601e+12   1.29e+07   3.56e+05      0.000     4.6e+12     4.6e+12\n",
       "Specialization_Supply Chain Management                                    4.66e+13   6.25e+06   7.46e+06      0.000    4.66e+13    4.66e+13\n",
       "Specialization_Travel and Tourism                                        1.654e+14   7.39e+06   2.24e+07      0.000    1.65e+14    1.65e+14\n",
       "Specialization_Unknown                                                  -5.673e+14    5.4e+06  -1.05e+08      0.000   -5.67e+14   -5.67e+14\n",
       "Last Activity_Converted to Lead                                          -4.05e+15   2.79e+07  -1.45e+08      0.000   -4.05e+15   -4.05e+15\n",
       "Last Activity_Email Bounced                                             -3.924e+15   2.83e+07  -1.39e+08      0.000   -3.92e+15   -3.92e+15\n",
       "Last Activity_Email Link Clicked                                        -3.796e+15   2.88e+07  -1.32e+08      0.000    -3.8e+15    -3.8e+15\n",
       "Last Activity_Email Marked Spam                                         -5.662e+14    3.5e+07  -1.62e+07      0.000   -5.66e+14   -5.66e+14\n",
       "Last Activity_Email Opened                                               -3.69e+15   2.77e+07  -1.33e+08      0.000   -3.69e+15   -3.69e+15\n",
       "Last Activity_Email Received                                            -1.075e+15   7.27e+07  -1.48e+07      0.000   -1.07e+15   -1.07e+15\n",
       "Last Activity_Form Submitted on Website                                 -3.845e+15   2.86e+07  -1.34e+08      0.000   -3.84e+15   -3.84e+15\n",
       "Last Activity_Had a Phone Conversation                                   -3.49e+15   3.42e+07  -1.02e+08      0.000   -3.49e+15   -3.49e+15\n",
       "Last Activity_Olark Chat Conversation                                   -3.363e+15   2.77e+07  -1.21e+08      0.000   -3.36e+15   -3.36e+15\n",
       "Last Activity_Page Visited on Website                                   -3.867e+15   2.79e+07  -1.39e+08      0.000   -3.87e+15   -3.87e+15\n",
       "Last Activity_Resubscribed to emails                                      1.13e+15   3.48e+07   3.25e+07      0.000    1.13e+15    1.13e+15\n",
       "Last Activity_SMS Sent                                                  -3.298e+15   2.77e+07  -1.19e+08      0.000    -3.3e+15    -3.3e+15\n",
       "Last Activity_Unreachable                                               -4.364e+15   2.97e+07  -1.47e+08      0.000   -4.36e+15   -4.36e+15\n",
       "Last Activity_Unsubscribed                                              -3.846e+15   3.66e+07  -1.05e+08      0.000   -3.85e+15   -3.85e+15\n",
       "Last Activity_View in browser link Clicked                              -3.859e+15    4.1e+07  -9.42e+07      0.000   -3.86e+15   -3.86e+15\n",
       "Last Activity_Visited Booth in Tradeshow                                -7.993e+15   7.26e+07   -1.1e+08      0.000   -7.99e+15   -7.99e+15\n",
       "What matters most to you in choosing a course_Flexibility & Convenience -6.199e+14   4.77e+07   -1.3e+07      0.000    -6.2e+14    -6.2e+14\n",
       "What matters most to you in choosing a course_Other                     -3.921e+15   6.73e+07  -5.82e+07      0.000   -3.92e+15   -3.92e+15\n",
       "What matters most to you in choosing a course_Unknown                   -2.992e+15      2e+07   -1.5e+08      0.000   -2.99e+15   -2.99e+15\n",
       "Last Notable Activity_Email Bounced                                      9.463e+14   1.54e+07   6.13e+07      0.000    9.46e+14    9.46e+14\n",
       "Last Notable Activity_Email Link Clicked                                 1.431e+14   1.47e+07   9.76e+06      0.000    1.43e+14    1.43e+14\n",
       "Last Notable Activity_Email Marked Spam                                 -5.662e+14    3.5e+07  -1.62e+07      0.000   -5.66e+14   -5.66e+14\n",
       "Last Notable Activity_Email Opened                                       5.282e+14   1.15e+07    4.6e+07      0.000    5.28e+14    5.28e+14\n",
       "Last Notable Activity_Email Received                                     6.779e+14   8.86e+07   7.65e+06      0.000    6.78e+14    6.78e+14\n",
       "Last Notable Activity_Form Submitted on Website                         -3.132e+15   6.37e+07  -4.92e+07      0.000   -3.13e+15   -3.13e+15\n",
       "Last Notable Activity_Had a Phone Conversation                           7.835e+14   2.88e+07   2.72e+07      0.000    7.83e+14    7.83e+14\n",
       "Last Notable Activity_Modified                                           1.542e+14    1.1e+07    1.4e+07      0.000    1.54e+14    1.54e+14\n",
       "Last Notable Activity_Olark Chat Conversation                            1.412e+14   1.27e+07   1.11e+07      0.000    1.41e+14    1.41e+14\n",
       "Last Notable Activity_Page Visited on Website                            4.612e+14   1.24e+07   3.71e+07      0.000    4.61e+14    4.61e+14\n",
       "Last Notable Activity_Resubscribed to emails                              1.13e+15   3.48e+07   3.25e+07      0.000    1.13e+15    1.13e+15\n",
       "Last Notable Activity_SMS Sent                                           -9.16e+14   1.16e+07  -7.92e+07      0.000   -9.16e+14   -9.16e+14\n",
       "Last Notable Activity_Unreachable                                        4.612e+14   2.03e+07   2.27e+07      0.000    4.61e+14    4.61e+14\n",
       "Last Notable Activity_Unsubscribed                                       9.139e+14   2.73e+07   3.35e+07      0.000    9.14e+14    9.14e+14\n",
       "Last Notable Activity_View in browser link Clicked                         -1.7989   2.29e-08  -7.87e+07      0.000      -1.799      -1.799\n",
       "City_Other Cities                                                        5.379e+13   3.36e+06    1.6e+07      0.000    5.38e+13    5.38e+13\n",
       "City_Other Cities of Maharashtra                                        -7.114e+13   4.05e+06  -1.76e+07      0.000   -7.11e+13   -7.11e+13\n",
       "City_Other Metro Cities                                                  3.493e+13   4.45e+06   7.84e+06      0.000    3.49e+13    3.49e+13\n",
       "City_Thane & Outskirts                                                  -1.343e+13   3.27e+06  -4.11e+06      0.000   -1.34e+13   -1.34e+13\n",
       "City_Tier II Cities                                                     -3.311e+14   9.61e+06  -3.45e+07      0.000   -3.31e+14   -3.31e+14\n",
       "What is your current occupation_Housewife                                5.563e+15   3.57e+07   1.56e+08      0.000    5.56e+15    5.56e+15\n",
       "What is your current occupation_Other                                    1.535e+15   3.66e+07   4.19e+07      0.000    1.53e+15    1.53e+15\n",
       "What is your current occupation_Student                                  1.717e+15   2.83e+07   6.06e+07      0.000    1.72e+15    1.72e+15\n",
       "What is your current occupation_Unemployed                               1.868e+15   2.79e+07    6.7e+07      0.000    1.87e+15    1.87e+15\n",
       "What is your current occupation_Unknown                                  4.471e+15   3.22e+07   1.39e+08      0.000    4.47e+15    4.47e+15\n",
       "What is your current occupation_Working Professional                     2.507e+15    2.8e+07   8.96e+07      0.000    2.51e+15    2.51e+15\n",
       "===========================================================================================================================================\n",
       "\"\"\""
      ]
     },
     "execution_count": 53,
     "metadata": {},
     "output_type": "execute_result"
    }
   ],
   "source": [
    "# Logistic regression model\n",
    "logm1 = sm.GLM(y_train,(sm.add_constant(X_train)), family = sm.families.Binomial())\n",
    "logm1.fit().summary()"
   ]
  },
  {
   "cell_type": "markdown",
   "metadata": {},
   "source": [
    "##  Feature Selection Using RFE"
   ]
  },
  {
   "cell_type": "code",
   "execution_count": 54,
   "metadata": {},
   "outputs": [],
   "source": [
    "\n",
    "logreg = LogisticRegression()"
   ]
  },
  {
   "cell_type": "code",
   "execution_count": 55,
   "metadata": {},
   "outputs": [],
   "source": [
    "\n",
    "rfe = RFE(logreg, 15)             \n",
    "rfe = rfe.fit(X_train, y_train)"
   ]
  },
  {
   "cell_type": "code",
   "execution_count": 56,
   "metadata": {},
   "outputs": [
    {
     "data": {
      "text/plain": [
       "array([ True, False,  True,  True,  True, False, False, False, False,\n",
       "       False, False, False, False, False, False, False, False,  True,\n",
       "       False, False, False, False, False, False, False,  True, False,\n",
       "       False, False, False, False, False, False,  True, False, False,\n",
       "       False, False, False, False, False, False, False, False, False,\n",
       "       False, False, False, False, False, False, False, False, False,\n",
       "       False, False, False, False, False, False, False, False, False,\n",
       "       False,  True,  True, False, False,  True, False, False, False,\n",
       "       False, False, False,  True, False, False, False, False, False,\n",
       "       False,  True, False, False, False, False, False,  True, False,\n",
       "       False, False, False, False, False, False,  True, False, False,\n",
       "       False, False,  True])"
      ]
     },
     "execution_count": 56,
     "metadata": {},
     "output_type": "execute_result"
    }
   ],
   "source": [
    "rfe.support_"
   ]
  },
  {
   "cell_type": "code",
   "execution_count": 57,
   "metadata": {},
   "outputs": [
    {
     "data": {
      "text/plain": [
       "[('Do Not Email', True, 1),\n",
       " ('Do Not Call', False, 28),\n",
       " ('TotalVisits', True, 1),\n",
       " ('Total Time Spent on Website', True, 1),\n",
       " ('Page Views Per Visit', True, 1),\n",
       " ('Search', False, 59),\n",
       " ('Magazine', False, 84),\n",
       " ('Newspaper Article', False, 17),\n",
       " ('X Education Forums', False, 50),\n",
       " ('Newspaper', False, 6),\n",
       " ('Digital Advertisement', False, 13),\n",
       " ('Through Recommendations', False, 38),\n",
       " ('Receive More Updates About Our Courses', False, 87),\n",
       " ('Update me on Supply Chain Content', False, 83),\n",
       " ('I agree to pay the amount through cheque', False, 85),\n",
       " ('A free copy of Mastering The Interview', False, 42),\n",
       " ('Lead Origin_Landing Page Submission', False, 2),\n",
       " ('Lead Origin_Lead Add Form', True, 1),\n",
       " ('Lead Origin_Lead Import', False, 33),\n",
       " ('Lead Origin_Quick Add Form', False, 47),\n",
       " ('Lead Source_Direct Traffic', False, 32),\n",
       " ('Lead Source_Facebook', False, 26),\n",
       " ('Lead Source_Google', False, 36),\n",
       " ('Lead Source_Live Chat', False, 49),\n",
       " ('Lead Source_NC_EDM', False, 12),\n",
       " ('Lead Source_Olark Chat', True, 1),\n",
       " ('Lead Source_Organic Search', False, 34),\n",
       " ('Lead Source_Pay per Click Ads', False, 44),\n",
       " ('Lead Source_Press_Release', False, 54),\n",
       " ('Lead Source_Reference', False, 68),\n",
       " ('Lead Source_Referral Sites', False, 35),\n",
       " ('Lead Source_Social Media', False, 25),\n",
       " ('Lead Source_WeLearn', False, 40),\n",
       " ('Lead Source_Welingak Website', True, 1),\n",
       " ('Lead Source_bing', False, 67),\n",
       " ('Lead Source_blog', False, 48),\n",
       " ('Lead Source_testone', False, 86),\n",
       " ('Lead Source_welearnblog_Home', False, 57),\n",
       " ('Lead Source_youtubechannel', False, 62),\n",
       " ('Specialization_Business Administration', False, 43),\n",
       " ('Specialization_E-Business', False, 76),\n",
       " ('Specialization_E-COMMERCE', False, 39),\n",
       " ('Specialization_Finance Management', False, 74),\n",
       " ('Specialization_Healthcare Management', False, 72),\n",
       " ('Specialization_Hospitality Management', False, 4),\n",
       " ('Specialization_Human Resource Management', False, 52),\n",
       " ('Specialization_IT Projects Management', False, 73),\n",
       " ('Specialization_International Business', False, 31),\n",
       " ('Specialization_Marketing Management', False, 53),\n",
       " ('Specialization_Media and Advertising', False, 78),\n",
       " ('Specialization_Operations Management', False, 51),\n",
       " ('Specialization_Retail Management', False, 29),\n",
       " ('Specialization_Rural and Agribusiness', False, 30),\n",
       " ('Specialization_Services Excellence', False, 81),\n",
       " ('Specialization_Supply Chain Management', False, 55),\n",
       " ('Specialization_Travel and Tourism', False, 77),\n",
       " ('Specialization_Unknown', False, 3),\n",
       " ('Last Activity_Converted to Lead', False, 9),\n",
       " ('Last Activity_Email Bounced', False, 10),\n",
       " ('Last Activity_Email Link Clicked', False, 27),\n",
       " ('Last Activity_Email Marked Spam', False, 58),\n",
       " ('Last Activity_Email Opened', False, 64),\n",
       " ('Last Activity_Email Received', False, 66),\n",
       " ('Last Activity_Form Submitted on Website', False, 23),\n",
       " ('Last Activity_Had a Phone Conversation', True, 1),\n",
       " ('Last Activity_Olark Chat Conversation', True, 1),\n",
       " ('Last Activity_Page Visited on Website', False, 18),\n",
       " ('Last Activity_Resubscribed to emails', False, 7),\n",
       " ('Last Activity_SMS Sent', True, 1),\n",
       " ('Last Activity_Unreachable', False, 24),\n",
       " ('Last Activity_Unsubscribed', False, 63),\n",
       " ('Last Activity_View in browser link Clicked', False, 46),\n",
       " ('Last Activity_Visited Booth in Tradeshow', False, 65),\n",
       " ('What matters most to you in choosing a course_Flexibility & Convenience',\n",
       "  False,\n",
       "  37),\n",
       " ('What matters most to you in choosing a course_Other', False, 69),\n",
       " ('What matters most to you in choosing a course_Unknown', True, 1),\n",
       " ('Last Notable Activity_Email Bounced', False, 41),\n",
       " ('Last Notable Activity_Email Link Clicked', False, 14),\n",
       " ('Last Notable Activity_Email Marked Spam', False, 61),\n",
       " ('Last Notable Activity_Email Opened', False, 16),\n",
       " ('Last Notable Activity_Email Received', False, 75),\n",
       " ('Last Notable Activity_Form Submitted on Website', False, 70),\n",
       " ('Last Notable Activity_Had a Phone Conversation', True, 1),\n",
       " ('Last Notable Activity_Modified', False, 5),\n",
       " ('Last Notable Activity_Olark Chat Conversation', False, 15),\n",
       " ('Last Notable Activity_Page Visited on Website', False, 11),\n",
       " ('Last Notable Activity_Resubscribed to emails', False, 8),\n",
       " ('Last Notable Activity_SMS Sent', False, 60),\n",
       " ('Last Notable Activity_Unreachable', True, 1),\n",
       " ('Last Notable Activity_Unsubscribed', False, 82),\n",
       " ('Last Notable Activity_View in browser link Clicked', False, 88),\n",
       " ('City_Other Cities', False, 71),\n",
       " ('City_Other Cities of Maharashtra', False, 80),\n",
       " ('City_Other Metro Cities', False, 56),\n",
       " ('City_Thane & Outskirts', False, 79),\n",
       " ('City_Tier II Cities', False, 45),\n",
       " ('What is your current occupation_Housewife', True, 1),\n",
       " ('What is your current occupation_Other', False, 20),\n",
       " ('What is your current occupation_Student', False, 22),\n",
       " ('What is your current occupation_Unemployed', False, 21),\n",
       " ('What is your current occupation_Unknown', False, 19),\n",
       " ('What is your current occupation_Working Professional', True, 1)]"
      ]
     },
     "execution_count": 57,
     "metadata": {},
     "output_type": "execute_result"
    }
   ],
   "source": [
    "list(zip(X_train.columns, rfe.support_, rfe.ranking_))"
   ]
  },
  {
   "cell_type": "code",
   "execution_count": 58,
   "metadata": {},
   "outputs": [],
   "source": [
    "col = X_train.columns[rfe.support_]"
   ]
  },
  {
   "cell_type": "code",
   "execution_count": 59,
   "metadata": {},
   "outputs": [
    {
     "data": {
      "text/plain": [
       "Index(['Do Not Call', 'Search', 'Magazine', 'Newspaper Article',\n",
       "       'X Education Forums', 'Newspaper', 'Digital Advertisement',\n",
       "       'Through Recommendations', 'Receive More Updates About Our Courses',\n",
       "       'Update me on Supply Chain Content',\n",
       "       'I agree to pay the amount through cheque',\n",
       "       'A free copy of Mastering The Interview',\n",
       "       'Lead Origin_Landing Page Submission', 'Lead Origin_Lead Import',\n",
       "       'Lead Origin_Quick Add Form', 'Lead Source_Direct Traffic',\n",
       "       'Lead Source_Facebook', 'Lead Source_Google', 'Lead Source_Live Chat',\n",
       "       'Lead Source_NC_EDM', 'Lead Source_Organic Search',\n",
       "       'Lead Source_Pay per Click Ads', 'Lead Source_Press_Release',\n",
       "       'Lead Source_Reference', 'Lead Source_Referral Sites',\n",
       "       'Lead Source_Social Media', 'Lead Source_WeLearn', 'Lead Source_bing',\n",
       "       'Lead Source_blog', 'Lead Source_testone',\n",
       "       'Lead Source_welearnblog_Home', 'Lead Source_youtubechannel',\n",
       "       'Specialization_Business Administration', 'Specialization_E-Business',\n",
       "       'Specialization_E-COMMERCE', 'Specialization_Finance Management',\n",
       "       'Specialization_Healthcare Management',\n",
       "       'Specialization_Hospitality Management',\n",
       "       'Specialization_Human Resource Management',\n",
       "       'Specialization_IT Projects Management',\n",
       "       'Specialization_International Business',\n",
       "       'Specialization_Marketing Management',\n",
       "       'Specialization_Media and Advertising',\n",
       "       'Specialization_Operations Management',\n",
       "       'Specialization_Retail Management',\n",
       "       'Specialization_Rural and Agribusiness',\n",
       "       'Specialization_Services Excellence',\n",
       "       'Specialization_Supply Chain Management',\n",
       "       'Specialization_Travel and Tourism', 'Specialization_Unknown',\n",
       "       'Last Activity_Converted to Lead', 'Last Activity_Email Bounced',\n",
       "       'Last Activity_Email Link Clicked', 'Last Activity_Email Marked Spam',\n",
       "       'Last Activity_Email Opened', 'Last Activity_Email Received',\n",
       "       'Last Activity_Form Submitted on Website',\n",
       "       'Last Activity_Page Visited on Website',\n",
       "       'Last Activity_Resubscribed to emails', 'Last Activity_Unreachable',\n",
       "       'Last Activity_Unsubscribed',\n",
       "       'Last Activity_View in browser link Clicked',\n",
       "       'Last Activity_Visited Booth in Tradeshow',\n",
       "       'What matters most to you in choosing a course_Flexibility & Convenience',\n",
       "       'What matters most to you in choosing a course_Other',\n",
       "       'Last Notable Activity_Email Bounced',\n",
       "       'Last Notable Activity_Email Link Clicked',\n",
       "       'Last Notable Activity_Email Marked Spam',\n",
       "       'Last Notable Activity_Email Opened',\n",
       "       'Last Notable Activity_Email Received',\n",
       "       'Last Notable Activity_Form Submitted on Website',\n",
       "       'Last Notable Activity_Modified',\n",
       "       'Last Notable Activity_Olark Chat Conversation',\n",
       "       'Last Notable Activity_Page Visited on Website',\n",
       "       'Last Notable Activity_Resubscribed to emails',\n",
       "       'Last Notable Activity_SMS Sent', 'Last Notable Activity_Unsubscribed',\n",
       "       'Last Notable Activity_View in browser link Clicked',\n",
       "       'City_Other Cities', 'City_Other Cities of Maharashtra',\n",
       "       'City_Other Metro Cities', 'City_Thane & Outskirts',\n",
       "       'City_Tier II Cities', 'What is your current occupation_Other',\n",
       "       'What is your current occupation_Student',\n",
       "       'What is your current occupation_Unemployed',\n",
       "       'What is your current occupation_Unknown'],\n",
       "      dtype='object')"
      ]
     },
     "execution_count": 59,
     "metadata": {},
     "output_type": "execute_result"
    }
   ],
   "source": [
    "X_train.columns[~rfe.support_]"
   ]
  },
  {
   "cell_type": "markdown",
   "metadata": {},
   "source": [
    "### Assessing the model with StatsModels"
   ]
  },
  {
   "cell_type": "code",
   "execution_count": 60,
   "metadata": {},
   "outputs": [
    {
     "data": {
      "text/html": [
       "<table class=\"simpletable\">\n",
       "<caption>Generalized Linear Model Regression Results</caption>\n",
       "<tr>\n",
       "  <th>Dep. Variable:</th>       <td>Converted</td>    <th>  No. Observations:  </th>  <td>  6468</td> \n",
       "</tr>\n",
       "<tr>\n",
       "  <th>Model:</th>                  <td>GLM</td>       <th>  Df Residuals:      </th>  <td>  6452</td> \n",
       "</tr>\n",
       "<tr>\n",
       "  <th>Model Family:</th>        <td>Binomial</td>     <th>  Df Model:          </th>  <td>    15</td> \n",
       "</tr>\n",
       "<tr>\n",
       "  <th>Link Function:</th>         <td>logit</td>      <th>  Scale:             </th> <td>  1.0000</td>\n",
       "</tr>\n",
       "<tr>\n",
       "  <th>Method:</th>                <td>IRLS</td>       <th>  Log-Likelihood:    </th> <td> -2637.5</td>\n",
       "</tr>\n",
       "<tr>\n",
       "  <th>Date:</th>            <td>Wed, 11 Oct 2023</td> <th>  Deviance:          </th> <td>  5274.9</td>\n",
       "</tr>\n",
       "<tr>\n",
       "  <th>Time:</th>                <td>09:56:27</td>     <th>  Pearson chi2:      </th> <td>7.96e+03</td>\n",
       "</tr>\n",
       "<tr>\n",
       "  <th>No. Iterations:</th>         <td>21</td>        <th>                     </th>     <td> </td>   \n",
       "</tr>\n",
       "<tr>\n",
       "  <th>Covariance Type:</th>     <td>nonrobust</td>    <th>                     </th>     <td> </td>   \n",
       "</tr>\n",
       "</table>\n",
       "<table class=\"simpletable\">\n",
       "<tr>\n",
       "                            <td></td>                               <th>coef</th>     <th>std err</th>      <th>z</th>      <th>P>|z|</th>  <th>[0.025</th>    <th>0.975]</th>  \n",
       "</tr>\n",
       "<tr>\n",
       "  <th>const</th>                                                 <td>   -2.2435</td> <td>    0.109</td> <td>  -20.561</td> <td> 0.000</td> <td>   -2.457</td> <td>   -2.030</td>\n",
       "</tr>\n",
       "<tr>\n",
       "  <th>Do Not Email</th>                                          <td>   -1.3412</td> <td>    0.165</td> <td>   -8.118</td> <td> 0.000</td> <td>   -1.665</td> <td>   -1.017</td>\n",
       "</tr>\n",
       "<tr>\n",
       "  <th>TotalVisits</th>                                           <td>    1.3549</td> <td>    0.194</td> <td>    6.983</td> <td> 0.000</td> <td>    0.975</td> <td>    1.735</td>\n",
       "</tr>\n",
       "<tr>\n",
       "  <th>Total Time Spent on Website</th>                           <td>    4.5019</td> <td>    0.165</td> <td>   27.250</td> <td> 0.000</td> <td>    4.178</td> <td>    4.826</td>\n",
       "</tr>\n",
       "<tr>\n",
       "  <th>Page Views Per Visit</th>                                  <td>   -0.9643</td> <td>    0.195</td> <td>   -4.942</td> <td> 0.000</td> <td>   -1.347</td> <td>   -0.582</td>\n",
       "</tr>\n",
       "<tr>\n",
       "  <th>Lead Origin_Lead Add Form</th>                             <td>    3.3986</td> <td>    0.203</td> <td>   16.772</td> <td> 0.000</td> <td>    3.001</td> <td>    3.796</td>\n",
       "</tr>\n",
       "<tr>\n",
       "  <th>Lead Source_Olark Chat</th>                                <td>    1.3854</td> <td>    0.128</td> <td>   10.782</td> <td> 0.000</td> <td>    1.134</td> <td>    1.637</td>\n",
       "</tr>\n",
       "<tr>\n",
       "  <th>Lead Source_Welingak Website</th>                          <td>    1.9887</td> <td>    0.743</td> <td>    2.676</td> <td> 0.007</td> <td>    0.532</td> <td>    3.445</td>\n",
       "</tr>\n",
       "<tr>\n",
       "  <th>Last Activity_Had a Phone Conversation</th>                <td>    0.7253</td> <td>    0.983</td> <td>    0.738</td> <td> 0.461</td> <td>   -1.202</td> <td>    2.652</td>\n",
       "</tr>\n",
       "<tr>\n",
       "  <th>Last Activity_Olark Chat Conversation</th>                 <td>   -1.1764</td> <td>    0.167</td> <td>   -7.034</td> <td> 0.000</td> <td>   -1.504</td> <td>   -0.849</td>\n",
       "</tr>\n",
       "<tr>\n",
       "  <th>Last Activity_SMS Sent</th>                                <td>    1.3414</td> <td>    0.075</td> <td>   17.967</td> <td> 0.000</td> <td>    1.195</td> <td>    1.488</td>\n",
       "</tr>\n",
       "<tr>\n",
       "  <th>What matters most to you in choosing a course_Unknown</th> <td>   -1.1776</td> <td>    0.087</td> <td>  -13.608</td> <td> 0.000</td> <td>   -1.347</td> <td>   -1.008</td>\n",
       "</tr>\n",
       "<tr>\n",
       "  <th>Last Notable Activity_Had a Phone Conversation</th>        <td>    2.8660</td> <td>    1.499</td> <td>    1.912</td> <td> 0.056</td> <td>   -0.072</td> <td>    5.804</td>\n",
       "</tr>\n",
       "<tr>\n",
       "  <th>Last Notable Activity_Unreachable</th>                     <td>    2.0334</td> <td>    0.536</td> <td>    3.793</td> <td> 0.000</td> <td>    0.983</td> <td>    3.084</td>\n",
       "</tr>\n",
       "<tr>\n",
       "  <th>What is your current occupation_Housewife</th>             <td>   22.8683</td> <td> 1.39e+04</td> <td>    0.002</td> <td> 0.999</td> <td>-2.73e+04</td> <td> 2.74e+04</td>\n",
       "</tr>\n",
       "<tr>\n",
       "  <th>What is your current occupation_Working Professional</th>  <td>    2.5577</td> <td>    0.187</td> <td>   13.676</td> <td> 0.000</td> <td>    2.191</td> <td>    2.924</td>\n",
       "</tr>\n",
       "</table>"
      ],
      "text/plain": [
       "<class 'statsmodels.iolib.summary.Summary'>\n",
       "\"\"\"\n",
       "                 Generalized Linear Model Regression Results                  \n",
       "==============================================================================\n",
       "Dep. Variable:              Converted   No. Observations:                 6468\n",
       "Model:                            GLM   Df Residuals:                     6452\n",
       "Model Family:                Binomial   Df Model:                           15\n",
       "Link Function:                  logit   Scale:                          1.0000\n",
       "Method:                          IRLS   Log-Likelihood:                -2637.5\n",
       "Date:                Wed, 11 Oct 2023   Deviance:                       5274.9\n",
       "Time:                        09:56:27   Pearson chi2:                 7.96e+03\n",
       "No. Iterations:                    21                                         \n",
       "Covariance Type:            nonrobust                                         \n",
       "=========================================================================================================================\n",
       "                                                            coef    std err          z      P>|z|      [0.025      0.975]\n",
       "-------------------------------------------------------------------------------------------------------------------------\n",
       "const                                                    -2.2435      0.109    -20.561      0.000      -2.457      -2.030\n",
       "Do Not Email                                             -1.3412      0.165     -8.118      0.000      -1.665      -1.017\n",
       "TotalVisits                                               1.3549      0.194      6.983      0.000       0.975       1.735\n",
       "Total Time Spent on Website                               4.5019      0.165     27.250      0.000       4.178       4.826\n",
       "Page Views Per Visit                                     -0.9643      0.195     -4.942      0.000      -1.347      -0.582\n",
       "Lead Origin_Lead Add Form                                 3.3986      0.203     16.772      0.000       3.001       3.796\n",
       "Lead Source_Olark Chat                                    1.3854      0.128     10.782      0.000       1.134       1.637\n",
       "Lead Source_Welingak Website                              1.9887      0.743      2.676      0.007       0.532       3.445\n",
       "Last Activity_Had a Phone Conversation                    0.7253      0.983      0.738      0.461      -1.202       2.652\n",
       "Last Activity_Olark Chat Conversation                    -1.1764      0.167     -7.034      0.000      -1.504      -0.849\n",
       "Last Activity_SMS Sent                                    1.3414      0.075     17.967      0.000       1.195       1.488\n",
       "What matters most to you in choosing a course_Unknown    -1.1776      0.087    -13.608      0.000      -1.347      -1.008\n",
       "Last Notable Activity_Had a Phone Conversation            2.8660      1.499      1.912      0.056      -0.072       5.804\n",
       "Last Notable Activity_Unreachable                         2.0334      0.536      3.793      0.000       0.983       3.084\n",
       "What is your current occupation_Housewife                22.8683   1.39e+04      0.002      0.999   -2.73e+04    2.74e+04\n",
       "What is your current occupation_Working Professional      2.5577      0.187     13.676      0.000       2.191       2.924\n",
       "=========================================================================================================================\n",
       "\"\"\""
      ]
     },
     "execution_count": 60,
     "metadata": {},
     "output_type": "execute_result"
    }
   ],
   "source": [
    "X_train_sm = sm.add_constant(X_train[col])\n",
    "logm2 = sm.GLM(y_train,X_train_sm, family = sm.families.Binomial())\n",
    "res = logm2.fit()\n",
    "res.summary()"
   ]
  },
  {
   "cell_type": "code",
   "execution_count": 61,
   "metadata": {},
   "outputs": [],
   "source": [
    "#### Dropping What is your current occupation_Housewife as the p_value is quite high i.e.0.999"
   ]
  },
  {
   "cell_type": "code",
   "execution_count": 62,
   "metadata": {},
   "outputs": [],
   "source": [
    "col= col.drop(\"What is your current occupation_Housewife\" )"
   ]
  },
  {
   "cell_type": "code",
   "execution_count": 63,
   "metadata": {},
   "outputs": [
    {
     "data": {
      "text/html": [
       "<table class=\"simpletable\">\n",
       "<caption>Generalized Linear Model Regression Results</caption>\n",
       "<tr>\n",
       "  <th>Dep. Variable:</th>       <td>Converted</td>    <th>  No. Observations:  </th>  <td>  6468</td> \n",
       "</tr>\n",
       "<tr>\n",
       "  <th>Model:</th>                  <td>GLM</td>       <th>  Df Residuals:      </th>  <td>  6453</td> \n",
       "</tr>\n",
       "<tr>\n",
       "  <th>Model Family:</th>        <td>Binomial</td>     <th>  Df Model:          </th>  <td>    14</td> \n",
       "</tr>\n",
       "<tr>\n",
       "  <th>Link Function:</th>         <td>logit</td>      <th>  Scale:             </th> <td>  1.0000</td>\n",
       "</tr>\n",
       "<tr>\n",
       "  <th>Method:</th>                <td>IRLS</td>       <th>  Log-Likelihood:    </th> <td> -2644.4</td>\n",
       "</tr>\n",
       "<tr>\n",
       "  <th>Date:</th>            <td>Wed, 11 Oct 2023</td> <th>  Deviance:          </th> <td>  5288.8</td>\n",
       "</tr>\n",
       "<tr>\n",
       "  <th>Time:</th>                <td>09:56:27</td>     <th>  Pearson chi2:      </th> <td>7.99e+03</td>\n",
       "</tr>\n",
       "<tr>\n",
       "  <th>No. Iterations:</th>          <td>7</td>        <th>                     </th>     <td> </td>   \n",
       "</tr>\n",
       "<tr>\n",
       "  <th>Covariance Type:</th>     <td>nonrobust</td>    <th>                     </th>     <td> </td>   \n",
       "</tr>\n",
       "</table>\n",
       "<table class=\"simpletable\">\n",
       "<tr>\n",
       "                            <td></td>                               <th>coef</th>     <th>std err</th>      <th>z</th>      <th>P>|z|</th>  <th>[0.025</th>    <th>0.975]</th>  \n",
       "</tr>\n",
       "<tr>\n",
       "  <th>const</th>                                                 <td>   -2.2286</td> <td>    0.109</td> <td>  -20.482</td> <td> 0.000</td> <td>   -2.442</td> <td>   -2.015</td>\n",
       "</tr>\n",
       "<tr>\n",
       "  <th>Do Not Email</th>                                          <td>   -1.3473</td> <td>    0.165</td> <td>   -8.153</td> <td> 0.000</td> <td>   -1.671</td> <td>   -1.023</td>\n",
       "</tr>\n",
       "<tr>\n",
       "  <th>TotalVisits</th>                                           <td>    1.3420</td> <td>    0.194</td> <td>    6.923</td> <td> 0.000</td> <td>    0.962</td> <td>    1.722</td>\n",
       "</tr>\n",
       "<tr>\n",
       "  <th>Total Time Spent on Website</th>                           <td>    4.4991</td> <td>    0.165</td> <td>   27.263</td> <td> 0.000</td> <td>    4.176</td> <td>    4.823</td>\n",
       "</tr>\n",
       "<tr>\n",
       "  <th>Page Views Per Visit</th>                                  <td>   -0.9623</td> <td>    0.195</td> <td>   -4.937</td> <td> 0.000</td> <td>   -1.344</td> <td>   -0.580</td>\n",
       "</tr>\n",
       "<tr>\n",
       "  <th>Lead Origin_Lead Add Form</th>                             <td>    3.4122</td> <td>    0.202</td> <td>   16.881</td> <td> 0.000</td> <td>    3.016</td> <td>    3.808</td>\n",
       "</tr>\n",
       "<tr>\n",
       "  <th>Lead Source_Olark Chat</th>                                <td>    1.3761</td> <td>    0.128</td> <td>   10.726</td> <td> 0.000</td> <td>    1.125</td> <td>    1.628</td>\n",
       "</tr>\n",
       "<tr>\n",
       "  <th>Lead Source_Welingak Website</th>                          <td>    1.9649</td> <td>    0.743</td> <td>    2.645</td> <td> 0.008</td> <td>    0.509</td> <td>    3.421</td>\n",
       "</tr>\n",
       "<tr>\n",
       "  <th>Last Activity_Had a Phone Conversation</th>                <td>    0.7148</td> <td>    0.984</td> <td>    0.727</td> <td> 0.468</td> <td>   -1.214</td> <td>    2.643</td>\n",
       "</tr>\n",
       "<tr>\n",
       "  <th>Last Activity_Olark Chat Conversation</th>                 <td>   -1.1813</td> <td>    0.167</td> <td>   -7.065</td> <td> 0.000</td> <td>   -1.509</td> <td>   -0.854</td>\n",
       "</tr>\n",
       "<tr>\n",
       "  <th>Last Activity_SMS Sent</th>                                <td>    1.3328</td> <td>    0.075</td> <td>   17.871</td> <td> 0.000</td> <td>    1.187</td> <td>    1.479</td>\n",
       "</tr>\n",
       "<tr>\n",
       "  <th>What matters most to you in choosing a course_Unknown</th> <td>   -1.1821</td> <td>    0.086</td> <td>  -13.669</td> <td> 0.000</td> <td>   -1.352</td> <td>   -1.013</td>\n",
       "</tr>\n",
       "<tr>\n",
       "  <th>Last Notable Activity_Had a Phone Conversation</th>        <td>    2.8681</td> <td>    1.500</td> <td>    1.913</td> <td> 0.056</td> <td>   -0.071</td> <td>    5.807</td>\n",
       "</tr>\n",
       "<tr>\n",
       "  <th>Last Notable Activity_Unreachable</th>                     <td>    2.0263</td> <td>    0.536</td> <td>    3.779</td> <td> 0.000</td> <td>    0.975</td> <td>    3.077</td>\n",
       "</tr>\n",
       "<tr>\n",
       "  <th>What is your current occupation_Working Professional</th>  <td>    2.5499</td> <td>    0.187</td> <td>   13.638</td> <td> 0.000</td> <td>    2.183</td> <td>    2.916</td>\n",
       "</tr>\n",
       "</table>"
      ],
      "text/plain": [
       "<class 'statsmodels.iolib.summary.Summary'>\n",
       "\"\"\"\n",
       "                 Generalized Linear Model Regression Results                  \n",
       "==============================================================================\n",
       "Dep. Variable:              Converted   No. Observations:                 6468\n",
       "Model:                            GLM   Df Residuals:                     6453\n",
       "Model Family:                Binomial   Df Model:                           14\n",
       "Link Function:                  logit   Scale:                          1.0000\n",
       "Method:                          IRLS   Log-Likelihood:                -2644.4\n",
       "Date:                Wed, 11 Oct 2023   Deviance:                       5288.8\n",
       "Time:                        09:56:27   Pearson chi2:                 7.99e+03\n",
       "No. Iterations:                     7                                         \n",
       "Covariance Type:            nonrobust                                         \n",
       "=========================================================================================================================\n",
       "                                                            coef    std err          z      P>|z|      [0.025      0.975]\n",
       "-------------------------------------------------------------------------------------------------------------------------\n",
       "const                                                    -2.2286      0.109    -20.482      0.000      -2.442      -2.015\n",
       "Do Not Email                                             -1.3473      0.165     -8.153      0.000      -1.671      -1.023\n",
       "TotalVisits                                               1.3420      0.194      6.923      0.000       0.962       1.722\n",
       "Total Time Spent on Website                               4.4991      0.165     27.263      0.000       4.176       4.823\n",
       "Page Views Per Visit                                     -0.9623      0.195     -4.937      0.000      -1.344      -0.580\n",
       "Lead Origin_Lead Add Form                                 3.4122      0.202     16.881      0.000       3.016       3.808\n",
       "Lead Source_Olark Chat                                    1.3761      0.128     10.726      0.000       1.125       1.628\n",
       "Lead Source_Welingak Website                              1.9649      0.743      2.645      0.008       0.509       3.421\n",
       "Last Activity_Had a Phone Conversation                    0.7148      0.984      0.727      0.468      -1.214       2.643\n",
       "Last Activity_Olark Chat Conversation                    -1.1813      0.167     -7.065      0.000      -1.509      -0.854\n",
       "Last Activity_SMS Sent                                    1.3328      0.075     17.871      0.000       1.187       1.479\n",
       "What matters most to you in choosing a course_Unknown    -1.1821      0.086    -13.669      0.000      -1.352      -1.013\n",
       "Last Notable Activity_Had a Phone Conversation            2.8681      1.500      1.913      0.056      -0.071       5.807\n",
       "Last Notable Activity_Unreachable                         2.0263      0.536      3.779      0.000       0.975       3.077\n",
       "What is your current occupation_Working Professional      2.5499      0.187     13.638      0.000       2.183       2.916\n",
       "=========================================================================================================================\n",
       "\"\"\""
      ]
     },
     "execution_count": 63,
     "metadata": {},
     "output_type": "execute_result"
    }
   ],
   "source": [
    "X_train_sm = sm.add_constant(X_train[col])\n",
    "logm2 = sm.GLM(y_train,X_train_sm, family = sm.families.Binomial())\n",
    "res = logm2.fit()\n",
    "res.summary()"
   ]
  },
  {
   "cell_type": "code",
   "execution_count": 64,
   "metadata": {},
   "outputs": [],
   "source": [
    "#### Dropping Last Activity_Had a Phone Conversation as the p_value is quite high than ..05 i.e.0.207\t"
   ]
  },
  {
   "cell_type": "code",
   "execution_count": 65,
   "metadata": {},
   "outputs": [],
   "source": [
    "col= col.drop(\"Last Notable Activity_Had a Phone Conversation\" )"
   ]
  },
  {
   "cell_type": "code",
   "execution_count": 66,
   "metadata": {},
   "outputs": [
    {
     "data": {
      "text/html": [
       "<table class=\"simpletable\">\n",
       "<caption>Generalized Linear Model Regression Results</caption>\n",
       "<tr>\n",
       "  <th>Dep. Variable:</th>       <td>Converted</td>    <th>  No. Observations:  </th>  <td>  6468</td> \n",
       "</tr>\n",
       "<tr>\n",
       "  <th>Model:</th>                  <td>GLM</td>       <th>  Df Residuals:      </th>  <td>  6454</td> \n",
       "</tr>\n",
       "<tr>\n",
       "  <th>Model Family:</th>        <td>Binomial</td>     <th>  Df Model:          </th>  <td>    13</td> \n",
       "</tr>\n",
       "<tr>\n",
       "  <th>Link Function:</th>         <td>logit</td>      <th>  Scale:             </th> <td>  1.0000</td>\n",
       "</tr>\n",
       "<tr>\n",
       "  <th>Method:</th>                <td>IRLS</td>       <th>  Log-Likelihood:    </th> <td> -2646.4</td>\n",
       "</tr>\n",
       "<tr>\n",
       "  <th>Date:</th>            <td>Wed, 11 Oct 2023</td> <th>  Deviance:          </th> <td>  5292.8</td>\n",
       "</tr>\n",
       "<tr>\n",
       "  <th>Time:</th>                <td>09:56:27</td>     <th>  Pearson chi2:      </th> <td>9.33e+03</td>\n",
       "</tr>\n",
       "<tr>\n",
       "  <th>No. Iterations:</th>          <td>7</td>        <th>                     </th>     <td> </td>   \n",
       "</tr>\n",
       "<tr>\n",
       "  <th>Covariance Type:</th>     <td>nonrobust</td>    <th>                     </th>     <td> </td>   \n",
       "</tr>\n",
       "</table>\n",
       "<table class=\"simpletable\">\n",
       "<tr>\n",
       "                            <td></td>                               <th>coef</th>     <th>std err</th>      <th>z</th>      <th>P>|z|</th>  <th>[0.025</th>    <th>0.975]</th>  \n",
       "</tr>\n",
       "<tr>\n",
       "  <th>const</th>                                                 <td>   -2.2256</td> <td>    0.109</td> <td>  -20.470</td> <td> 0.000</td> <td>   -2.439</td> <td>   -2.012</td>\n",
       "</tr>\n",
       "<tr>\n",
       "  <th>Do Not Email</th>                                          <td>   -1.3516</td> <td>    0.165</td> <td>   -8.186</td> <td> 0.000</td> <td>   -1.675</td> <td>   -1.028</td>\n",
       "</tr>\n",
       "<tr>\n",
       "  <th>TotalVisits</th>                                           <td>    1.3507</td> <td>    0.193</td> <td>    6.981</td> <td> 0.000</td> <td>    0.971</td> <td>    1.730</td>\n",
       "</tr>\n",
       "<tr>\n",
       "  <th>Total Time Spent on Website</th>                           <td>    4.4907</td> <td>    0.165</td> <td>   27.239</td> <td> 0.000</td> <td>    4.168</td> <td>    4.814</td>\n",
       "</tr>\n",
       "<tr>\n",
       "  <th>Page Views Per Visit</th>                                  <td>   -0.9688</td> <td>    0.195</td> <td>   -4.975</td> <td> 0.000</td> <td>   -1.350</td> <td>   -0.587</td>\n",
       "</tr>\n",
       "<tr>\n",
       "  <th>Lead Origin_Lead Add Form</th>                             <td>    3.4065</td> <td>    0.202</td> <td>   16.854</td> <td> 0.000</td> <td>    3.010</td> <td>    3.803</td>\n",
       "</tr>\n",
       "<tr>\n",
       "  <th>Lead Source_Olark Chat</th>                                <td>    1.3736</td> <td>    0.128</td> <td>   10.712</td> <td> 0.000</td> <td>    1.122</td> <td>    1.625</td>\n",
       "</tr>\n",
       "<tr>\n",
       "  <th>Lead Source_Welingak Website</th>                          <td>    1.9685</td> <td>    0.743</td> <td>    2.649</td> <td> 0.008</td> <td>    0.512</td> <td>    3.425</td>\n",
       "</tr>\n",
       "<tr>\n",
       "  <th>Last Activity_Had a Phone Conversation</th>                <td>    2.2743</td> <td>    0.684</td> <td>    3.324</td> <td> 0.001</td> <td>    0.933</td> <td>    3.615</td>\n",
       "</tr>\n",
       "<tr>\n",
       "  <th>Last Activity_Olark Chat Conversation</th>                 <td>   -1.1814</td> <td>    0.167</td> <td>   -7.067</td> <td> 0.000</td> <td>   -1.509</td> <td>   -0.854</td>\n",
       "</tr>\n",
       "<tr>\n",
       "  <th>Last Activity_SMS Sent</th>                                <td>    1.3329</td> <td>    0.075</td> <td>   17.878</td> <td> 0.000</td> <td>    1.187</td> <td>    1.479</td>\n",
       "</tr>\n",
       "<tr>\n",
       "  <th>What matters most to you in choosing a course_Unknown</th> <td>   -1.1825</td> <td>    0.086</td> <td>  -13.677</td> <td> 0.000</td> <td>   -1.352</td> <td>   -1.013</td>\n",
       "</tr>\n",
       "<tr>\n",
       "  <th>Last Notable Activity_Unreachable</th>                     <td>    2.0247</td> <td>    0.536</td> <td>    3.777</td> <td> 0.000</td> <td>    0.974</td> <td>    3.075</td>\n",
       "</tr>\n",
       "<tr>\n",
       "  <th>What is your current occupation_Working Professional</th>  <td>    2.5468</td> <td>    0.187</td> <td>   13.619</td> <td> 0.000</td> <td>    2.180</td> <td>    2.913</td>\n",
       "</tr>\n",
       "</table>"
      ],
      "text/plain": [
       "<class 'statsmodels.iolib.summary.Summary'>\n",
       "\"\"\"\n",
       "                 Generalized Linear Model Regression Results                  \n",
       "==============================================================================\n",
       "Dep. Variable:              Converted   No. Observations:                 6468\n",
       "Model:                            GLM   Df Residuals:                     6454\n",
       "Model Family:                Binomial   Df Model:                           13\n",
       "Link Function:                  logit   Scale:                          1.0000\n",
       "Method:                          IRLS   Log-Likelihood:                -2646.4\n",
       "Date:                Wed, 11 Oct 2023   Deviance:                       5292.8\n",
       "Time:                        09:56:27   Pearson chi2:                 9.33e+03\n",
       "No. Iterations:                     7                                         \n",
       "Covariance Type:            nonrobust                                         \n",
       "=========================================================================================================================\n",
       "                                                            coef    std err          z      P>|z|      [0.025      0.975]\n",
       "-------------------------------------------------------------------------------------------------------------------------\n",
       "const                                                    -2.2256      0.109    -20.470      0.000      -2.439      -2.012\n",
       "Do Not Email                                             -1.3516      0.165     -8.186      0.000      -1.675      -1.028\n",
       "TotalVisits                                               1.3507      0.193      6.981      0.000       0.971       1.730\n",
       "Total Time Spent on Website                               4.4907      0.165     27.239      0.000       4.168       4.814\n",
       "Page Views Per Visit                                     -0.9688      0.195     -4.975      0.000      -1.350      -0.587\n",
       "Lead Origin_Lead Add Form                                 3.4065      0.202     16.854      0.000       3.010       3.803\n",
       "Lead Source_Olark Chat                                    1.3736      0.128     10.712      0.000       1.122       1.625\n",
       "Lead Source_Welingak Website                              1.9685      0.743      2.649      0.008       0.512       3.425\n",
       "Last Activity_Had a Phone Conversation                    2.2743      0.684      3.324      0.001       0.933       3.615\n",
       "Last Activity_Olark Chat Conversation                    -1.1814      0.167     -7.067      0.000      -1.509      -0.854\n",
       "Last Activity_SMS Sent                                    1.3329      0.075     17.878      0.000       1.187       1.479\n",
       "What matters most to you in choosing a course_Unknown    -1.1825      0.086    -13.677      0.000      -1.352      -1.013\n",
       "Last Notable Activity_Unreachable                         2.0247      0.536      3.777      0.000       0.974       3.075\n",
       "What is your current occupation_Working Professional      2.5468      0.187     13.619      0.000       2.180       2.913\n",
       "=========================================================================================================================\n",
       "\"\"\""
      ]
     },
     "execution_count": 66,
     "metadata": {},
     "output_type": "execute_result"
    }
   ],
   "source": [
    "X_train_sm = sm.add_constant(X_train[col])\n",
    "logm2 = sm.GLM(y_train,X_train_sm, family = sm.families.Binomial())\n",
    "res = logm2.fit()\n",
    "res.summary()"
   ]
  },
  {
   "cell_type": "code",
   "execution_count": 67,
   "metadata": {},
   "outputs": [],
   "source": [
    "#### Checking VIFs"
   ]
  },
  {
   "cell_type": "code",
   "execution_count": 68,
   "metadata": {},
   "outputs": [
    {
     "data": {
      "text/html": [
       "<div>\n",
       "<style scoped>\n",
       "    .dataframe tbody tr th:only-of-type {\n",
       "        vertical-align: middle;\n",
       "    }\n",
       "\n",
       "    .dataframe tbody tr th {\n",
       "        vertical-align: top;\n",
       "    }\n",
       "\n",
       "    .dataframe thead th {\n",
       "        text-align: right;\n",
       "    }\n",
       "</style>\n",
       "<table border=\"1\" class=\"dataframe\">\n",
       "  <thead>\n",
       "    <tr style=\"text-align: right;\">\n",
       "      <th></th>\n",
       "      <th>Features</th>\n",
       "      <th>VIF</th>\n",
       "    </tr>\n",
       "  </thead>\n",
       "  <tbody>\n",
       "    <tr>\n",
       "      <th>3</th>\n",
       "      <td>Page Views Per Visit</td>\n",
       "      <td>5.87</td>\n",
       "    </tr>\n",
       "    <tr>\n",
       "      <th>1</th>\n",
       "      <td>TotalVisits</td>\n",
       "      <td>5.15</td>\n",
       "    </tr>\n",
       "    <tr>\n",
       "      <th>2</th>\n",
       "      <td>Total Time Spent on Website</td>\n",
       "      <td>2.04</td>\n",
       "    </tr>\n",
       "    <tr>\n",
       "      <th>5</th>\n",
       "      <td>Lead Source_Olark Chat</td>\n",
       "      <td>1.58</td>\n",
       "    </tr>\n",
       "    <tr>\n",
       "      <th>9</th>\n",
       "      <td>Last Activity_SMS Sent</td>\n",
       "      <td>1.53</td>\n",
       "    </tr>\n",
       "    <tr>\n",
       "      <th>10</th>\n",
       "      <td>What matters most to you in choosing a course_...</td>\n",
       "      <td>1.50</td>\n",
       "    </tr>\n",
       "    <tr>\n",
       "      <th>8</th>\n",
       "      <td>Last Activity_Olark Chat Conversation</td>\n",
       "      <td>1.42</td>\n",
       "    </tr>\n",
       "    <tr>\n",
       "      <th>4</th>\n",
       "      <td>Lead Origin_Lead Add Form</td>\n",
       "      <td>1.39</td>\n",
       "    </tr>\n",
       "    <tr>\n",
       "      <th>6</th>\n",
       "      <td>Lead Source_Welingak Website</td>\n",
       "      <td>1.24</td>\n",
       "    </tr>\n",
       "    <tr>\n",
       "      <th>12</th>\n",
       "      <td>What is your current occupation_Working Profes...</td>\n",
       "      <td>1.19</td>\n",
       "    </tr>\n",
       "    <tr>\n",
       "      <th>0</th>\n",
       "      <td>Do Not Email</td>\n",
       "      <td>1.08</td>\n",
       "    </tr>\n",
       "    <tr>\n",
       "      <th>7</th>\n",
       "      <td>Last Activity_Had a Phone Conversation</td>\n",
       "      <td>1.01</td>\n",
       "    </tr>\n",
       "    <tr>\n",
       "      <th>11</th>\n",
       "      <td>Last Notable Activity_Unreachable</td>\n",
       "      <td>1.01</td>\n",
       "    </tr>\n",
       "  </tbody>\n",
       "</table>\n",
       "</div>"
      ],
      "text/plain": [
       "                                             Features   VIF\n",
       "3                                Page Views Per Visit  5.87\n",
       "1                                         TotalVisits  5.15\n",
       "2                         Total Time Spent on Website  2.04\n",
       "5                              Lead Source_Olark Chat  1.58\n",
       "9                              Last Activity_SMS Sent  1.53\n",
       "10  What matters most to you in choosing a course_...  1.50\n",
       "8               Last Activity_Olark Chat Conversation  1.42\n",
       "4                           Lead Origin_Lead Add Form  1.39\n",
       "6                        Lead Source_Welingak Website  1.24\n",
       "12  What is your current occupation_Working Profes...  1.19\n",
       "0                                        Do Not Email  1.08\n",
       "7              Last Activity_Had a Phone Conversation  1.01\n",
       "11                  Last Notable Activity_Unreachable  1.01"
      ]
     },
     "execution_count": 68,
     "metadata": {},
     "output_type": "execute_result"
    }
   ],
   "source": [
    "# Create a dataframe that will contain the names of all the feature variables and their respective VIFs\n",
    "vif = pd.DataFrame()\n",
    "vif['Features'] = X_train[col].columns\n",
    "vif['VIF'] = [variance_inflation_factor(X_train[col].values, i) for i in range(X_train[col].shape[1])]\n",
    "vif['VIF'] = round(vif['VIF'], 2)\n",
    "vif = vif.sort_values(by = \"VIF\", ascending = False)\n",
    "vif"
   ]
  },
  {
   "cell_type": "code",
   "execution_count": 69,
   "metadata": {},
   "outputs": [],
   "source": [
    "## No VIF treatment is needed"
   ]
  },
  {
   "cell_type": "markdown",
   "metadata": {},
   "source": [
    "# Evaluating the Model"
   ]
  },
  {
   "cell_type": "code",
   "execution_count": 70,
   "metadata": {},
   "outputs": [
    {
     "data": {
      "text/plain": [
       "1871    0.299013\n",
       "6795    0.271583\n",
       "3516    0.393600\n",
       "8105    0.793319\n",
       "3934    0.299013\n",
       "4844    0.991765\n",
       "3297    0.146392\n",
       "8071    0.998797\n",
       "987     0.137536\n",
       "7423    0.910747\n",
       "dtype: float64"
      ]
     },
     "execution_count": 70,
     "metadata": {},
     "output_type": "execute_result"
    }
   ],
   "source": [
    "# Getting the predicted values on the train set\n",
    "y_train_pred = res.predict(X_train_sm)\n",
    "y_train_pred[:10]"
   ]
  },
  {
   "cell_type": "code",
   "execution_count": 71,
   "metadata": {},
   "outputs": [
    {
     "data": {
      "text/plain": [
       "array([0.29901326, 0.27158298, 0.39359966, 0.79331927, 0.29901326,\n",
       "       0.99176503, 0.14639166, 0.99879671, 0.13753612, 0.9107466 ])"
      ]
     },
     "execution_count": 71,
     "metadata": {},
     "output_type": "execute_result"
    }
   ],
   "source": [
    "y_train_pred = y_train_pred.values.reshape(-1)\n",
    "y_train_pred[:10]"
   ]
  },
  {
   "cell_type": "markdown",
   "metadata": {},
   "source": [
    "### Creating a dataframe with the actual converted flag and the predicted probabilities"
   ]
  },
  {
   "cell_type": "code",
   "execution_count": 72,
   "metadata": {},
   "outputs": [
    {
     "data": {
      "text/html": [
       "<div>\n",
       "<style scoped>\n",
       "    .dataframe tbody tr th:only-of-type {\n",
       "        vertical-align: middle;\n",
       "    }\n",
       "\n",
       "    .dataframe tbody tr th {\n",
       "        vertical-align: top;\n",
       "    }\n",
       "\n",
       "    .dataframe thead th {\n",
       "        text-align: right;\n",
       "    }\n",
       "</style>\n",
       "<table border=\"1\" class=\"dataframe\">\n",
       "  <thead>\n",
       "    <tr style=\"text-align: right;\">\n",
       "      <th></th>\n",
       "      <th>Converted</th>\n",
       "      <th>Converted_Prob</th>\n",
       "      <th>Lead Number</th>\n",
       "    </tr>\n",
       "  </thead>\n",
       "  <tbody>\n",
       "    <tr>\n",
       "      <th>0</th>\n",
       "      <td>0</td>\n",
       "      <td>0.299013</td>\n",
       "      <td>1871</td>\n",
       "    </tr>\n",
       "    <tr>\n",
       "      <th>1</th>\n",
       "      <td>0</td>\n",
       "      <td>0.271583</td>\n",
       "      <td>6795</td>\n",
       "    </tr>\n",
       "    <tr>\n",
       "      <th>2</th>\n",
       "      <td>0</td>\n",
       "      <td>0.393600</td>\n",
       "      <td>3516</td>\n",
       "    </tr>\n",
       "    <tr>\n",
       "      <th>3</th>\n",
       "      <td>0</td>\n",
       "      <td>0.793319</td>\n",
       "      <td>8105</td>\n",
       "    </tr>\n",
       "    <tr>\n",
       "      <th>4</th>\n",
       "      <td>0</td>\n",
       "      <td>0.299013</td>\n",
       "      <td>3934</td>\n",
       "    </tr>\n",
       "  </tbody>\n",
       "</table>\n",
       "</div>"
      ],
      "text/plain": [
       "   Converted  Converted_Prob  Lead Number\n",
       "0          0        0.299013         1871\n",
       "1          0        0.271583         6795\n",
       "2          0        0.393600         3516\n",
       "3          0        0.793319         8105\n",
       "4          0        0.299013         3934"
      ]
     },
     "execution_count": 72,
     "metadata": {},
     "output_type": "execute_result"
    }
   ],
   "source": [
    "y_train_pred_final = pd.DataFrame({'Converted':y_train.values, 'Converted_Prob':y_train_pred})\n",
    "y_train_pred_final['Lead Number'] = y_train.index\n",
    "y_train_pred_final.head()"
   ]
  },
  {
   "cell_type": "code",
   "execution_count": 73,
   "metadata": {},
   "outputs": [],
   "source": [
    "##### Creating new column 'predicted' with 1 if Converted_Prob > 0.5 else 0"
   ]
  },
  {
   "cell_type": "code",
   "execution_count": 74,
   "metadata": {},
   "outputs": [
    {
     "data": {
      "text/html": [
       "<div>\n",
       "<style scoped>\n",
       "    .dataframe tbody tr th:only-of-type {\n",
       "        vertical-align: middle;\n",
       "    }\n",
       "\n",
       "    .dataframe tbody tr th {\n",
       "        vertical-align: top;\n",
       "    }\n",
       "\n",
       "    .dataframe thead th {\n",
       "        text-align: right;\n",
       "    }\n",
       "</style>\n",
       "<table border=\"1\" class=\"dataframe\">\n",
       "  <thead>\n",
       "    <tr style=\"text-align: right;\">\n",
       "      <th></th>\n",
       "      <th>Converted</th>\n",
       "      <th>Converted_Prob</th>\n",
       "      <th>Lead Number</th>\n",
       "      <th>predicted</th>\n",
       "    </tr>\n",
       "  </thead>\n",
       "  <tbody>\n",
       "    <tr>\n",
       "      <th>0</th>\n",
       "      <td>0</td>\n",
       "      <td>0.299013</td>\n",
       "      <td>1871</td>\n",
       "      <td>0</td>\n",
       "    </tr>\n",
       "    <tr>\n",
       "      <th>1</th>\n",
       "      <td>0</td>\n",
       "      <td>0.271583</td>\n",
       "      <td>6795</td>\n",
       "      <td>0</td>\n",
       "    </tr>\n",
       "    <tr>\n",
       "      <th>2</th>\n",
       "      <td>0</td>\n",
       "      <td>0.393600</td>\n",
       "      <td>3516</td>\n",
       "      <td>0</td>\n",
       "    </tr>\n",
       "    <tr>\n",
       "      <th>3</th>\n",
       "      <td>0</td>\n",
       "      <td>0.793319</td>\n",
       "      <td>8105</td>\n",
       "      <td>1</td>\n",
       "    </tr>\n",
       "    <tr>\n",
       "      <th>4</th>\n",
       "      <td>0</td>\n",
       "      <td>0.299013</td>\n",
       "      <td>3934</td>\n",
       "      <td>0</td>\n",
       "    </tr>\n",
       "  </tbody>\n",
       "</table>\n",
       "</div>"
      ],
      "text/plain": [
       "   Converted  Converted_Prob  Lead Number  predicted\n",
       "0          0        0.299013         1871          0\n",
       "1          0        0.271583         6795          0\n",
       "2          0        0.393600         3516          0\n",
       "3          0        0.793319         8105          1\n",
       "4          0        0.299013         3934          0"
      ]
     },
     "execution_count": 74,
     "metadata": {},
     "output_type": "execute_result"
    }
   ],
   "source": [
    "y_train_pred_final['predicted'] = y_train_pred_final.Converted_Prob.map(lambda x: 1 if x > 0.5 else 0)\n",
    "\n",
    "# Let's see the head\n",
    "y_train_pred_final.head()"
   ]
  },
  {
   "cell_type": "code",
   "execution_count": 75,
   "metadata": {},
   "outputs": [
    {
     "data": {
      "text/plain": [
       "2466"
      ]
     },
     "execution_count": 75,
     "metadata": {},
     "output_type": "execute_result"
    }
   ],
   "source": [
    "y_train_pred_final.Converted.sum()"
   ]
  },
  {
   "cell_type": "code",
   "execution_count": 76,
   "metadata": {},
   "outputs": [
    {
     "data": {
      "text/plain": [
       "6468"
      ]
     },
     "execution_count": 76,
     "metadata": {},
     "output_type": "execute_result"
    }
   ],
   "source": [
    "len(y_train_pred_final.Converted) "
   ]
  },
  {
   "cell_type": "code",
   "execution_count": 77,
   "metadata": {},
   "outputs": [
    {
     "data": {
      "text/plain": [
       "2177"
      ]
     },
     "execution_count": 77,
     "metadata": {},
     "output_type": "execute_result"
    }
   ],
   "source": [
    "y_train_pred_final.predicted.sum()"
   ]
  },
  {
   "cell_type": "code",
   "execution_count": 78,
   "metadata": {},
   "outputs": [
    {
     "data": {
      "text/plain": [
       "6468"
      ]
     },
     "execution_count": 78,
     "metadata": {},
     "output_type": "execute_result"
    }
   ],
   "source": [
    "len(y_train_pred_final.predicted) "
   ]
  },
  {
   "cell_type": "code",
   "execution_count": 79,
   "metadata": {},
   "outputs": [
    {
     "name": "stdout",
     "output_type": "stream",
     "text": [
      "[[3552  450]\n",
      " [ 739 1727]]\n"
     ]
    }
   ],
   "source": [
    "# Confusion matrix \n",
    "confusion = metrics.confusion_matrix(y_train_pred_final.Converted, y_train_pred_final.predicted )\n",
    "print(confusion)"
   ]
  },
  {
   "cell_type": "code",
   "execution_count": 80,
   "metadata": {},
   "outputs": [],
   "source": [
    "# Predicted     converted    not_converted\n",
    "# Actual\n",
    "# converted        3554      448\n",
    "# not_converted    738       1728  "
   ]
  },
  {
   "cell_type": "code",
   "execution_count": 81,
   "metadata": {},
   "outputs": [
    {
     "name": "stdout",
     "output_type": "stream",
     "text": [
      "0.8161719233147805\n"
     ]
    }
   ],
   "source": [
    "# Let's check the overall accuracy.\n",
    "print(metrics.accuracy_score(y_train_pred_final.Converted, y_train_pred_final.predicted))"
   ]
  },
  {
   "cell_type": "code",
   "execution_count": 82,
   "metadata": {},
   "outputs": [],
   "source": [
    "TP = confusion[1,1] # true positive \n",
    "TN = confusion[0,0] # true negatives\n",
    "FP = confusion[0,1] # false positives\n",
    "FN = confusion[1,0] # false negatives"
   ]
  },
  {
   "cell_type": "code",
   "execution_count": 83,
   "metadata": {},
   "outputs": [
    {
     "data": {
      "text/plain": [
       "0.7003244120032441"
      ]
     },
     "execution_count": 83,
     "metadata": {},
     "output_type": "execute_result"
    }
   ],
   "source": [
    "# Let's see the sensitivity of our logistic regression model\n",
    "TP / float(TP+FN)"
   ]
  },
  {
   "cell_type": "code",
   "execution_count": 84,
   "metadata": {},
   "outputs": [
    {
     "data": {
      "text/plain": [
       "0.8875562218890555"
      ]
     },
     "execution_count": 84,
     "metadata": {},
     "output_type": "execute_result"
    }
   ],
   "source": [
    "# Let us calculate specificity\n",
    "TN / float(TN+FP)"
   ]
  },
  {
   "cell_type": "code",
   "execution_count": 85,
   "metadata": {},
   "outputs": [
    {
     "name": "stdout",
     "output_type": "stream",
     "text": [
      "0.11244377811094453\n"
     ]
    }
   ],
   "source": [
    "# Calculate false postive rate - predicting lead got converted  when actually they were not \n",
    "print(FP/ float(TN+FP))"
   ]
  },
  {
   "cell_type": "code",
   "execution_count": 86,
   "metadata": {},
   "outputs": [
    {
     "name": "stdout",
     "output_type": "stream",
     "text": [
      "0.7932935231970601\n"
     ]
    }
   ],
   "source": [
    "# positive predictive value \n",
    "print (TP / float(TP+FP))"
   ]
  },
  {
   "cell_type": "code",
   "execution_count": 87,
   "metadata": {},
   "outputs": [
    {
     "name": "stdout",
     "output_type": "stream",
     "text": [
      "0.827779072477278\n"
     ]
    }
   ],
   "source": [
    "# Negative predictive value\n",
    "print (TN / float(TN+ FN))"
   ]
  },
  {
   "cell_type": "code",
   "execution_count": 88,
   "metadata": {},
   "outputs": [],
   "source": [
    "def draw_roc( actual, probs ):\n",
    "    fpr, tpr, thresholds = metrics.roc_curve( actual, probs,\n",
    "                                              drop_intermediate = False )\n",
    "    auc_score = metrics.roc_auc_score( actual, probs )\n",
    "    plt.figure(figsize=(5, 5))\n",
    "    plt.plot( fpr, tpr, label='ROC curve (area = %0.2f)' % auc_score )\n",
    "    plt.plot([0, 1], [0, 1], 'k--')\n",
    "    plt.xlim([0.0, 1.0])\n",
    "    plt.ylim([0.0, 1.05])\n",
    "    plt.xlabel('False Positive Rate or [1 - True Negative Rate]')\n",
    "    plt.ylabel('True Positive Rate')\n",
    "    plt.title('Receiver operating characteristic example')\n",
    "    plt.legend(loc=\"lower right\")\n",
    "    plt.show()\n",
    "\n",
    "    return None"
   ]
  },
  {
   "cell_type": "code",
   "execution_count": 89,
   "metadata": {},
   "outputs": [],
   "source": [
    "fpr, tpr, thresholds = metrics.roc_curve( y_train_pred_final.Converted, y_train_pred_final.Converted_Prob, drop_intermediate = False )"
   ]
  },
  {
   "cell_type": "code",
   "execution_count": 90,
   "metadata": {},
   "outputs": [
    {
     "data": {
      "image/png": "[encoded data removed]",
      "text/plain": [
       "<Figure size 360x360 with 1 Axes>"
      ]
     },
     "metadata": {
      "needs_background": "light"
     },
     "output_type": "display_data"
    }
   ],
   "source": [
    "draw_roc(y_train_pred_final.Converted, y_train_pred_final.Converted_Prob)"
   ]
  },
  {
   "cell_type": "code",
   "execution_count": 91,
   "metadata": {},
   "outputs": [
    {
     "data": {
      "text/html": [
       "<div>\n",
       "<style scoped>\n",
       "    .dataframe tbody tr th:only-of-type {\n",
       "        vertical-align: middle;\n",
       "    }\n",
       "\n",
       "    .dataframe tbody tr th {\n",
       "        vertical-align: top;\n",
       "    }\n",
       "\n",
       "    .dataframe thead th {\n",
       "        text-align: right;\n",
       "    }\n",
       "</style>\n",
       "<table border=\"1\" class=\"dataframe\">\n",
       "  <thead>\n",
       "    <tr style=\"text-align: right;\">\n",
       "      <th></th>\n",
       "      <th>Converted</th>\n",
       "      <th>Converted_Prob</th>\n",
       "      <th>Lead Number</th>\n",
       "      <th>predicted</th>\n",
       "      <th>0.0</th>\n",
       "      <th>0.1</th>\n",
       "      <th>0.2</th>\n",
       "      <th>0.3</th>\n",
       "      <th>0.4</th>\n",
       "      <th>0.5</th>\n",
       "      <th>0.6</th>\n",
       "      <th>0.7</th>\n",
       "      <th>0.8</th>\n",
       "      <th>0.9</th>\n",
       "    </tr>\n",
       "  </thead>\n",
       "  <tbody>\n",
       "    <tr>\n",
       "      <th>0</th>\n",
       "      <td>0</td>\n",
       "      <td>0.299013</td>\n",
       "      <td>1871</td>\n",
       "      <td>0</td>\n",
       "      <td>1</td>\n",
       "      <td>1</td>\n",
       "      <td>1</td>\n",
       "      <td>0</td>\n",
       "      <td>0</td>\n",
       "      <td>0</td>\n",
       "      <td>0</td>\n",
       "      <td>0</td>\n",
       "      <td>0</td>\n",
       "      <td>0</td>\n",
       "    </tr>\n",
       "    <tr>\n",
       "      <th>1</th>\n",
       "      <td>0</td>\n",
       "      <td>0.271583</td>\n",
       "      <td>6795</td>\n",
       "      <td>0</td>\n",
       "      <td>1</td>\n",
       "      <td>1</td>\n",
       "      <td>1</td>\n",
       "      <td>0</td>\n",
       "      <td>0</td>\n",
       "      <td>0</td>\n",
       "      <td>0</td>\n",
       "      <td>0</td>\n",
       "      <td>0</td>\n",
       "      <td>0</td>\n",
       "    </tr>\n",
       "    <tr>\n",
       "      <th>2</th>\n",
       "      <td>0</td>\n",
       "      <td>0.393600</td>\n",
       "      <td>3516</td>\n",
       "      <td>0</td>\n",
       "      <td>1</td>\n",
       "      <td>1</td>\n",
       "      <td>1</td>\n",
       "      <td>1</td>\n",
       "      <td>0</td>\n",
       "      <td>0</td>\n",
       "      <td>0</td>\n",
       "      <td>0</td>\n",
       "      <td>0</td>\n",
       "      <td>0</td>\n",
       "    </tr>\n",
       "    <tr>\n",
       "      <th>3</th>\n",
       "      <td>0</td>\n",
       "      <td>0.793319</td>\n",
       "      <td>8105</td>\n",
       "      <td>1</td>\n",
       "      <td>1</td>\n",
       "      <td>1</td>\n",
       "      <td>1</td>\n",
       "      <td>1</td>\n",
       "      <td>1</td>\n",
       "      <td>1</td>\n",
       "      <td>1</td>\n",
       "      <td>1</td>\n",
       "      <td>0</td>\n",
       "      <td>0</td>\n",
       "    </tr>\n",
       "    <tr>\n",
       "      <th>4</th>\n",
       "      <td>0</td>\n",
       "      <td>0.299013</td>\n",
       "      <td>3934</td>\n",
       "      <td>0</td>\n",
       "      <td>1</td>\n",
       "      <td>1</td>\n",
       "      <td>1</td>\n",
       "      <td>0</td>\n",
       "      <td>0</td>\n",
       "      <td>0</td>\n",
       "      <td>0</td>\n",
       "      <td>0</td>\n",
       "      <td>0</td>\n",
       "      <td>0</td>\n",
       "    </tr>\n",
       "  </tbody>\n",
       "</table>\n",
       "</div>"
      ],
      "text/plain": [
       "   Converted  Converted_Prob  Lead Number  predicted  0.0  0.1  0.2  0.3  0.4  \\\n",
       "0          0        0.299013         1871          0    1    1    1    0    0   \n",
       "1          0        0.271583         6795          0    1    1    1    0    0   \n",
       "2          0        0.393600         3516          0    1    1    1    1    0   \n",
       "3          0        0.793319         8105          1    1    1    1    1    1   \n",
       "4          0        0.299013         3934          0    1    1    1    0    0   \n",
       "\n",
       "   0.5  0.6  0.7  0.8  0.9  \n",
       "0    0    0    0    0    0  \n",
       "1    0    0    0    0    0  \n",
       "2    0    0    0    0    0  \n",
       "3    1    1    1    0    0  \n",
       "4    0    0    0    0    0  "
      ]
     },
     "execution_count": 91,
     "metadata": {},
     "output_type": "execute_result"
    }
   ],
   "source": [
    "# Let's create columns with different probability cutoffs \n",
    "numbers = [float(x)/10 for x in range(10)]\n",
    "for i in numbers:\n",
    "    y_train_pred_final[i]= y_train_pred_final.Converted_Prob.map(lambda x: 1 if x > i else 0)\n",
    "y_train_pred_final.head()"
   ]
  },
  {
   "cell_type": "code",
   "execution_count": 92,
   "metadata": {},
   "outputs": [
    {
     "name": "stdout",
     "output_type": "stream",
     "text": [
      "     prob  accuracy     sensi     speci\n",
      "0.0   0.0  0.381262  1.000000  0.000000\n",
      "0.1   0.1  0.591373  0.979319  0.352324\n",
      "0.2   0.2  0.761286  0.915653  0.666167\n",
      "0.3   0.3  0.798237  0.832522  0.777111\n",
      "0.4   0.4  0.812925  0.763179  0.843578\n",
      "0.5   0.5  0.816172  0.700324  0.887556\n",
      "0.6   0.6  0.806741  0.632198  0.914293\n",
      "0.7   0.7  0.783859  0.520681  0.946027\n",
      "0.8   0.8  0.752628  0.400649  0.969515\n",
      "0.9   0.9  0.719388  0.286294  0.986257\n"
     ]
    }
   ],
   "source": [
    "# Now let's calculate accuracy sensitivity and specificity for various probability cutoffs.\n",
    "cutoff_df = pd.DataFrame( columns = ['prob','accuracy','sensi','speci'])\n",
    "\n",
    "\n",
    "# TP = confusion[1,1] # true positive \n",
    "# TN = confusion[0,0] # true negatives\n",
    "# FP = confusion[0,1] # false positives\n",
    "# FN = confusion[1,0] # false negatives\n",
    "\n",
    "num = [0.0,0.1,0.2,0.3,0.4,0.5,0.6,0.7,0.8,0.9]\n",
    "for i in num:\n",
    "    cm1 = metrics.confusion_matrix(y_train_pred_final.Converted, y_train_pred_final[i] )\n",
    "    total1=sum(sum(cm1))\n",
    "    accuracy = (cm1[0,0]+cm1[1,1])/total1\n",
    "    \n",
    "    speci = cm1[0,0]/(cm1[0,0]+cm1[0,1])\n",
    "    sensi = cm1[1,1]/(cm1[1,0]+cm1[1,1])\n",
    "    cutoff_df.loc[i] =[ i ,accuracy,sensi,speci]\n",
    "print(cutoff_df)"
   ]
  },
  {
   "cell_type": "code",
   "execution_count": 93,
   "metadata": {},
   "outputs": [
    {
     "data": {
      "image/png": "[encoded data removed]",
      "text/plain": [
       "<Figure size 432x288 with 1 Axes>"
      ]
     },
     "metadata": {
      "needs_background": "light"
     },
     "output_type": "display_data"
    }
   ],
   "source": [
    "# Let's plot accuracy sensitivity and specificity for various probabilities.\n",
    "cutoff_df.plot.line(x='prob', y=['accuracy','sensi','speci'])\n",
    "plt.show()"
   ]
  },
  {
   "cell_type": "code",
   "execution_count": 94,
   "metadata": {},
   "outputs": [],
   "source": [
    "#### From the curve above, 0.38 is the optimum point to take it as a cutoff probability."
   ]
  },
  {
   "cell_type": "code",
   "execution_count": 95,
   "metadata": {},
   "outputs": [
    {
     "data": {
      "text/html": [
       "<div>\n",
       "<style scoped>\n",
       "    .dataframe tbody tr th:only-of-type {\n",
       "        vertical-align: middle;\n",
       "    }\n",
       "\n",
       "    .dataframe tbody tr th {\n",
       "        vertical-align: top;\n",
       "    }\n",
       "\n",
       "    .dataframe thead th {\n",
       "        text-align: right;\n",
       "    }\n",
       "</style>\n",
       "<table border=\"1\" class=\"dataframe\">\n",
       "  <thead>\n",
       "    <tr style=\"text-align: right;\">\n",
       "      <th></th>\n",
       "      <th>Converted</th>\n",
       "      <th>Converted_Prob</th>\n",
       "      <th>Lead Number</th>\n",
       "      <th>predicted</th>\n",
       "      <th>0.0</th>\n",
       "      <th>0.1</th>\n",
       "      <th>0.2</th>\n",
       "      <th>0.3</th>\n",
       "      <th>0.4</th>\n",
       "      <th>0.5</th>\n",
       "      <th>0.6</th>\n",
       "      <th>0.7</th>\n",
       "      <th>0.8</th>\n",
       "      <th>0.9</th>\n",
       "      <th>final_predicted</th>\n",
       "    </tr>\n",
       "  </thead>\n",
       "  <tbody>\n",
       "    <tr>\n",
       "      <th>0</th>\n",
       "      <td>0</td>\n",
       "      <td>0.299013</td>\n",
       "      <td>1871</td>\n",
       "      <td>0</td>\n",
       "      <td>1</td>\n",
       "      <td>1</td>\n",
       "      <td>1</td>\n",
       "      <td>0</td>\n",
       "      <td>0</td>\n",
       "      <td>0</td>\n",
       "      <td>0</td>\n",
       "      <td>0</td>\n",
       "      <td>0</td>\n",
       "      <td>0</td>\n",
       "      <td>0</td>\n",
       "    </tr>\n",
       "    <tr>\n",
       "      <th>1</th>\n",
       "      <td>0</td>\n",
       "      <td>0.271583</td>\n",
       "      <td>6795</td>\n",
       "      <td>0</td>\n",
       "      <td>1</td>\n",
       "      <td>1</td>\n",
       "      <td>1</td>\n",
       "      <td>0</td>\n",
       "      <td>0</td>\n",
       "      <td>0</td>\n",
       "      <td>0</td>\n",
       "      <td>0</td>\n",
       "      <td>0</td>\n",
       "      <td>0</td>\n",
       "      <td>0</td>\n",
       "    </tr>\n",
       "    <tr>\n",
       "      <th>2</th>\n",
       "      <td>0</td>\n",
       "      <td>0.393600</td>\n",
       "      <td>3516</td>\n",
       "      <td>0</td>\n",
       "      <td>1</td>\n",
       "      <td>1</td>\n",
       "      <td>1</td>\n",
       "      <td>1</td>\n",
       "      <td>0</td>\n",
       "      <td>0</td>\n",
       "      <td>0</td>\n",
       "      <td>0</td>\n",
       "      <td>0</td>\n",
       "      <td>0</td>\n",
       "      <td>1</td>\n",
       "    </tr>\n",
       "    <tr>\n",
       "      <th>3</th>\n",
       "      <td>0</td>\n",
       "      <td>0.793319</td>\n",
       "      <td>8105</td>\n",
       "      <td>1</td>\n",
       "      <td>1</td>\n",
       "      <td>1</td>\n",
       "      <td>1</td>\n",
       "      <td>1</td>\n",
       "      <td>1</td>\n",
       "      <td>1</td>\n",
       "      <td>1</td>\n",
       "      <td>1</td>\n",
       "      <td>0</td>\n",
       "      <td>0</td>\n",
       "      <td>1</td>\n",
       "    </tr>\n",
       "    <tr>\n",
       "      <th>4</th>\n",
       "      <td>0</td>\n",
       "      <td>0.299013</td>\n",
       "      <td>3934</td>\n",
       "      <td>0</td>\n",
       "      <td>1</td>\n",
       "      <td>1</td>\n",
       "      <td>1</td>\n",
       "      <td>0</td>\n",
       "      <td>0</td>\n",
       "      <td>0</td>\n",
       "      <td>0</td>\n",
       "      <td>0</td>\n",
       "      <td>0</td>\n",
       "      <td>0</td>\n",
       "      <td>0</td>\n",
       "    </tr>\n",
       "  </tbody>\n",
       "</table>\n",
       "</div>"
      ],
      "text/plain": [
       "   Converted  Converted_Prob  Lead Number  predicted  0.0  0.1  0.2  0.3  0.4  \\\n",
       "0          0        0.299013         1871          0    1    1    1    0    0   \n",
       "1          0        0.271583         6795          0    1    1    1    0    0   \n",
       "2          0        0.393600         3516          0    1    1    1    1    0   \n",
       "3          0        0.793319         8105          1    1    1    1    1    1   \n",
       "4          0        0.299013         3934          0    1    1    1    0    0   \n",
       "\n",
       "   0.5  0.6  0.7  0.8  0.9  final_predicted  \n",
       "0    0    0    0    0    0                0  \n",
       "1    0    0    0    0    0                0  \n",
       "2    0    0    0    0    0                1  \n",
       "3    1    1    1    0    0                1  \n",
       "4    0    0    0    0    0                0  "
      ]
     },
     "execution_count": 95,
     "metadata": {},
     "output_type": "execute_result"
    }
   ],
   "source": [
    "y_train_pred_final['final_predicted'] = y_train_pred_final.Converted_Prob.map( lambda x: 1 if x > 0.38 else 0)\n",
    "\n",
    "y_train_pred_final.head()"
   ]
  },
  {
   "cell_type": "code",
   "execution_count": 96,
   "metadata": {},
   "outputs": [
    {
     "data": {
      "text/plain": [
       "0.8124613481756339"
      ]
     },
     "execution_count": 96,
     "metadata": {},
     "output_type": "execute_result"
    }
   ],
   "source": [
    "# Let's check the overall accuracy.\n",
    "metrics.accuracy_score(y_train_pred_final.Converted, y_train_pred_final.final_predicted)"
   ]
  },
  {
   "cell_type": "code",
   "execution_count": 97,
   "metadata": {},
   "outputs": [
    {
     "data": {
      "text/plain": [
       "array([[3341,  661],\n",
       "       [ 552, 1914]])"
      ]
     },
     "execution_count": 97,
     "metadata": {},
     "output_type": "execute_result"
    }
   ],
   "source": [
    "confusion2 = metrics.confusion_matrix(y_train_pred_final.Converted, y_train_pred_final.final_predicted )\n",
    "confusion2"
   ]
  },
  {
   "cell_type": "code",
   "execution_count": 98,
   "metadata": {},
   "outputs": [],
   "source": [
    "TP = confusion2[1,1] # true positive \n",
    "TN = confusion2[0,0] # true negatives\n",
    "FP = confusion2[0,1] # false positives\n",
    "FN = confusion2[1,0] # false negatives"
   ]
  },
  {
   "cell_type": "code",
   "execution_count": 99,
   "metadata": {},
   "outputs": [
    {
     "data": {
      "text/plain": [
       "0.7761557177615572"
      ]
     },
     "execution_count": 99,
     "metadata": {},
     "output_type": "execute_result"
    }
   ],
   "source": [
    "# Let's see the sensitivity of our logistic regression model\n",
    "TP / float(TP+FN)"
   ]
  },
  {
   "cell_type": "code",
   "execution_count": 100,
   "metadata": {},
   "outputs": [
    {
     "data": {
      "text/plain": [
       "0.834832583708146"
      ]
     },
     "execution_count": 100,
     "metadata": {},
     "output_type": "execute_result"
    }
   ],
   "source": [
    "# Let us calculate specificity\n",
    "TN / float(TN+FP)"
   ]
  },
  {
   "cell_type": "code",
   "execution_count": 101,
   "metadata": {},
   "outputs": [
    {
     "name": "stdout",
     "output_type": "stream",
     "text": [
      "0.16516741629185408\n"
     ]
    }
   ],
   "source": [
    "\n",
    "print(FP/ float(TN+FP))"
   ]
  },
  {
   "cell_type": "code",
   "execution_count": 102,
   "metadata": {},
   "outputs": [
    {
     "name": "stdout",
     "output_type": "stream",
     "text": [
      "0.7433009708737864\n"
     ]
    }
   ],
   "source": [
    "# Positive predictive value \n",
    "print (TP / float(TP+FP))"
   ]
  },
  {
   "cell_type": "code",
   "execution_count": 103,
   "metadata": {},
   "outputs": [
    {
     "name": "stdout",
     "output_type": "stream",
     "text": [
      "0.8582070382738248\n"
     ]
    }
   ],
   "source": [
    "# Negative predictive value\n",
    "print (TN / float(TN+ FN))"
   ]
  },
  {
   "cell_type": "code",
   "execution_count": 104,
   "metadata": {},
   "outputs": [],
   "source": [
    "### Precision and recall tradeoff"
   ]
  },
  {
   "cell_type": "code",
   "execution_count": 105,
   "metadata": {},
   "outputs": [
    {
     "data": {
      "text/plain": [
       "(0       0\n",
       " 1       0\n",
       " 2       0\n",
       " 3       0\n",
       " 4       0\n",
       "        ..\n",
       " 6463    1\n",
       " 6464    1\n",
       " 6465    1\n",
       " 6466    0\n",
       " 6467    0\n",
       " Name: Converted, Length: 6468, dtype: int64,\n",
       " 0       0\n",
       " 1       0\n",
       " 2       0\n",
       " 3       1\n",
       " 4       0\n",
       "        ..\n",
       " 6463    1\n",
       " 6464    1\n",
       " 6465    0\n",
       " 6466    0\n",
       " 6467    0\n",
       " Name: predicted, Length: 6468, dtype: int64)"
      ]
     },
     "execution_count": 105,
     "metadata": {},
     "output_type": "execute_result"
    }
   ],
   "source": [
    "y_train_pred_final.Converted, y_train_pred_final.predicted"
   ]
  },
  {
   "cell_type": "code",
   "execution_count": 106,
   "metadata": {},
   "outputs": [],
   "source": [
    "p, r, thresholds = precision_recall_curve(y_train_pred_final.Converted, y_train_pred_final.Converted_Prob)"
   ]
  },
  {
   "cell_type": "code",
   "execution_count": 107,
   "metadata": {},
   "outputs": [
    {
     "data": {
      "image/png": "[encoded data removed]",
      "text/plain": [
       "<Figure size 432x288 with 1 Axes>"
      ]
     },
     "metadata": {
      "needs_background": "light"
     },
     "output_type": "display_data"
    }
   ],
   "source": [
    "plt.plot(thresholds, p[:-1], \"g-\")\n",
    "plt.plot(thresholds, r[:-1], \"r-\")\n",
    "plt.show()"
   ]
  },
  {
   "cell_type": "markdown",
   "metadata": {},
   "source": [
    "# Making predictions on the test set\n"
   ]
  },
  {
   "cell_type": "code",
   "execution_count": 108,
   "metadata": {},
   "outputs": [],
   "source": [
    "X_test[['TotalVisits','Total Time Spent on Website','Page Views Per Visit']] = scaler.transform(X_test[['TotalVisits','Total Time Spent on Website','Page Views Per Visit']])"
   ]
  },
  {
   "cell_type": "code",
   "execution_count": 109,
   "metadata": {},
   "outputs": [
    {
     "data": {
      "text/html": [
       "<div>\n",
       "<style scoped>\n",
       "    .dataframe tbody tr th:only-of-type {\n",
       "        vertical-align: middle;\n",
       "    }\n",
       "\n",
       "    .dataframe tbody tr th {\n",
       "        vertical-align: top;\n",
       "    }\n",
       "\n",
       "    .dataframe thead th {\n",
       "        text-align: right;\n",
       "    }\n",
       "</style>\n",
       "<table border=\"1\" class=\"dataframe\">\n",
       "  <thead>\n",
       "    <tr style=\"text-align: right;\">\n",
       "      <th></th>\n",
       "      <th>Do Not Email</th>\n",
       "      <th>TotalVisits</th>\n",
       "      <th>Total Time Spent on Website</th>\n",
       "      <th>Page Views Per Visit</th>\n",
       "      <th>Lead Origin_Lead Add Form</th>\n",
       "      <th>Lead Source_Olark Chat</th>\n",
       "      <th>Lead Source_Welingak Website</th>\n",
       "      <th>Last Activity_Had a Phone Conversation</th>\n",
       "      <th>Last Activity_Olark Chat Conversation</th>\n",
       "      <th>Last Activity_SMS Sent</th>\n",
       "      <th>What matters most to you in choosing a course_Unknown</th>\n",
       "      <th>Last Notable Activity_Unreachable</th>\n",
       "      <th>What is your current occupation_Working Professional</th>\n",
       "    </tr>\n",
       "  </thead>\n",
       "  <tbody>\n",
       "    <tr>\n",
       "      <th>4269</th>\n",
       "      <td>0</td>\n",
       "      <td>0.727273</td>\n",
       "      <td>0.444982</td>\n",
       "      <td>1.000000</td>\n",
       "      <td>0</td>\n",
       "      <td>0</td>\n",
       "      <td>0</td>\n",
       "      <td>0</td>\n",
       "      <td>0</td>\n",
       "      <td>1</td>\n",
       "      <td>1</td>\n",
       "      <td>0</td>\n",
       "      <td>0</td>\n",
       "    </tr>\n",
       "    <tr>\n",
       "      <th>2376</th>\n",
       "      <td>0</td>\n",
       "      <td>0.000000</td>\n",
       "      <td>0.000000</td>\n",
       "      <td>0.000000</td>\n",
       "      <td>1</td>\n",
       "      <td>0</td>\n",
       "      <td>0</td>\n",
       "      <td>0</td>\n",
       "      <td>0</td>\n",
       "      <td>1</td>\n",
       "      <td>0</td>\n",
       "      <td>0</td>\n",
       "      <td>0</td>\n",
       "    </tr>\n",
       "    <tr>\n",
       "      <th>7766</th>\n",
       "      <td>0</td>\n",
       "      <td>0.454545</td>\n",
       "      <td>0.025968</td>\n",
       "      <td>0.833333</td>\n",
       "      <td>0</td>\n",
       "      <td>0</td>\n",
       "      <td>0</td>\n",
       "      <td>0</td>\n",
       "      <td>0</td>\n",
       "      <td>0</td>\n",
       "      <td>0</td>\n",
       "      <td>1</td>\n",
       "      <td>1</td>\n",
       "    </tr>\n",
       "    <tr>\n",
       "      <th>9199</th>\n",
       "      <td>0</td>\n",
       "      <td>0.000000</td>\n",
       "      <td>0.000000</td>\n",
       "      <td>0.000000</td>\n",
       "      <td>0</td>\n",
       "      <td>1</td>\n",
       "      <td>0</td>\n",
       "      <td>0</td>\n",
       "      <td>1</td>\n",
       "      <td>0</td>\n",
       "      <td>0</td>\n",
       "      <td>0</td>\n",
       "      <td>0</td>\n",
       "    </tr>\n",
       "    <tr>\n",
       "      <th>4359</th>\n",
       "      <td>0</td>\n",
       "      <td>0.000000</td>\n",
       "      <td>0.000000</td>\n",
       "      <td>0.000000</td>\n",
       "      <td>1</td>\n",
       "      <td>0</td>\n",
       "      <td>0</td>\n",
       "      <td>0</td>\n",
       "      <td>0</td>\n",
       "      <td>0</td>\n",
       "      <td>0</td>\n",
       "      <td>0</td>\n",
       "      <td>0</td>\n",
       "    </tr>\n",
       "  </tbody>\n",
       "</table>\n",
       "</div>"
      ],
      "text/plain": [
       "      Do Not Email  TotalVisits  Total Time Spent on Website  \\\n",
       "4269             0     0.727273                     0.444982   \n",
       "2376             0     0.000000                     0.000000   \n",
       "7766             0     0.454545                     0.025968   \n",
       "9199             0     0.000000                     0.000000   \n",
       "4359             0     0.000000                     0.000000   \n",
       "\n",
       "      Page Views Per Visit  Lead Origin_Lead Add Form  Lead Source_Olark Chat  \\\n",
       "4269              1.000000                          0                       0   \n",
       "2376              0.000000                          1                       0   \n",
       "7766              0.833333                          0                       0   \n",
       "9199              0.000000                          0                       1   \n",
       "4359              0.000000                          1                       0   \n",
       "\n",
       "      Lead Source_Welingak Website  Last Activity_Had a Phone Conversation  \\\n",
       "4269                             0                                       0   \n",
       "2376                             0                                       0   \n",
       "7766                             0                                       0   \n",
       "9199                             0                                       0   \n",
       "4359                             0                                       0   \n",
       "\n",
       "      Last Activity_Olark Chat Conversation  Last Activity_SMS Sent  \\\n",
       "4269                                      0                       1   \n",
       "2376                                      0                       1   \n",
       "7766                                      0                       0   \n",
       "9199                                      1                       0   \n",
       "4359                                      0                       0   \n",
       "\n",
       "      What matters most to you in choosing a course_Unknown  \\\n",
       "4269                                                  1       \n",
       "2376                                                  0       \n",
       "7766                                                  0       \n",
       "9199                                                  0       \n",
       "4359                                                  0       \n",
       "\n",
       "      Last Notable Activity_Unreachable  \\\n",
       "4269                                  0   \n",
       "2376                                  0   \n",
       "7766                                  1   \n",
       "9199                                  0   \n",
       "4359                                  0   \n",
       "\n",
       "      What is your current occupation_Working Professional  \n",
       "4269                                                  0     \n",
       "2376                                                  0     \n",
       "7766                                                  1     \n",
       "9199                                                  0     \n",
       "4359                                                  0     "
      ]
     },
     "execution_count": 109,
     "metadata": {},
     "output_type": "execute_result"
    }
   ],
   "source": [
    "X_test = X_test[col]\n",
    "X_test.head()"
   ]
  },
  {
   "cell_type": "code",
   "execution_count": 110,
   "metadata": {},
   "outputs": [],
   "source": [
    "X_test_sm = sm.add_constant(X_test)"
   ]
  },
  {
   "cell_type": "code",
   "execution_count": 111,
   "metadata": {},
   "outputs": [
    {
     "data": {
      "text/plain": [
       "4269    1\n",
       "2376    1\n",
       "7766    1\n",
       "9199    0\n",
       "4359    1\n",
       "       ..\n",
       "8649    0\n",
       "2152    1\n",
       "7101    0\n",
       "5331    0\n",
       "2960    1\n",
       "Name: Converted, Length: 2772, dtype: int64"
      ]
     },
     "execution_count": 111,
     "metadata": {},
     "output_type": "execute_result"
    }
   ],
   "source": [
    "y_test"
   ]
  },
  {
   "cell_type": "code",
   "execution_count": 113,
   "metadata": {},
   "outputs": [],
   "source": [
    "# Making predictions on the test set"
   ]
  },
  {
   "cell_type": "code",
   "execution_count": 114,
   "metadata": {},
   "outputs": [],
   "source": [
    "y_test_pred = res.predict(X_test_sm)"
   ]
  },
  {
   "cell_type": "code",
   "execution_count": 115,
   "metadata": {},
   "outputs": [
    {
     "data": {
      "text/plain": [
       "4269    0.484147\n",
       "2376    0.925100\n",
       "7766    0.906296\n",
       "9199    0.115743\n",
       "4359    0.765106\n",
       "9186    0.521206\n",
       "1631    0.397299\n",
       "8963    0.172258\n",
       "8007    0.054981\n",
       "5324    0.333478\n",
       "dtype: float64"
      ]
     },
     "execution_count": 115,
     "metadata": {},
     "output_type": "execute_result"
    }
   ],
   "source": [
    "y_test_pred[:10]"
   ]
  },
  {
   "cell_type": "code",
   "execution_count": 116,
   "metadata": {},
   "outputs": [],
   "source": [
    "# Converting y_pred to a dataframe which is an array\n",
    "y_pred_1 = pd.DataFrame(y_test_pred)"
   ]
  },
  {
   "cell_type": "code",
   "execution_count": 117,
   "metadata": {},
   "outputs": [
    {
     "data": {
      "text/html": [
       "<div>\n",
       "<style scoped>\n",
       "    .dataframe tbody tr th:only-of-type {\n",
       "        vertical-align: middle;\n",
       "    }\n",
       "\n",
       "    .dataframe tbody tr th {\n",
       "        vertical-align: top;\n",
       "    }\n",
       "\n",
       "    .dataframe thead th {\n",
       "        text-align: right;\n",
       "    }\n",
       "</style>\n",
       "<table border=\"1\" class=\"dataframe\">\n",
       "  <thead>\n",
       "    <tr style=\"text-align: right;\">\n",
       "      <th></th>\n",
       "      <th>0</th>\n",
       "    </tr>\n",
       "  </thead>\n",
       "  <tbody>\n",
       "    <tr>\n",
       "      <th>4269</th>\n",
       "      <td>0.484147</td>\n",
       "    </tr>\n",
       "    <tr>\n",
       "      <th>2376</th>\n",
       "      <td>0.925100</td>\n",
       "    </tr>\n",
       "    <tr>\n",
       "      <th>7766</th>\n",
       "      <td>0.906296</td>\n",
       "    </tr>\n",
       "    <tr>\n",
       "      <th>9199</th>\n",
       "      <td>0.115743</td>\n",
       "    </tr>\n",
       "    <tr>\n",
       "      <th>4359</th>\n",
       "      <td>0.765106</td>\n",
       "    </tr>\n",
       "  </tbody>\n",
       "</table>\n",
       "</div>"
      ],
      "text/plain": [
       "             0\n",
       "4269  0.484147\n",
       "2376  0.925100\n",
       "7766  0.906296\n",
       "9199  0.115743\n",
       "4359  0.765106"
      ]
     },
     "execution_count": 117,
     "metadata": {},
     "output_type": "execute_result"
    }
   ],
   "source": [
    "# Let's see the head\n",
    "y_pred_1.head()"
   ]
  },
  {
   "cell_type": "code",
   "execution_count": 118,
   "metadata": {},
   "outputs": [],
   "source": [
    "# Converting y_test to dataframe\n",
    "y_test_df = pd.DataFrame(y_test)"
   ]
  },
  {
   "cell_type": "code",
   "execution_count": 119,
   "metadata": {},
   "outputs": [],
   "source": [
    "# Putting CustID to index\n",
    "y_test_df['Lead Number'] = y_test_df.index"
   ]
  },
  {
   "cell_type": "code",
   "execution_count": 120,
   "metadata": {},
   "outputs": [],
   "source": [
    "# Removing index for both dataframes to append them side by side \n",
    "y_pred_1.reset_index(drop=True, inplace=True)\n",
    "y_test_df.reset_index(drop=True, inplace=True)"
   ]
  },
  {
   "cell_type": "code",
   "execution_count": 121,
   "metadata": {},
   "outputs": [],
   "source": [
    "# Appending y_test_df and y_pred_1\n",
    "y_pred_final = pd.concat([y_test_df, y_pred_1],axis=1)"
   ]
  },
  {
   "cell_type": "code",
   "execution_count": 122,
   "metadata": {},
   "outputs": [
    {
     "data": {
      "text/html": [
       "<div>\n",
       "<style scoped>\n",
       "    .dataframe tbody tr th:only-of-type {\n",
       "        vertical-align: middle;\n",
       "    }\n",
       "\n",
       "    .dataframe tbody tr th {\n",
       "        vertical-align: top;\n",
       "    }\n",
       "\n",
       "    .dataframe thead th {\n",
       "        text-align: right;\n",
       "    }\n",
       "</style>\n",
       "<table border=\"1\" class=\"dataframe\">\n",
       "  <thead>\n",
       "    <tr style=\"text-align: right;\">\n",
       "      <th></th>\n",
       "      <th>Converted</th>\n",
       "      <th>Lead Number</th>\n",
       "      <th>0</th>\n",
       "    </tr>\n",
       "  </thead>\n",
       "  <tbody>\n",
       "    <tr>\n",
       "      <th>0</th>\n",
       "      <td>1</td>\n",
       "      <td>4269</td>\n",
       "      <td>0.484147</td>\n",
       "    </tr>\n",
       "    <tr>\n",
       "      <th>1</th>\n",
       "      <td>1</td>\n",
       "      <td>2376</td>\n",
       "      <td>0.925100</td>\n",
       "    </tr>\n",
       "    <tr>\n",
       "      <th>2</th>\n",
       "      <td>1</td>\n",
       "      <td>7766</td>\n",
       "      <td>0.906296</td>\n",
       "    </tr>\n",
       "    <tr>\n",
       "      <th>3</th>\n",
       "      <td>0</td>\n",
       "      <td>9199</td>\n",
       "      <td>0.115743</td>\n",
       "    </tr>\n",
       "    <tr>\n",
       "      <th>4</th>\n",
       "      <td>1</td>\n",
       "      <td>4359</td>\n",
       "      <td>0.765106</td>\n",
       "    </tr>\n",
       "  </tbody>\n",
       "</table>\n",
       "</div>"
      ],
      "text/plain": [
       "   Converted  Lead Number         0\n",
       "0          1         4269  0.484147\n",
       "1          1         2376  0.925100\n",
       "2          1         7766  0.906296\n",
       "3          0         9199  0.115743\n",
       "4          1         4359  0.765106"
      ]
     },
     "execution_count": 122,
     "metadata": {},
     "output_type": "execute_result"
    }
   ],
   "source": [
    "y_pred_final.head()"
   ]
  },
  {
   "cell_type": "code",
   "execution_count": 123,
   "metadata": {},
   "outputs": [],
   "source": [
    "# Renaming the column \n",
    "y_pred_final= y_pred_final.rename(columns={ 0 : 'Converted_Prob'})"
   ]
  },
  {
   "cell_type": "code",
   "execution_count": 124,
   "metadata": {},
   "outputs": [],
   "source": [
    "# Rearranging the columns\n",
    "y_pred_final = y_pred_final.reindex(['Lead Number','Converted','Converted_Prob'], axis=1)"
   ]
  },
  {
   "cell_type": "code",
   "execution_count": 125,
   "metadata": {},
   "outputs": [
    {
     "data": {
      "text/html": [
       "<div>\n",
       "<style scoped>\n",
       "    .dataframe tbody tr th:only-of-type {\n",
       "        vertical-align: middle;\n",
       "    }\n",
       "\n",
       "    .dataframe tbody tr th {\n",
       "        vertical-align: top;\n",
       "    }\n",
       "\n",
       "    .dataframe thead th {\n",
       "        text-align: right;\n",
       "    }\n",
       "</style>\n",
       "<table border=\"1\" class=\"dataframe\">\n",
       "  <thead>\n",
       "    <tr style=\"text-align: right;\">\n",
       "      <th></th>\n",
       "      <th>Lead Number</th>\n",
       "      <th>Converted</th>\n",
       "      <th>Converted_Prob</th>\n",
       "    </tr>\n",
       "  </thead>\n",
       "  <tbody>\n",
       "    <tr>\n",
       "      <th>0</th>\n",
       "      <td>4269</td>\n",
       "      <td>1</td>\n",
       "      <td>0.484147</td>\n",
       "    </tr>\n",
       "    <tr>\n",
       "      <th>1</th>\n",
       "      <td>2376</td>\n",
       "      <td>1</td>\n",
       "      <td>0.925100</td>\n",
       "    </tr>\n",
       "    <tr>\n",
       "      <th>2</th>\n",
       "      <td>7766</td>\n",
       "      <td>1</td>\n",
       "      <td>0.906296</td>\n",
       "    </tr>\n",
       "    <tr>\n",
       "      <th>3</th>\n",
       "      <td>9199</td>\n",
       "      <td>0</td>\n",
       "      <td>0.115743</td>\n",
       "    </tr>\n",
       "    <tr>\n",
       "      <th>4</th>\n",
       "      <td>4359</td>\n",
       "      <td>1</td>\n",
       "      <td>0.765106</td>\n",
       "    </tr>\n",
       "  </tbody>\n",
       "</table>\n",
       "</div>"
      ],
      "text/plain": [
       "   Lead Number  Converted  Converted_Prob\n",
       "0         4269          1        0.484147\n",
       "1         2376          1        0.925100\n",
       "2         7766          1        0.906296\n",
       "3         9199          0        0.115743\n",
       "4         4359          1        0.765106"
      ]
     },
     "execution_count": 125,
     "metadata": {},
     "output_type": "execute_result"
    }
   ],
   "source": [
    "# Let's see the head of y_pred_final\n",
    "y_pred_final.head()"
   ]
  },
  {
   "cell_type": "code",
   "execution_count": 126,
   "metadata": {},
   "outputs": [],
   "source": [
    "y_pred_final['final_predicted'] = y_pred_final.Converted_Prob.map(lambda x: 1 if x > 0.38 else 0)"
   ]
  },
  {
   "cell_type": "code",
   "execution_count": 127,
   "metadata": {},
   "outputs": [
    {
     "data": {
      "text/html": [
       "<div>\n",
       "<style scoped>\n",
       "    .dataframe tbody tr th:only-of-type {\n",
       "        vertical-align: middle;\n",
       "    }\n",
       "\n",
       "    .dataframe tbody tr th {\n",
       "        vertical-align: top;\n",
       "    }\n",
       "\n",
       "    .dataframe thead th {\n",
       "        text-align: right;\n",
       "    }\n",
       "</style>\n",
       "<table border=\"1\" class=\"dataframe\">\n",
       "  <thead>\n",
       "    <tr style=\"text-align: right;\">\n",
       "      <th></th>\n",
       "      <th>Lead Number</th>\n",
       "      <th>Converted</th>\n",
       "      <th>Converted_Prob</th>\n",
       "      <th>final_predicted</th>\n",
       "    </tr>\n",
       "  </thead>\n",
       "  <tbody>\n",
       "    <tr>\n",
       "      <th>0</th>\n",
       "      <td>4269</td>\n",
       "      <td>1</td>\n",
       "      <td>0.484147</td>\n",
       "      <td>1</td>\n",
       "    </tr>\n",
       "    <tr>\n",
       "      <th>1</th>\n",
       "      <td>2376</td>\n",
       "      <td>1</td>\n",
       "      <td>0.925100</td>\n",
       "      <td>1</td>\n",
       "    </tr>\n",
       "    <tr>\n",
       "      <th>2</th>\n",
       "      <td>7766</td>\n",
       "      <td>1</td>\n",
       "      <td>0.906296</td>\n",
       "      <td>1</td>\n",
       "    </tr>\n",
       "    <tr>\n",
       "      <th>3</th>\n",
       "      <td>9199</td>\n",
       "      <td>0</td>\n",
       "      <td>0.115743</td>\n",
       "      <td>0</td>\n",
       "    </tr>\n",
       "    <tr>\n",
       "      <th>4</th>\n",
       "      <td>4359</td>\n",
       "      <td>1</td>\n",
       "      <td>0.765106</td>\n",
       "      <td>1</td>\n",
       "    </tr>\n",
       "  </tbody>\n",
       "</table>\n",
       "</div>"
      ],
      "text/plain": [
       "   Lead Number  Converted  Converted_Prob  final_predicted\n",
       "0         4269          1        0.484147                1\n",
       "1         2376          1        0.925100                1\n",
       "2         7766          1        0.906296                1\n",
       "3         9199          0        0.115743                0\n",
       "4         4359          1        0.765106                1"
      ]
     },
     "execution_count": 127,
     "metadata": {},
     "output_type": "execute_result"
    }
   ],
   "source": [
    "y_pred_final.head()"
   ]
  },
  {
   "cell_type": "code",
   "execution_count": 128,
   "metadata": {},
   "outputs": [
    {
     "data": {
      "text/plain": [
       "0.8156565656565656"
      ]
     },
     "execution_count": 128,
     "metadata": {},
     "output_type": "execute_result"
    }
   ],
   "source": [
    "# Let's check the overall accuracy.\n",
    "metrics.accuracy_score(y_pred_final.Converted, y_pred_final.final_predicted)"
   ]
  },
  {
   "cell_type": "code",
   "execution_count": 129,
   "metadata": {},
   "outputs": [
    {
     "data": {
      "text/plain": [
       "array([[1408,  269],\n",
       "       [ 242,  853]])"
      ]
     },
     "execution_count": 129,
     "metadata": {},
     "output_type": "execute_result"
    }
   ],
   "source": [
    "confusion2 = metrics.confusion_matrix(y_pred_final.Converted, y_pred_final.final_predicted )\n",
    "confusion2"
   ]
  },
  {
   "cell_type": "code",
   "execution_count": 130,
   "metadata": {},
   "outputs": [],
   "source": [
    "TP = confusion2[1,1] # true positive \n",
    "TN = confusion2[0,0] # true negatives\n",
    "FP = confusion2[0,1] # false positives\n",
    "FN = confusion2[1,0] # false negatives"
   ]
  },
  {
   "cell_type": "code",
   "execution_count": 131,
   "metadata": {},
   "outputs": [
    {
     "data": {
      "text/plain": [
       "0.7789954337899543"
      ]
     },
     "execution_count": 131,
     "metadata": {},
     "output_type": "execute_result"
    }
   ],
   "source": [
    "# Let's see the sensitivity of our logistic regression model\n",
    "TP / float(TP+FN)"
   ]
  },
  {
   "cell_type": "code",
   "execution_count": 132,
   "metadata": {},
   "outputs": [
    {
     "data": {
      "text/plain": [
       "0.8395945140131187"
      ]
     },
     "execution_count": 132,
     "metadata": {},
     "output_type": "execute_result"
    }
   ],
   "source": [
    "# Let us calculate \n",
    "\n",
    "\n",
    "TN / float(TN+FP)"
   ]
  },
  {
   "cell_type": "code",
   "execution_count": null,
   "metadata": {},
   "outputs": [],
   "source": []
  }
 ],
 "metadata": {
  "kernelspec": {
   "display_name": "Python 3",
   "language": "python",
   "name": "python3"
  },
  "language_info": {
   "codemirror_mode": {
    "name": "ipython",
    "version": 3
   },
   "file_extension": ".py",
   "mimetype": "text/x-python",
   "name": "python",
   "nbconvert_exporter": "python",
   "pygments_lexer": "ipython3",
   "version": "3.8.5"
  }
 },
 "nbformat": 4,
 "nbformat_minor": 4
}
